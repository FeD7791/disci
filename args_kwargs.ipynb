{
 "cells": [
  {
   "cell_type": "markdown",
   "metadata": {},
   "source": [
    "# Repaso rapido de python\n",
    "\n",
    "En una funcion de python basicamente tenemos dos tipos de argumentos:\n",
    "\n",
    "1. Argumentos posicionales, que son los primeros que verifica python y se deben introducir en el orden correcto de la posiscion requerida.\n",
    "2. keyword Arguments (Argumentos de palabra clave). Son basicamente argumentos que tienen un nombre\n"
   ]
  },
  {
   "cell_type": "code",
   "execution_count": 6,
   "metadata": {},
   "outputs": [
    {
     "name": "stdout",
     "output_type": "stream",
     "text": [
      "elemento1 elemento2\n",
      "elemento2 elemento1\n"
     ]
    }
   ],
   "source": [
    "#Dependiendo como sea llamada , esta funcion acepta argumentos posicionales como argumentos keyword\n",
    "def funcion_1(elemento1,elemento2):\n",
    "    '''Dependiendo como sea llamada , esta funcion acepta argumentos \n",
    "    posicionales como argumentos keyword'''\n",
    "    print(elemento1,elemento2)\n",
    "\n",
    "#Llamo como posicional\n",
    "funcion_1('elemento1','elemento2')\n",
    "\n",
    "#Llamo como keyword\n",
    "funcion_1(elemento2='elemento1',elemento1='elemento2')\n",
    "\n"
   ]
  },
  {
   "cell_type": "markdown",
   "metadata": {},
   "source": [
    "Una funcion en python puede recibir un numero arbitrario de parametros tanto posicionales como keyword, para ello lo que utilizamos es el asterisco * que indica que se recibiran argumentos posicionales y doble asterisco ** para indicar que se reciben cualquier numero de atributos keyword.\n",
    "\n",
    "- *args : Se reciben cualquier numero de atributos posicionales en una tupla\n",
    "- **kwargs : Se reciben cualquier numero de keyword arguments en un diccionario\n",
    "\n",
    "No es obligatorio el nombre args o kwargs, podes usar cualquier nombre o simplemente * y **."
   ]
  },
  {
   "cell_type": "code",
   "execution_count": 24,
   "metadata": {},
   "outputs": [
    {
     "name": "stdout",
     "output_type": "stream",
     "text": [
      "1 2 (4,) {}\n",
      "1 2 4\n",
      "1 2 (4,) {'localidad': 7}\n",
      "1 2 4 localidad\n",
      "{'first_name': 'albert', 'last_name': 'einstein', 'location': 'princeton', 'field': 'physics'}\n"
     ]
    }
   ],
   "source": [
    "def my_funcion(a,b,*args,**kwargs):\n",
    "    ''' En esta parte va la documentacion de la funcion '''\n",
    "    # print(a,b,*args,**kwargs) Esto no funciona\n",
    "    print(a,b,args,kwargs)\n",
    "    print(a,b,*args,*kwargs)\n",
    "\n",
    "my_funcion(1,2,4)\n",
    "\n",
    "my_funcion(1,2,4,localidad=7)\n",
    "\n",
    "\n",
    "# Un ejemplo mas intereante, supongamos que queremos cargar los datos de una persona\n",
    "\n",
    "def build_profile(first, last, **user_info):\n",
    "    \"\"\"Build a dictionary containing everything we know about a user.\"\"\"\n",
    "    profile = {}\n",
    "    profile['first_name'] = first\n",
    "    profile['last_name'] = last\n",
    "    for key, value in user_info.items():\n",
    "        profile[key] = value\n",
    "    return profile\n",
    "user_profile = build_profile('albert', 'einstein',\n",
    "                            location='princeton',\n",
    "                            field='physics')\n",
    "print(user_profile)\n",
    "\n"
   ]
  },
  {
   "cell_type": "markdown",
   "metadata": {},
   "source": [
    "## Significado real de * y **\n",
    "\n",
    "<a href='https://pythonhow.com/what/what-does-double-star-asterisk-and-star-asterisk-do-for-parameters/#:~:text=Overall%2C%20the%20*%20and%20**%20symbols,a%20function%20definition%20or%20call.'>SOURCE</a>\n",
    "\n",
    "*Overall, the * and ** symbols are used to define and unpack variable-length argument lists and dictionaries of keyword arguments in Python. They are a convenient way to handle a variable number of arguments in a function definition or call.*\n",
    "\n",
    "Concretamente estas son funciones desenpacadoras: * desenpaca una lista y ** desenpaca un diccionario."
   ]
  },
  {
   "cell_type": "code",
   "execution_count": 14,
   "metadata": {},
   "outputs": [
    {
     "name": "stdout",
     "output_type": "stream",
     "text": [
      "1 2 3 4 5 6\n",
      "<map object at 0x00000232EA189BA0>\n"
     ]
    }
   ],
   "source": [
    "a = [1,2,3,4,5,6]\n",
    "b = {'name':'pikachu','attk':17,'def':5,'speed':50}\n",
    "print(*a)\n",
    "\n",
    "\n",
    "##El otro operador ** solo veo que se pueda usar en el contexto de una funcion"
   ]
  },
  {
   "cell_type": "markdown",
   "metadata": {},
   "source": [
    "### Aplicacion de kwargs y desempaque en una funcion\n",
    "\n",
    "Esto esta implementado en archivo tools.py del proyecto de steam reviews. Veamos la funcion concretamente:"
   ]
  },
  {
   "cell_type": "code",
   "execution_count": null,
   "metadata": {},
   "outputs": [],
   "source": [
    "def game_analysis(id, n_reviews, **kwargs):\n",
    "    reviews = id_reviews_scrapper(id=id, n_rev_per_game=n_reviews)\n",
    "    rev_df = pd.DataFrame(review_builder(reviews))\n",
    "\n",
    "    params = {\n",
    "        'min_df':3, \n",
    "        'stop_words':'english',\n",
    "        'lowercase':True,\n",
    "        'strip_accents':'ascii',\n",
    "        'ngram_range':(1,3)\n",
    "        }\n",
    "    \n",
    "    for key,value in kwargs.items():\n",
    "        params[key] = value\n",
    "\n",
    "    tfidf = TfidfVectorizer(**params)\n",
    "\n",
    "# def suma(a,b):\n",
    "#     return a+b \n",
    "\n",
    "# sumar = {'a':1, 'b':9}\n",
    "# print(**sumar)"
   ]
  },
  {
   "cell_type": "markdown",
   "metadata": {},
   "source": [
    "Aca lo que estamos haciendo es lo siguiente:\n",
    "\n",
    "- TfidfVectorizer() utiliza una serie de parametros, que los pusimos en el diccionario params. Entonces al ejecutar la funcion esta se hara con los valores por defecto en params. Esto responde una vieja pregunta de si puedo pasar un diccionario con los inputs a una funcion y la respuesta es si. Entonces esto es similar a hacer lo que esta comentado al final.\n",
    "\n",
    "- Estoy usuando la funcion TfidfVectorizer() dentro de otra funcion, en este caso game_analysis() la cual ya tiene dos argumentos id, n_reviews.quisiera ver una manera simple de a demas de dar los argumentos id, y n_reviews , tambien dar ALGUNOS argumentos a TfidfVectorizer() dependiendo de si me hace falta.\n",
    "\n",
    "- Como dentro de game_analysis() tenemos a TfidfVectorizer(**params) si no proveemos argumentos entonces TfidfVectorizer se ejecuta con los parametros por defecto.\n",
    "    - Es en esta parte donde entra **kwargs mas el ciclo for. Si hay elementos aca , estos reemplazaran los valores en el diccionario\n",
    "\n",
    "En conclusion la de arriba es una excelente manera de dar argumentos opcionales a una funcion que esta dentro de otra funcion. Es fundamental agregar la documentacion apropiada para que se entienda cuales son los kwargs que hay que darle.\n",
    "   \n"
   ]
  },
  {
   "cell_type": "markdown",
   "metadata": {},
   "source": [
    "## Proveer un argumento opcional\n",
    "\n",
    "Podemos proveer un argumento posicional o keyword opcional definiendo un argumento con valor vacio.\n",
    "\n",
    "Sin embargo esta opcion es poco interesante siendo que podemos almacenar cualquier cantidad de argumentos en * y ** y solo basta acceder a ellos. De todas maneras esta notacion podria presentarse y vale la pena reconocerla."
   ]
  },
  {
   "cell_type": "code",
   "execution_count": 26,
   "metadata": {},
   "outputs": [
    {
     "name": "stdout",
     "output_type": "stream",
     "text": [
      "1 2 3\n",
      "1 2 estrella\n"
     ]
    }
   ],
   "source": [
    "def optional_args(a,b,optional_arg=''):\n",
    "    print(a,b,optional_arg)\n",
    "\n",
    "optional_args(1,2,3)\n",
    "optional_args(1,2,'estrella')"
   ]
  },
  {
   "cell_type": "markdown",
   "metadata": {},
   "source": [
    "### Importar todas las funciones de un modulo\n",
    "\n",
    "Para importar todas las funciones de un modulo debemos escribir:\n",
    "\n",
    "from **modulo** import *\n",
    "\n",
    "Como puede verse, el asterisco denota que se deben importar todas las funciones existentes en el mismo. \n",
    "\n",
    "Como ya sabemos si solo queremos una sola funcion lo especificamos:\n",
    "\n",
    "from **modulo** import **funcion**"
   ]
  }
 ],
 "metadata": {
  "kernelspec": {
   "display_name": "Python 3",
   "language": "python",
   "name": "python3"
  },
  "language_info": {
   "codemirror_mode": {
    "name": "ipython",
    "version": 3
   },
   "file_extension": ".py",
   "mimetype": "text/x-python",
   "name": "python",
   "nbconvert_exporter": "python",
   "pygments_lexer": "ipython3",
   "version": "3.11.3"
  },
  "orig_nbformat": 4
 },
 "nbformat": 4,
 "nbformat_minor": 2
}
