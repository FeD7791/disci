{
 "cells": [
  {
   "cell_type": "markdown",
   "metadata": {},
   "source": [
    "# Decoradores en python\n",
    "\n",
    "Fuente muy buena: <a href='https://realpython.com/primer-on-python-decorators/'>Link</a>\n",
    "\n",
    "Que es un decorador?\n",
    "\n",
    "Un decorador es una funcion **d** que recibe como parametro otra funcion **a** y retorna otra funcion **r**.\n",
    "\n",
    "- **d** : Funcion decoradora\n",
    "- **a** : Funcion a decorar\n",
    "- **r** : Funcion decorada (Basicamente la funcion **a** mas otras cosas)\n",
    "\n",
    "Bajo la lupa de esta definicion entonces los decoradores nos van a permitir cambiar el comportamiento de una funcion sin modificarla permitiendonos ademas reutilizarla mucho mejor."
   ]
  },
  {
   "cell_type": "code",
   "execution_count": null,
   "metadata": {},
   "outputs": [],
   "source": [
    "#Definicion de decorador\n",
    "\n",
    "def d(a):\n",
    "    def r(*args,**kwargs):\n",
    "        a(*args,**kwargs)\n",
    "    return r"
   ]
  },
  {
   "cell_type": "markdown",
   "metadata": {},
   "source": [
    "Concretamente la sintaxis que vamos a tener es la siguiente. Supongamos que tenemos una funcion decoradora denominada 'decorate', entonces si la queremos utilizar para decorar a otra funcion escribimos:\n",
    "\n",
    "@decorate\n",
    "def target():\n",
    "    print('running target()')\n",
    "\n",
    "Esto es exactamente lo mismo que hacer:\n",
    "def target():\n",
    "    print('running target()') \n",
    "target = decorate(target)\n",
    "\n",
    "Esto produce como resultado que target este ligada a cualquier sea la funcion que sea retornada por el decorador.\n",
    "\n",
    "Veamos un ejemplo:"
   ]
  },
  {
   "cell_type": "code",
   "execution_count": 3,
   "metadata": {},
   "outputs": [
    {
     "name": "stdout",
     "output_type": "stream",
     "text": [
      "This is a result of the target function\n",
      "This is a feature added to your function\n"
     ]
    },
    {
     "data": {
      "text/plain": [
       "<function __main__.deco.<locals>.add_feature(*args, **kwargs)>"
      ]
     },
     "execution_count": 3,
     "metadata": {},
     "output_type": "execute_result"
    }
   ],
   "source": [
    "def deco(func):\n",
    "    def add_feature(*args,**kwargs):\n",
    "        func(*args,**kwargs)\n",
    "        print('This is a feature added to your function')\n",
    "    return add_feature\n",
    "\n",
    "@deco \n",
    "def target_fun():\n",
    "    print('This is a result of the target function')\n",
    "\n",
    "#Llamemos a la funcion\n",
    "target_fun()\n",
    "#Veamos los contenidos de la funcion\n",
    "target_fun"
   ]
  },
  {
   "cell_type": "markdown",
   "metadata": {},
   "source": [
    "Una observacion relevante es que el decorador nos retorta una nueva funcion, la original mas las features agregadas bajo el nombre original de la funcion. Entonces cuando llamamos a la funcion tras aplicarle el decorador la misma aparece con las features agregadas.\n",
    "\n",
    "*Strictly speaking, decorators are just syntactic sugar. As we just saw, you can always simply call a decorator like any regular callable, passing another function. Sometimes that is actually convenient, especially when doing metaprogramming—changing program behavior at runtime.*\n",
    "\n",
    "Como sumario para los decoradores podemos agregar que:\n",
    "\n",
    "- Un decorador es una funcion u otro *callable*\n",
    "- Un decorador puede reemplazar la funcion decorada con otra distinta\n",
    "- Los decoradores son ejecutados inmediatamente cuando un modulo es cargado\n",
    "\n",
    "Otro cosa importante es que si tenemos decoradores en un modulo, estos se ejecutan en cuanto importamos el modulo. Las funciones decoradas solamente funcionan cuando son explicitamente llamadas. Esto remarca la diferencia entre elementos que se ejecutan en tiempo de importacion y tiempo de corrida.\n",
    "\n",
    "Enfatizamos que, los decoradores pueden o no cambiar la funcion que se quiere decorar. Veamos el siguiente ejemplo donde el decorador simplemente agrega las funciones que decora a un arreglo."
   ]
  },
  {
   "cell_type": "code",
   "execution_count": 5,
   "metadata": {},
   "outputs": [
    {
     "name": "stdout",
     "output_type": "stream",
     "text": [
      "se agrego la funcion  funcion1\n",
      "se agrego la funcion  funcion2\n",
      "[<function funcion1 at 0x000002425CE72840>, <function funcion2 at 0x000002425CE71260>]\n"
     ]
    }
   ],
   "source": [
    "registro = []\n",
    "\n",
    "def register_adder(func):\n",
    "    print('se agrego la funcion ',func.__name__)\n",
    "    registro.append(func)\n",
    "    return func\n",
    "# En lo dado por Juan la funcion decoradora anterior deberia tener una funcion interna que retorna func , pero en lineas generales es lo mismo\n",
    "@register_adder\n",
    "def funcion1():\n",
    "    print('esta es la funcion1')\n",
    "@register_adder\n",
    "def funcion2():\n",
    "    print('esta es la funcion 2')\n",
    "\n",
    "print(registro)\n"
   ]
  },
  {
   "cell_type": "markdown",
   "metadata": {},
   "source": [
    "La funcion anterior no modifica la funcion decorada\n",
    "\n",
    "## Decorando una clase\n",
    "\n",
    "Los decoradores tambien pueden decorar una clase. Sin embargo si lo pensamos desde el punto de vista de la definicion de decorador que hemos visto, para una clase, la mejor opcion a decorador es la herencia, pues justamente, una clase que hereda de otra, es la misma clase de la que hereda mas algunas features.\n",
    "\n",
    "De acuerdo con la siguiente fuente: https://builtin.com/software-engineering-perspectives/python-class-decorator\n",
    "una clase como decorador debe ser entendia de otra manera. En concreto una clase decoradora, es , un decorador que agrega una clase a una funcion.\n",
    "\n",
    "*A Python class decorator adds a class to a function, and it can be achieved without modifying the source code. For example, a function can be decorated with a class that can accept arguments or with a class that can accept no arguments*\n",
    "\n",
    "Para definir un decorador clase, vale la pena revisar el dunder call: _ _call_ _() . Hay una diferencia sustancial entre _ _ init _ _() y _ _ call _ _() y es que init se utiliza para inicializar el objeto, mientras que call llama a determinados atributos de un objeto para realizar una operacion.\n",
    "\n",
    "En el ejemplo siguiente, vamos a convertir una funcion a una clase con metodos extra."
   ]
  },
  {
   "cell_type": "code",
   "execution_count": 11,
   "metadata": {},
   "outputs": [
    {
     "name": "stdout",
     "output_type": "stream",
     "text": [
      "Esta es la funcion:  suma\n",
      "Los argumentos son:  (1, 7)\n",
      "el resultado es:  8\n"
     ]
    },
    {
     "data": {
      "text/plain": [
       "8"
      ]
     },
     "execution_count": 11,
     "metadata": {},
     "output_type": "execute_result"
    }
   ],
   "source": [
    "class class_deco:\n",
    "    def __init__(self,funcion):\n",
    "        self.funcion = funcion\n",
    "    \n",
    "    def __call__(self,*args,**kwargs):\n",
    "        print('Esta es la funcion: ',self.funcion.__name__)\n",
    "        print('Los argumentos son: ', args)\n",
    "        resultado = self.funcion(*args,**kwargs)\n",
    "        print('el resultado es: ', resultado)\n",
    "        return resultado\n",
    "    \n",
    "@class_deco\n",
    "def suma(a,b):\n",
    "    result = a + b\n",
    "    return result\n",
    "\n",
    "suma(1,7)"
   ]
  }
 ],
 "metadata": {
  "kernelspec": {
   "display_name": "Python 3",
   "language": "python",
   "name": "python3"
  },
  "language_info": {
   "codemirror_mode": {
    "name": "ipython",
    "version": 3
   },
   "file_extension": ".py",
   "mimetype": "text/x-python",
   "name": "python",
   "nbconvert_exporter": "python",
   "pygments_lexer": "ipython3",
   "version": "3.11.3"
  },
  "orig_nbformat": 4
 },
 "nbformat": 4,
 "nbformat_minor": 2
}
