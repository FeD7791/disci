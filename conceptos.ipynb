{
 "cells": [
  {
   "cell_type": "markdown",
   "metadata": {},
   "source": [
    "# Conceptos\n",
    "\n",
    "## Lenguaje Estatico vs Lenguaje dinamico\n",
    "\n",
    "Source: https://dev.to/leolas95/tipado-estatico-y-dinamico-tipado-fuerte-y-debil-133n\n",
    "\n",
    "### Tipado Estatico\n",
    "\n",
    "En tipado estático el tipo está ligado a la variable. Los tipos se chequean en tiempo de compilación.</br>\n",
    "\n",
    "En un lenguaje de este tipo no se puede reasignar a la variable otra que no sea del tipo de la que se declaro que es esta. Si por ejemplo asignamos x = 5 , despus no podemos asignar x = 'hola' . Sin embargo podemos reasignar a un valor del mismo tipo: x = 7\n",
    "\n",
    "**Ventajas**\n",
    "\n",
    "- Deteccion temprana de algunos errores\n",
    "- El codigo es mas expresivo lo que permite mejor entender cuales son los tipos de las variables\n",
    "- Mejor autocompletado del codigo por parte del compilador\n",
    "\n",
    "**Desventajas**\n",
    "\n",
    "- La compilacion es lenta\n",
    "- Estar atado a tipos supone una mayor restriccion\n",
    "\n",
    "### Tipado Dinamico\n",
    "\n",
    "En tipado dinámico, el tipo está ligado al valor. Los chequeos son en tiempo de ejecución.</br>\n",
    "\n",
    "Como el tipo está ligado al valor, el tipo de la variable puede cambiar a medida que cambian el tipo de los valores que se le asigna.</br>\n",
    "\n",
    "Python es un lenguaje de tipado dinamico, entonces podemos hacer lo siguiente:\n",
    "\n",
    "**Ventajas**\n",
    "\n",
    "- No hay compilacion\n",
    "- Codigo Flexible \n",
    "\n",
    "**Desventajas**\n",
    "\n",
    "- Hay errores que un compilador detectaria\n",
    "- Es complicado cambiar el nombre de una funcion\n",
    "- El dinamismo no implica que no haya que preocuparse por los tipos"
   ]
  },
  {
   "cell_type": "code",
   "execution_count": 1,
   "metadata": {},
   "outputs": [
    {
     "name": "stdout",
     "output_type": "stream",
     "text": [
      "5 <class 'int'>\n",
      "str <class 'str'>\n"
     ]
    }
   ],
   "source": [
    "x = 5\n",
    "print(x, type(x))\n",
    "x = 'str'\n",
    "print(x, type(x))"
   ]
  },
  {
   "cell_type": "markdown",
   "metadata": {},
   "source": [
    "### mypy\n",
    "\n",
    "Source: https://mypy-lang.org/\n",
    "\n",
    "La siguiente herramienta nos permite una verificacion de los tipos cambiantes </br>\n",
    "\n",
    "*Mypy is an optional static type checker for Python that aims to combine the benefits of dynamic (or \"duck\") typing and static typing. Mypy combines the expressive power and convenience of Python with a powerful type system and compile-time type checking. Mypy type checks standard Python programs; run them using any Python VM with basically no runtime overhead.*\n",
    "\n",
    "Para utilizar esta herramienta, llamamos desde la terminal al archivo utilizando mypy en lugar de py:\n",
    "\n",
    "$ mypy lenguaje_estatico.py\n",
    "\n",
    "En lugar del usual\n",
    "\n",
    "$ py lenguaje_estatico.py\n",
    "\n",
    "La herramienta, para el caso concreto del archivo mencionado arroja:\n",
    "\n",
    "*lenguaje_estatico.py:3: error: Incompatible types in assignment (expression has type \"str\", variable has type \"int\")  *[assignment] Found 1 error in 1 file (checked 1 source file)*\n"
   ]
  },
  {
   "cell_type": "markdown",
   "metadata": {},
   "source": [
    "# Tipado fuerte vs tipado debil\n",
    "\n"
   ]
  }
 ],
 "metadata": {
  "kernelspec": {
   "display_name": "Python 3",
   "language": "python",
   "name": "python3"
  },
  "language_info": {
   "codemirror_mode": {
    "name": "ipython",
    "version": 3
   },
   "file_extension": ".py",
   "mimetype": "text/x-python",
   "name": "python",
   "nbconvert_exporter": "python",
   "pygments_lexer": "ipython3",
   "version": "3.11.3"
  },
  "orig_nbformat": 4
 },
 "nbformat": 4,
 "nbformat_minor": 2
}
