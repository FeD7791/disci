{
 "cells": [
  {
   "cell_type": "code",
   "execution_count": null,
   "metadata": {},
   "outputs": [],
   "source": []
  },
  {
   "cell_type": "markdown",
   "metadata": {},
   "source": [
    "Para verificar si los numpy docstrings estan correctos usamos el siguiente paquete: pydocstyle\n",
    "\n",
    "- Como usar?\n",
    "    - pydocstyle _wrapper.py --add-ignore=D401\n",
    "    - El flag --add-ignore=D401 es muy util pues remueve la busqueda de imperativos"
   ]
  }
 ],
 "metadata": {
  "language_info": {
   "name": "python"
  }
 },
 "nbformat": 4,
 "nbformat_minor": 2
}
