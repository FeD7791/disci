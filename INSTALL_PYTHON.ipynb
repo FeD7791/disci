{
 "cells": [
  {
   "cell_type": "markdown",
   "metadata": {},
   "source": [
    "https://ubuntuhandbook.org/index.php/2024/02/install-python-3-13-ubuntu/"
   ]
  }
 ],
 "metadata": {
  "language_info": {
   "name": "python"
  }
 },
 "nbformat": 4,
 "nbformat_minor": 2
}
