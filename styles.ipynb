{
 "cells": [
  {
   "cell_type": "code",
   "execution_count": null,
   "metadata": {},
   "outputs": [],
   "source": []
  },
  {
   "cell_type": "markdown",
   "metadata": {},
   "source": [
    "# Algunas cosas utiles de estilos\n",
    "\n",
    "## flake8\n",
    "\n",
    "Para ejecutarlo, lo podes hacer sobre una carpeta o archivo, solo basta hacer:\n",
    "flake8 < carpeta> o < archivo>\n",
    "\n",
    "Puedes utilizar un archivo de configuracion tambien: (https://flake8.pycqa.org/en/latest/user/configuration.html)\n",
    "\n",
    "[flake8]\n",
    "per-file-ignores =\n",
    "    # line too long\n",
    "    path/to/file.py: E501,\n",
    "\n",
    "COMENTARIOS MUY LARGOS:\n",
    "Si tenemos comentarios muy largos podemos decirle a flake8 que los ignore agregando: # noqa: E501\n",
    "Al final de cada comentario\n",
    "\n",
    "## black\n",
    "Para ejecutarlo, igual que en flake8 podes hacerlo como\n",
    "\n",
    "black < archivo>\n",
    "\n",
    "Te sirve para que le puedas especificar a black que arregle los estilos con 79 lineas\n",
    "black --line-length 79 example.py\n",
    "\n",
    "## Docformater\n",
    "source: (https://github.com/PyCQA/docformatter)\n",
    "Como black no toca los docstring, es util utilizar docformatter para cambiar esto\n",
    "\n",
    "Uso:\n",
    "docformatter --in-place example.py "
   ]
  }
 ],
 "metadata": {
  "language_info": {
   "name": "python"
  }
 },
 "nbformat": 4,
 "nbformat_minor": 2
}
