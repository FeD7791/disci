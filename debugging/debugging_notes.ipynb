{
 "cells": [
  {
   "cell_type": "code",
   "execution_count": null,
   "metadata": {},
   "outputs": [],
   "source": []
  },
  {
   "cell_type": "markdown",
   "metadata": {},
   "source": [
    "# Debugging con ipdb\n",
    "\n",
    "- Para hacer debugging utilizamos ipdb que se basa en el debugger de python pdb pero que se implementa con ipython.\n",
    "\n",
    "## Modo de uso:\n",
    "- import ipdb\n",
    "- ipdb.set_trace() <--- Esto fija el breakpoint en alguna parte del codigo.\n",
    "- existen distintas opciones para visualizar e interactuar con las variables:\n",
    "\n",
    "### Opciones\n",
    "\n",
    "<table>\n",
    "  <tr>\n",
    "    <th>Command</th>\n",
    "    <th>Keyword</th>\n",
    "    <th>Function</th>\n",
    "  </tr>\n",
    "  <tr>\n",
    "    <td>next</td>\n",
    "    <td>n</td>\n",
    "    <td>Execute the current line and move to the next one</td>\n",
    "  </tr>\n",
    "  <tr>\n",
    "    <td>Step</td>\n",
    "    <td>s</td>\n",
    "    <td>Step into the function call on the current line</td>\n",
    "    </tr>\n",
    "    <tr>\n",
    "    <td>Continue</td>\n",
    "    <td>c</td>\n",
    "    <td>Continue execution until the next breakpoint or the end of the program</td>\n",
    "    </tr>\n",
    "        <tr>\n",
    "    <td>Print</td>\n",
    "    <td>p</td>\n",
    "    <td>Print the value of a variable</td>\n",
    "    </tr>\n",
    "   <tr>\n",
    "    <td>quit</td>\n",
    "    <td>q</td>\n",
    "    <td>Quit debugger</td>\n",
    "    </tr>\n",
    "       <tr>\n",
    "    <td>break</td>\n",
    "    <td>b</td>\n",
    "    <td>Fija breakpoint</td>\n",
    "    </tr>\n",
    "</table>"
   ]
  }
 ],
 "metadata": {
  "language_info": {
   "name": "python"
  }
 },
 "nbformat": 4,
 "nbformat_minor": 2
}
