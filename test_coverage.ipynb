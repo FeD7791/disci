{
 "cells": [
  {
   "cell_type": "markdown",
   "metadata": {},
   "source": [
    "# Test coverage con pytest-cov\n",
    "\n",
    "- pip install pytest-cov\n",
    "\n",
    "- El comando basico es el siguiente\n",
    "\n",
    "    - pytest --cov=< carpeta del proyecto> < carpeta especificas de los test> --cov-report=term-missing\n",
    "    - term-missing te dice que lineas te faltan para aumentar el coverage, es la mejor opcion.\n",
    "\n",
    "Ejemplo:\n",
    "\n",
    "pytest --cov=voidfindertk/ tests/zobov --cov-report=term-missing\n",
    "\n",
    "\n",
    "- Si queres ser mas especifico con tu carpeta:\n",
    "\n",
    "pytest --cov=voidfindertk/popcorn tests/popcorn --cov-report=term-missing"
   ]
  }
 ],
 "metadata": {
  "language_info": {
   "name": "python"
  }
 },
 "nbformat": 4,
 "nbformat_minor": 2
}
