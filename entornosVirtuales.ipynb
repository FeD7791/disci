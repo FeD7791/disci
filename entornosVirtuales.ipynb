{
 "cells": [
  {
   "cell_type": "markdown",
   "metadata": {},
   "source": [
    "# Entornos virtuales\n",
    "\n",
    "Esta es una guia para crear un entorno virtual, con la version por defecto de python que tengas activada, todavia no se como cambiar la version del entorno pero esto es posible igualmente.\n",
    "\n",
    "Source: https://www.geeksforgeeks.org/create-virtual-environment-using-venv-python/\n",
    "\n",
    "Para crear estos entornos vamos a utilizar venv\n",
    "\n",
    "1. Crear un carpeta donde vas a poner el entorno\n",
    "2. Utilizar el comando: python -m venv *nombre entorno*\n",
    "3. Para utilizarlo tenemos que:\n",
    "    - Entrar a la carpeta del entorno\n",
    "    - cd Scripts\n",
    "    - activate # o bien ./activate si estamos en powershell\n",
    "    - En Ubuntu: cd bin , source activate\n",
    "4. Para desactivar el entorno virtual escribimos : deactivate # Ese es el comando inclusive si estamos en powershell.\n",
    "\n",
    "Ya podes instalar las dependencias que te hagan falta aca\n",
    "\n",
    "Otros:\n",
    "pip list # Nos da la lista de elementos instalados en pip"
   ]
  }
 ],
 "metadata": {
  "kernelspec": {
   "display_name": "mypythonenv",
   "language": "python",
   "name": "python3"
  },
  "language_info": {
   "name": "python",
   "version": "3.10.12"
  }
 },
 "nbformat": 4,
 "nbformat_minor": 2
}
