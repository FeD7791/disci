{
 "cells": [
  {
   "cell_type": "code",
   "execution_count": 80,
   "metadata": {},
   "outputs": [],
   "source": [
    "import scipy\n",
    "import numpy as np\n",
    "from scipy import sparse"
   ]
  },
  {
   "cell_type": "code",
   "execution_count": 38,
   "metadata": {},
   "outputs": [
    {
     "data": {
      "text/plain": [
       "[array([1, 1, 1]), array([2, 2, 2]), array([3, 3, 3])]"
      ]
     },
     "execution_count": 38,
     "metadata": {},
     "output_type": "execute_result"
    }
   ],
   "source": [
    "vector1 = [np.array([1,1,1]),np.array([2,2,2]),np.array([3,3,3])]\n",
    "vector2 = [np.array([0,0,0])]\n",
    "vector1"
   ]
  },
  {
   "cell_type": "code",
   "execution_count": 22,
   "metadata": {},
   "outputs": [
    {
     "name": "stdout",
     "output_type": "stream",
     "text": [
      "[[1.73205081 3.46410162 5.19615242]]\n"
     ]
    }
   ],
   "source": [
    "d = scipy.spatial.distance.cdist(vector2,vector1, metric='euclidean')\n",
    "print(d)"
   ]
  },
  {
   "cell_type": "code",
   "execution_count": 92,
   "metadata": {},
   "outputs": [
    {
     "data": {
      "text/plain": [
       "array([[1, 2, 3],\n",
       "       [1, 2, 3],\n",
       "       [1, 2, 3],\n",
       "       [0, 0, 0]])"
      ]
     },
     "execution_count": 92,
     "metadata": {},
     "output_type": "execute_result"
    }
   ],
   "source": [
    "a = [1,1,1,0]\n",
    "b = [2,2,2,0]\n",
    "c = [3,3,3,0]\n",
    "d = np.array([a,b,c])\n",
    "d = np.transpose(d)\n",
    "origin = np.array([[0,0,0]])\n",
    "origin1 = np.array([[1,1,1]])\n",
    "d"
   ]
  },
  {
   "cell_type": "code",
   "execution_count": 93,
   "metadata": {},
   "outputs": [
    {
     "data": {
      "text/plain": [
       "[array([3.74165739, 3.74165739, 3.74165739, 0.        ]),\n",
       " array([2.23606798, 2.23606798, 2.23606798, 1.73205081])]"
      ]
     },
     "execution_count": 93,
     "metadata": {},
     "output_type": "execute_result"
    }
   ],
   "source": [
    "e = scipy.spatial.distance.cdist(origin,d, metric='euclidean')\n",
    "f = scipy.spatial.distance.cdist(origin1,d, metric='euclidean')\n",
    "arr = []\n",
    "arr.append(e[0])\n",
    "arr.append(f[0])\n",
    "arr\n"
   ]
  },
  {
   "cell_type": "code",
   "execution_count": 96,
   "metadata": {},
   "outputs": [
    {
     "name": "stdout",
     "output_type": "stream",
     "text": [
      "[[3.74165739 3.74165739 3.74165739 0.        ]\n",
      " [2.23606798 2.23606798 2.23606798 1.73205081]]\n"
     ]
    }
   ],
   "source": [
    "sA = sparse.csr_matrix(arr)\n",
    "print(sA.toarray())"
   ]
  },
  {
   "cell_type": "code",
   "execution_count": 48,
   "metadata": {},
   "outputs": [
    {
     "data": {
      "text/plain": [
       "array([[0.1, 0.2, 0.4]])"
      ]
     },
     "execution_count": 48,
     "metadata": {},
     "output_type": "execute_result"
    }
   ],
   "source": [
    "a = np.array([[0, 0, 0],\n",
    "              [0, 0, 1],\n",
    "              [0, 1, 0],\n",
    "              [0, 1, 1],\n",
    "              [1, 0, 0],\n",
    "              [1, 0, 1],\n",
    "              [1, 1, 0],\n",
    "              [1, 1, 1]])\n",
    "b = np.array([[ 0.1,  0.2,  0.4]])\n",
    "#scipy.spatial.distance.cdist(b, a, 'cityblock')\n",
    "b"
   ]
  },
  {
   "cell_type": "code",
   "execution_count": 70,
   "metadata": {},
   "outputs": [
    {
     "name": "stdout",
     "output_type": "stream",
     "text": [
      "[0. 1. 0.]\n"
     ]
    }
   ],
   "source": [
    "a = np.array([101, 99, 87])\n",
    "b = np.array([897, 97, 111])\n",
    "alpha = np.greater(a, b).astype(float)\n",
    "print(alpha)"
   ]
  },
  {
   "cell_type": "code",
   "execution_count": 78,
   "metadata": {},
   "outputs": [
    {
     "data": {
      "text/plain": [
       "array([5.])"
      ]
     },
     "execution_count": 78,
     "metadata": {},
     "output_type": "execute_result"
    }
   ],
   "source": [
    "array = np.array([])\n",
    "a = np.append(array,5.)\n",
    "a"
   ]
  }
 ],
 "metadata": {
  "kernelspec": {
   "display_name": ".packtry",
   "language": "python",
   "name": "python3"
  },
  "language_info": {
   "codemirror_mode": {
    "name": "ipython",
    "version": 3
   },
   "file_extension": ".py",
   "mimetype": "text/x-python",
   "name": "python",
   "nbconvert_exporter": "python",
   "pygments_lexer": "ipython3",
   "version": "3.12.0"
  }
 },
 "nbformat": 4,
 "nbformat_minor": 2
}
