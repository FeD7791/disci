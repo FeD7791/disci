{
 "cells": [
  {
   "cell_type": "code",
   "execution_count": null,
   "metadata": {},
   "outputs": [],
   "source": []
  },
  {
   "cell_type": "markdown",
   "metadata": {},
   "source": [
    "Para los headers en tox, utilizo: tox -e check-headers\n",
    "\n",
    "Para corregirlos por directorio esta esta herramienta: \n",
    "https://pypi.org/project/addheader/\n",
    "\n",
    "- Modo de uso:\n",
    "    - addheader voidfindertk/popcorn --text header.txt\n",
    "    - Otros flags\n",
    "    - addheader voidfindertk/popcorn --comment \"//\" --sep \"=\" --sep-len 40 -t header.txt\n",
    "    - Configuracion actual de mis HEADER:\n",
    "    - addheader voidfindertk/utils/ --comment \"#\" --sep \"=\" --sep-len 77 -t header.txt\n",
    "    - Luego de usarla, es util utilizar black para que corrija #== por esto # == ya que flake8 te dice que luego de un # debe haber espacio.\n",
    "    - Funciona solamentep por carpeta\n",
    "    - addheader voidfindertk/popcorn -r \n",
    "    - Remueve headers de la carpeta\n",
    "\n",
    "Basicamente tenes que poner un texto que quieras poner en un archivo\n",
    "\n",
    "- No utilizo el .header-template porque lo que tenga alli le agrega:\n",
    "    - varios numerales arriba y abajo como cabecera\n",
    "    - numeral extra en cada fila\n",
    "\n",
    "- Conviene entonces hacer otro header.txt de manera que el resultado coincida con el header en .header-template\n",
    "\n"
   ]
  }
 ],
 "metadata": {
  "language_info": {
   "name": "python"
  }
 },
 "nbformat": 4,
 "nbformat_minor": 2
}
