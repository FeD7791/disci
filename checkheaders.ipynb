{
 "cells": [
  {
   "cell_type": "code",
   "execution_count": null,
   "metadata": {},
   "outputs": [],
   "source": []
  },
  {
   "cell_type": "markdown",
   "metadata": {},
   "source": [
    "Para los headers en tox, utilizo: tox -e check-headers\n",
    "\n",
    "Para corregirlos por directorio esta esta herramienta: \n",
    "https://pypi.org/project/addheader/\n",
    "\n",
    "- Modo de uso:\n",
    "    - addheader voidfindertk/popcorn --text header.txt\n",
    "    - Funciona solamentep por carpeta\n",
    "    - addheader voidfindertk/popcorn -r \n",
    "    - Remueve headers de la carpeta\n",
    "\n",
    "Basicamente tenes que poner un texto que quieras poner en un archivo\n",
    "\n",
    "- No utilizo el .header-template porque lo que tenga alli le agrega:\n",
    "    - varios numerales arriba y abajo como cabecera\n",
    "    - numeral extra en cada fila\n",
    "\n",
    "- Conviene entonces hacer otro header.txt de manera que el resultado coincida con el header en .header-template\n",
    "\n"
   ]
  }
 ],
 "metadata": {
  "language_info": {
   "name": "python"
  }
 },
 "nbformat": 4,
 "nbformat_minor": 2
}
