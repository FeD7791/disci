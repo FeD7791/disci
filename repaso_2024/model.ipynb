{
 "cells": [
  {
   "cell_type": "code",
   "execution_count": 1,
   "metadata": {},
   "outputs": [],
   "source": [
    "import numpy as np"
   ]
  },
  {
   "cell_type": "markdown",
   "metadata": {},
   "source": [
    "# Python Data types\n",
    "- Distintos objetos en python se comportan de forma distinta ante operaciones iguales. Veamos ejemplos de esto abajo.\n",
    "\n",
    "La razon por la que hay comportamientos distintos es basicamente como estan implementados los dunders.\n",
    "\n",
    "## Dunders\n",
    "- En Python, los métodos especiales son un conjunto de métodos predefinidos que se puede usar para enriquecer las clases. Son fáciles de reconocer porque comienzan y terminan con guiones bajos dobles, por ejemplo init o str.\n",
    "\n",
    "- Como es cansador decir under-under-method-under-under la comunidad empezo a decirles dunder contraccion de double-under.\n",
    "\n",
    "- Los métodos Dunder le permiten emular el comportamiento de los tipos integrados. Por ejemplo, para obtener la longitud de una cadena puede llamar a len('cadena').\n",
    "\n",
    "### Init\n",
    "- El mas conocido es el dunder de inicializacion : init, utilizado en las clases\n",
    "\n",
    "### Representacion repr y str\n",
    "- Para representacion tenemos: repr y str\n",
    "\n",
    "    - La gran diferencia es basicamente que repr es para los desarrolladores y str es para el usuario tal y como dice este articulo de RealPython <a href='https://realpython.com/python-repr-vs-str/'> Repr vs Str </a>\n",
    "\n",
    "    - Del mismo articulo tenemos lo siguiente: The repr() built-in function calls the object’s .__repr__() method. If a class doesn’t have a ```.__str__()``` method defined, then str() will also default to the object’s ```.__repr__()``` method.\n",
    "\n",
    "    - repr : Si repr devuelve (no siempre lo hace) codigo python valido, entonces con ese codigo podes reproducir el objeto. (Ver ejemplo)\n",
    "\n",
    "### Iteracion y suscripcion\n",
    "\n",
    "- ```__getitem__``` y ```__setitem__``` se utilizan para re-definir la suscripcion. Esto es basicamente definir el orden de posicionamiento del objeto: ```a[2]=3```\n",
    "\n",
    "- Para definir un ```__getitem__``` utilizamos 1 argumento ademas de self. Este argumento hace referencia a la *posicion* en el objeto. (Ver ejemplo)\n",
    "\n",
    "- Solo se puede definir un solo de estos elementos. Si por ejemplo (como en el ejemplo) queremos armar una matriz cuadrada, a getitem le podemos pasar una tupla, para que asigne los valores a nuestras variables.\n",
    "\n",
    "- Estos dunder pueden parecer poco utiles, siendo que si el objeto ya en si es una lista o algun tipo de iterable, por ser los mismos esto ya tengan implementados los elementos en sus objetos creadores.\n",
    "\n",
    "- Por otro lado ```__setitem__``` se utiliza para re definir un valor preexistente en el iterable. Esto significa que no vas a poder AGREGAR un valor, es decir si el iterable es ```a=[1,2,3]``` , no voy a poder hacer a[3]=15.\n",
    "\n",
    "- Para construir un iterable se requieren los dunder: ```__len__```, ```__getitem__```\n",
    "\n",
    "\n",
    "### Llamadas \n",
    "\n",
    "<a href='https://realpython.com/python-callable-instances/'>REAL PYTHON</a>\n",
    "\n",
    "- *In Python, a callable is any object that you can call using a pair of parentheses and, optionally, a series of arguments.*\n",
    "\n",
    "- *Functions, classes, and methods are all common examples of callables in Python.*\n",
    "\n",
    "- *Besides these, you can also create custom classes that produce callable instances. To do this, you can add the .__call__() special method to your class.*\n",
    "\n",
    "- *How does all this work internally? When you run something like callable_object(*args, **kwargs), Python internally translates the operation ```into callable_object.__call__(*args, **kwargs)```. The arguments to the regular function are the same as those used in ```.__call__()``` In other words, whenever you call a callable object, Python automatically runs its ```.__call__()``` method behind the scenes using the arguments you’ve passed into the callable.*\n",
    "\n",
    "- *If you ever need to check whether a Python object is callable, then you can use the built-in callable() function*\n",
    "\n",
    "- **Understanding the Difference: ```.__init__()``` vs ```.__call__()```**\n",
    "\n",
    "- The ```.__init__()``` method is the instance initializer.\n",
    "\n",
    "- Meanwhile, the ```.__call__()``` method turns instances into callable objects.\n"
   ]
  },
  {
   "cell_type": "code",
   "execution_count": 4,
   "metadata": {},
   "outputs": [
    {
     "data": {
      "text/plain": [
       "array([2, 3, 4])"
      ]
     },
     "execution_count": 4,
     "metadata": {},
     "output_type": "execute_result"
    }
   ],
   "source": [
    "np_array = np.array([1,2,3])\n",
    "a_list = [1,2,3]\n",
    "\n",
    "np_array + 1\n",
    "#a_list + 1 #<--- Da error"
   ]
  },
  {
   "cell_type": "code",
   "execution_count": 7,
   "metadata": {},
   "outputs": [
    {
     "data": {
      "text/plain": [
       "{'a': 1}"
      ]
     },
     "execution_count": 7,
     "metadata": {},
     "output_type": "execute_result"
    }
   ],
   "source": [
    "# Repr devuelve codigo python valido para reproducir el objeto\n",
    "\n",
    "a = dict(a=1)\n",
    "a # Imrime: {'a': 1}\n",
    "b = {'a': 1} # Como ya sabemos con esto podemos reproducir el codigo de un diccionario.\n",
    "b"
   ]
  },
  {
   "cell_type": "code",
   "execution_count": 17,
   "metadata": {},
   "outputs": [],
   "source": [
    "#Ejemplo str vs repr\n",
    "\n",
    "class Account:\n",
    "    \"\"\"A simple account class\"\"\"\n",
    "\n",
    "    def __init__(self, owner, amount=0):\n",
    "        \"\"\"This is the constructor that lets us create\n",
    "        objects from this class.\n",
    "        \n",
    "        \"\"\"\n",
    "        self.owner = owner\n",
    "        self.amount = amount\n",
    "        self._transactions = []\n",
    "        \n",
    "    def add_transaction(self, amount):\n",
    "        if not isinstance(amount, int):\n",
    "            raise ValueError('please use int for amount')\n",
    "        self._transactions.append(amount)\n",
    "        \n",
    "    @property\n",
    "    def balance(self):\n",
    "        return self.amount + sum(self._transactions)\n",
    "\n",
    "# Probar comentando y descomentando esta parte\n",
    "## Aca lo que obtenemos es que si no estan definidos:\n",
    "#repr --> <__main__.Account object at 0x7006f457d3f0>\n",
    "#str --> '<__main__.Account object at 0x7006f457d3f0>'\n",
    "#print --> <__main__.Account object at 0x7006f457d3f0>\n",
    "\n",
    "# class Account(Account):\n",
    " \n",
    "#     def __repr__(self):\n",
    "#         return f'{type(self).__name__}({self.owner}, {self.amount})'\n",
    "\n",
    "#     def __str__(self):\n",
    "#         return f'Account of {self.owner} with starting amount: {self.amount}'"
   ]
  },
  {
   "cell_type": "code",
   "execution_count": 21,
   "metadata": {},
   "outputs": [
    {
     "name": "stdout",
     "output_type": "stream",
     "text": [
      "<__main__.Account object at 0x7006f457d3f0>\n"
     ]
    }
   ],
   "source": [
    "\n",
    "\n",
    "cuenta = Account(\"juan\", 100)\n",
    "# cuenta.__class__.__mro__\n",
    "# cuenta #Repr \n",
    "# str(cuenta) # Str <-- Si no existe nos tira un string con el repr\n",
    "# print(cuenta) # Nos da el str\n"
   ]
  },
  {
   "cell_type": "code",
   "execution_count": 48,
   "metadata": {},
   "outputs": [],
   "source": [
    "# Definicion getitem \n",
    "\n",
    "class Simple():\n",
    "    def __init__(self,a=[1,2,3]):\n",
    "        self.a=a\n",
    "    def __setitem__(self,posicion,valor):\n",
    "        # Esto solamente sirve para reasignar un valor pre-existente\n",
    "        self.a[posicion] = valor\n",
    "    def __getitem__(self,posicion):\n",
    "        return self.a[posicion] +23\n",
    "    def __len__(self):\n",
    "        return len(self.a)\n",
    "    \n",
    "class Matrix():\n",
    "    def __init__(self,m=np.array([[1,1,1],[2,2,2],[3,3,3]])):\n",
    "        self.m = m\n",
    "    def __getitem__(self,tupla_xy):\n",
    "        x,y = tupla_xy\n",
    "        self.m[x,y]\n"
   ]
  },
  {
   "cell_type": "code",
   "execution_count": 49,
   "metadata": {},
   "outputs": [
    {
     "name": "stdout",
     "output_type": "stream",
     "text": [
      "24\n",
      "25\n",
      "26\n"
     ]
    }
   ],
   "source": [
    "simple = Simple()\n",
    "# simple[0]\n",
    "\n",
    "# simple, iteracion\n",
    "for e in simple:\n",
    "    print(e)\n",
    "\n",
    "# matrix = Matrix()\n",
    "# matrix.m[0,0]"
   ]
  },
  {
   "cell_type": "code",
   "execution_count": 34,
   "metadata": {},
   "outputs": [
    {
     "data": {
      "text/plain": [
       "np.int64(2)"
      ]
     },
     "execution_count": 34,
     "metadata": {},
     "output_type": "execute_result"
    }
   ],
   "source": [
    "m=np.array([[1,1,1],[2,2,2],[3,3,3]])\n",
    "m[1,1]"
   ]
  },
  {
   "cell_type": "code",
   "execution_count": 55,
   "metadata": {},
   "outputs": [
    {
     "data": {
      "text/plain": [
       "2"
      ]
     },
     "execution_count": 55,
     "metadata": {},
     "output_type": "execute_result"
    }
   ],
   "source": [
    "# Ejemplo Callable\n",
    "class Counter:\n",
    "    def __init__(self):\n",
    "        self.count = 0\n",
    "\n",
    "    def increment(self):\n",
    "        self.count += 1\n",
    "\n",
    "    def __call__(self):\n",
    "        self.increment()\n",
    "\n",
    "counter = Counter()\n",
    "\n",
    "counter.count # Cual es el valor actual de count?\n",
    "counter() # Llamar a counter como funcion implementa el metodo increment() , esto aumenta en 1 count\n",
    "counter.count\n",
    "counter()\n",
    "counter.count"
   ]
  },
  {
   "attachments": {},
   "cell_type": "markdown",
   "metadata": {},
   "source": [
    "# Composicion 30/08/2024\n",
    "\n",
    "- En la composicion ponemos el puntero en el objeto. \n",
    "- Hay cosas que no combiene heredar. En el caso de extender pandas, esto es muy dificil. Hay que definir funciones muy poco polimorficas. Una de las alternativas que ofrece pandas antes de hacer esto es la composicion.\n",
    "- Ejemplo de MiDataFrame\n",
    "    - Observen que no hereda de dataframe\n",
    "    - Si aplicamos los metodos de dataframe sobre mi objeto MiDataFrame funciona como un dataframe\n",
    "    - Cada vez que el objeto encuentra algo que no sabe que hacer, se lo delega al objeto subyacente.\n",
    "    - El metodo zaraza es un metodo extra que nos sirve a nosotros.\n",
    "    - Elmetodo __getitem__ redefine el funcionamiento de los corchetes.\n",
    "    - La sintaxis por ejemplo [a:b:c] en realidad funciona con un objeto slice.\n",
    "    - El iloc de nuestro objeto funciona por el __getattr__ pues esta parte permite que se vaya a buscar a la clase subyacente de df.\n",
    "    - Si te das cuenta, esto funciona para cualquier objeto, no esta limitado a dataframe. Funciona asi si vos le das un objeto dataframe.\n",
    "    - Observar que las representaciones del notebook y consola para el dataframe son distintas. Cuando queremos acceder a una representacion binaria, accedemos al repr y no al string (ver esto). <-- ver video> 10.37\n",
    "    - Los notebook tienen su propio repr: _repr_html_\n",
    "    - Composicion: Meter un objeto adentro de otro e interferir las llamadas para cambiar ciertas partes de su comportamiento.\n",
    "\n",
    "Notas:\n",
    "- Doble ?? nos muestra el codigo fuente\n",
    "- Scikit : Science Kit"
   ]
  }
 ],
 "metadata": {
  "kernelspec": {
   "display_name": "mypythonenv",
   "language": "python",
   "name": "python3"
  },
  "language_info": {
   "codemirror_mode": {
    "name": "ipython",
    "version": 3
   },
   "file_extension": ".py",
   "mimetype": "text/x-python",
   "name": "python",
   "nbconvert_exporter": "python",
   "pygments_lexer": "ipython3",
   "version": "3.10.12"
  },
  "orig_nbformat": 4
 },
 "nbformat": 4,
 "nbformat_minor": 2
}
