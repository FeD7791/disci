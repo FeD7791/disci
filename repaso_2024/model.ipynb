{
 "cells": [
  {
   "cell_type": "code",
   "execution_count": null,
   "metadata": {},
   "outputs": [],
   "source": []
  },
  {
   "attachments": {},
   "cell_type": "markdown",
   "metadata": {},
   "source": [
    "# Composicion\n",
    "\n",
    "- En la composicion ponemos el puntero en el objeto. \n",
    "- Hay cosas que no combiene heredar. En el caso de extender pandas, esto es muy dificil. Hay que definir funciones muy poco polimorficas. Una de las alternativas que ofrece pandas antes de hacer esto es la composicion.\n",
    "- Ejemplo de MiDataFrame\n",
    "    - Observen que no hereda de dataframe\n",
    "    - Si aplicamos los metodos de dataframe sobre mi objeto MiDataFrame funciona como un dataframe\n",
    "    - Cada vez que el objeto encuentra algo que no sabe que hacer, se lo delega al objeto subyacente.\n",
    "    - El metodo zaraza es un metodo extra que nos sirve a nosotros.\n",
    "    - Elmetodo __getitem__ redefine el funcionamiento de los corchetes.\n",
    "    - La sintaxis por ejemplo [a:b:c] en realidad funciona con un objeto slice.\n",
    "    - El iloc de nuestro objeto funciona por el __getattr__ pues esta parte permite que se vaya a buscar a la clase subyacente de df.\n",
    "    - Si te das cuenta, esto funciona para cualquier objeto, no esta limitado a dataframe. Funciona asi si vos le das un objeto dataframe.\n",
    "    - Observar que las representaciones del notebook y consola para el dataframe son distintas. Cuando queremos acceder a una representacion binaria, accedemos al repr y no al string (ver esto). <-- ver video> 10.37\n",
    "    - Los notebook tienen su propio repr: _repr_html_\n",
    "    - Composicion: Meter un objeto adentro de otro e interferir las llamadas para cambiar ciertas partes de su comportamiento.\n",
    "\n",
    "Notas:\n",
    "- Doble ?? nos muestra el codigo fuente\n",
    "- Scikit : Science Kit"
   ]
  }
 ],
 "metadata": {
  "language_info": {
   "name": "python"
  },
  "orig_nbformat": 4
 },
 "nbformat": 4,
 "nbformat_minor": 2
}
