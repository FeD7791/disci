{
 "cells": [
  {
   "cell_type": "markdown",
   "metadata": {},
   "source": [
    "# Repaso de Python\n",
    "El siguiente se considera un repaso de python, con las cosas vistas hasta el momento y que me parecen relevantes o me faltaban estudiar.\n",
    "\n",
    "## La tupla\n",
    "\n",
    "- Es interesante que la tupla no se define por los parentesis, si no por la coma:\n",
    "    - (1,) : Es tupla\n",
    "    - (1) : No es Tupla\n",
    "\n",
    "## <something> comprehensions\n",
    "\n",
    "Tenemos varios tipos:\n",
    "- List comprehensions : Hay doble listas por comprension, como en el siguiente ejemplo\n",
    "**Using a double list comprehension**\n",
    "results = [value for num in numbers for value in [slow(num)] if value > 0]*\n",
    "\n",
    "- Dict comprehensions : tenes que indicar el key y el valor\n",
    "- Set comprehensions.\n",
    "\n",
    "\n",
    "## Generadores\n",
    "\n",
    "- Hacer una 'list' comprehension con una tupla nos da un generador, esto es un generador por comprehension.\n",
    "- Utilizar range tambien te da un generador.\n",
    "- enumerate : nos retorna un generador/iterador , que retorna tuplas (index,value)\n",
    "- Existen los conceptos de generador e iterador\n",
    "- Se pueden utilizar en los for loops.\n",
    "- next(*iterable*) nos da el siguiente valor del iterable\n",
    "\n",
    "## Reducir for loops\n",
    "\n",
    "- En python en general, salvo alguna excepcion muy puntual, no se debe realizar for loops utilizando indices.\n",
    "- Las opciones que tenemos son: for element in array_of_elements:\n",
    "- Usar enummerate\n",
    "- Usar list comprehensions.\n",
    "- Warlus es una alternativa excelente para reducir for loops\n",
    "\n",
    "## yield\n",
    "- El yield es un return con memoria.\n",
    "\n",
    "- No utilizar en simultaneo yield y return en una funcion.\n",
    "\n",
    "- Lectura recomendada: https://www.geeksforgeeks.org/use-yield-keyword-instead-return-keyword-python/\n",
    "\n",
    "- *We should use yield when we want to iterate over a sequence, but don’t want to store the entire sequence in memory*\n",
    "\n",
    "- *Yield is used in Python generators*\\\n",
    "\n",
    "- *A generator function is defined just like a normal function, but whenever it needs to generate a value, it does so with the yield keyword rather than return.*\n",
    "\n",
    "- *If the body of a def contains yield, the function automatically becomes a generator function.*\n",
    "\n",
    "## Warlus :=\n",
    "Source: https://realpython.com/python-walrus-operator/\n",
    "- Permite asignar y retornar un mismo valor al mismo tiempo\n",
    "- Vale desde la version 3.8 en adelante.\n",
    "- Los parentesis son necesarios para utilizar warlus\n",
    "- Algo que esta buenisimo del warlus, es que si por ejemplo vos estas haciendo un calculo de algo que depende de varias partes (como en el ejemplo de la funcion de haversine de la fuente) podes ver cuanto contribuye cada una de esas partes. Ver ejemplo."
   ]
  },
  {
   "cell_type": "code",
   "execution_count": 10,
   "metadata": {},
   "outputs": [],
   "source": [
    "import numpy as np"
   ]
  },
  {
   "cell_type": "code",
   "execution_count": 1,
   "metadata": {},
   "outputs": [
    {
     "data": {
      "text/plain": [
       "{'a', 'e', 'i', 'o', 'u'}"
      ]
     },
     "execution_count": 1,
     "metadata": {},
     "output_type": "execute_result"
    }
   ],
   "source": [
    "vocales = ['a','e','i','o','u']\n",
    "add_x_tuple = (vocal + 'x' for vocal in vocales) #Esto es en realidad un generador\n",
    "\n",
    "add_x_list = [vocal + 'x' for vocal in vocales]\n",
    "add_x_dict = {key : value + 'x' for key,value in enumerate(vocales)}\n",
    "add_x_set = {s for s in vocales}\n",
    "\n",
    "# print(next(add_x_tuple))\n",
    "# print(next(add_x_tuple))\n",
    "add_x_set"
   ]
  },
  {
   "cell_type": "code",
   "execution_count": 6,
   "metadata": {},
   "outputs": [
    {
     "name": "stdout",
     "output_type": "stream",
     "text": [
      "1\n",
      "4\n",
      "9\n",
      "16\n",
      "25\n",
      "36\n",
      "49\n",
      "64\n",
      "81\n",
      "100\n"
     ]
    }
   ],
   "source": [
    "# Yield\n",
    "def generator():\n",
    "    i = 1\n",
    "    while True:\n",
    "        yield i*i\n",
    "        i += 1\n",
    "\n",
    "# Uso del generador\n",
    "for num in generator():\n",
    "    if num > 100:\n",
    "        break\n",
    "    print(num)"
   ]
  },
  {
   "cell_type": "code",
   "execution_count": 12,
   "metadata": {},
   "outputs": [
    {
     "data": {
      "text/plain": [
       "[-0.7032704687010687, -0.6536436208636119]"
      ]
     },
     "execution_count": 12,
     "metadata": {},
     "output_type": "execute_result"
    }
   ],
   "source": [
    "\n",
    "#warlus\n",
    "warlus = True # Este no imprime el valor\n",
    "#(warlus := True) # Este imprime el valor\n",
    "\n",
    "\n",
    "# Fantastico uso del warlus\n",
    "\n",
    "def trigsum(a,b,c):\n",
    "    alpha = np.sin(a)+(k:=np.cos(b))+np.sin(c)\n",
    "    return alpha,k\n",
    "\n",
    "alpha,k = trigsum(2,4,5)\n",
    "[alpha,k]"
   ]
  }
 ],
 "metadata": {
  "kernelspec": {
   "display_name": "vfproject",
   "language": "python",
   "name": "python3"
  },
  "language_info": {
   "codemirror_mode": {
    "name": "ipython",
    "version": 3
   },
   "file_extension": ".py",
   "mimetype": "text/x-python",
   "name": "python",
   "nbconvert_exporter": "python",
   "pygments_lexer": "ipython3",
   "version": "3.12.0"
  }
 },
 "nbformat": 4,
 "nbformat_minor": 2
}
