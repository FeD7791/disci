{
 "cells": [
  {
   "cell_type": "code",
   "execution_count": null,
   "metadata": {},
   "outputs": [],
   "source": []
  },
  {
   "cell_type": "markdown",
   "metadata": {},
   "source": [
    "# Clase 24 09 2024"
   ]
  },
  {
   "cell_type": "markdown",
   "metadata": {},
   "source": [
    "## Debuging Testing\n",
    "Importante\n",
    "- Mecanografia\n",
    "- Leer Errores : Utilizar Breakpoint. No se puede aprender a programar sin saber debuguear.\n",
    "- Estilo y Prolijidad\n",
    "- Memoria\n",
    "\n",
    "### Estrategia Debugger\n",
    "EL debugger te permite prenar el estado de ejecucion de un codigo. Todos tienen: Breakpoints (Donde Frenar), Ejecutar la siguiente linea (Step Into Step Over)\n",
    "\n",
    "- En python hay 2 debuggers : La gente de ipython creo ipdb que es un debugger mejorado.\n",
    "\n",
    "## Fixtures\n",
    "\n",
    "# Notas\n",
    "Seteo de variables globales: Escribir en la terminal \n",
    "- Repasar Patter Matching\n",
    "- xdg permite correr tests en paralelo\n",
    "- pytest -x frena\n",
    "- el if se evita con polimorfismo\n",
    "- No usar test case, porque una funcion representa mas lo que uni quiere hacer dentro de un testing.\n",
    "- sloccount\n",
    "- Open–closed principle\n",
    "- https://dev.to/mundim/refactoring-replacing-conditional-with-polymorphism-2ob6"
   ]
  },
  {
   "cell_type": "code",
   "execution_count": null,
   "metadata": {},
   "outputs": [],
   "source": []
  }
 ],
 "metadata": {
  "language_info": {
   "name": "python"
  }
 },
 "nbformat": 4,
 "nbformat_minor": 2
}
