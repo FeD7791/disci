{
 "cells": [
  {
   "cell_type": "markdown",
   "metadata": {},
   "source": [
    "# Entendiendo los contextos\n",
    "\n",
    "Esta es la mejor introduccion que he visto a los context managers. Este es un concepto un poco complicado para verlo por pirmera vez.\n",
    "\n",
    "Fuente: <a href=\"https://www.youtube.com/watch?v=Lv1treHIckI\">Video</a>\n",
    "\n",
    "Paso a resumir el video:\n",
    "\n",
    "1) Es importante entender el problema que queremos resolver:\n"
   ]
  },
  {
   "cell_type": "code",
   "execution_count": 17,
   "metadata": {},
   "outputs": [
    {
     "name": "stdout",
     "output_type": "stream",
     "text": [
      "/home/jorgefederico/disci\n"
     ]
    }
   ],
   "source": [
    "from pathlib import Path\n",
    "# Abrir y cerrar un archivo\n",
    "\n",
    "file = open(Path.cwd()/\"disci\"/\"repaso_2024/contextos_archivos/file.txt\",\"w\") # abro el archivo\n",
    "file.write(\"hello world\") # escribo en el \n",
    "file.close() # Lo cierro"
   ]
  },
  {
   "cell_type": "markdown",
   "metadata": {},
   "source": [
    "El tema es el siguiente, si hay algun error en la parte de escritura, vos te quedas con el archivo abierto, por lo cual me gustaria ver una manera de cerrarlo sin importar lo que pase. Por lo cual, agrego un bloque try, finally."
   ]
  },
  {
   "cell_type": "code",
   "execution_count": 18,
   "metadata": {},
   "outputs": [],
   "source": [
    "file = open(Path.cwd()/\"disci\"/\"repaso_2024/contextos_archivos/file.txt\",\"w\") # abro el archivo\n",
    "try:\n",
    "    file.write(\"hello world\") # escribo en el \n",
    "finally: #Ya sabemos que esto se va a ejecutar pase lo que pase\n",
    "    file.close() # Lo cierro"
   ]
  },
  {
   "cell_type": "markdown",
   "metadata": {},
   "source": [
    "Como siguiente paso quisieramos hacer esto de forma mas corta y esto implica usar un manejador de contexto, que es la palabra with. El codigo siguiente es exactamente lo mismo que teniamos arriba."
   ]
  },
  {
   "cell_type": "code",
   "execution_count": 19,
   "metadata": {},
   "outputs": [],
   "source": [
    "with open(Path.cwd()/\"disci\"/\"repaso_2024/contextos_archivos/file.txt\",\"w\") as file:\n",
    "    file.write(\"hello wold\")"
   ]
  },
  {
   "cell_type": "markdown",
   "metadata": {},
   "source": [
    "Ahora vamos a escribir nuestro propip context manager. Existen dos metodos que debemos agregar a nuestra clase para convertirla en un manejador de contexto:\n",
    "\n",
    "- `__enter__()`: Retorna siempre un valor que es el que se le pasa a la palabra designada luego de `as`.\n",
    "- `__exit__()` : Este bloque nos va a permitir manejar excepciones si aparecen ademas de ejecutarse como una especie de finllay.\n"
   ]
  },
  {
   "cell_type": "code",
   "execution_count": 20,
   "metadata": {},
   "outputs": [],
   "source": [
    "class File:\n",
    "    def __init__(self, filename, method):\n",
    "        self.file = open(filename, method)\n",
    "    # Primer metodo\n",
    "    def __enter__(self):\n",
    "        print('Enter') # Agregamos estos prints para ver en que orden se ejecutan las cosas\n",
    "        return self.file \n",
    "    # Segundo metodo\n",
    "    def __exit__(self,type,value,traceback):\n",
    "        print('Exit') # Print para ver que sucede\n",
    "        self.file.close() # Aca le decimos que se cierre pase lo que pase"
   ]
  },
  {
   "cell_type": "code",
   "execution_count": 23,
   "metadata": {},
   "outputs": [
    {
     "name": "stdout",
     "output_type": "stream",
     "text": [
      "Enter\n",
      "Middle\n",
      "Exit\n"
     ]
    },
    {
     "ename": "Exception",
     "evalue": "",
     "output_type": "error",
     "traceback": [
      "\u001b[0;31m---------------------------------------------------------------------------\u001b[0m",
      "\u001b[0;31mException\u001b[0m                                 Traceback (most recent call last)",
      "Cell \u001b[0;32mIn[23], line 5\u001b[0m\n\u001b[1;32m      3\u001b[0m \u001b[38;5;28mprint\u001b[39m(\u001b[38;5;124m\"\u001b[39m\u001b[38;5;124mMiddle\u001b[39m\u001b[38;5;124m\"\u001b[39m)\n\u001b[1;32m      4\u001b[0m file\u001b[38;5;241m.\u001b[39mwrite(\u001b[38;5;124m\"\u001b[39m\u001b[38;5;124mPikachu\u001b[39m\u001b[38;5;124m\"\u001b[39m)\n\u001b[0;32m----> 5\u001b[0m \u001b[38;5;28;01mraise\u001b[39;00m \u001b[38;5;167;01mException\u001b[39;00m \u001b[38;5;66;03m# Veamos que el bloque exit se ejecuta aunque aparezca un error\u001b[39;00m\n",
      "\u001b[0;31mException\u001b[0m: "
     ]
    }
   ],
   "source": [
    "with File(Path.cwd()/\"disci\"/\"repaso_2024/contextos_archivos/file.txt\",\"w\") as file:\n",
    "    # Aca hago cosas con el objeto file que me retorna la clase File\n",
    "    print(\"Middle\")\n",
    "    file.write(\"Pikachu\")\n",
    "    raise Exception # Veamos que el bloque exit se ejecuta aunque aparezca un error"
   ]
  },
  {
   "cell_type": "markdown",
   "metadata": {},
   "source": [
    "Ahora vamos a ir un paso mas alla y vamos a ver de que manera podemos manejar nuestra excepcion:"
   ]
  },
  {
   "cell_type": "code",
   "execution_count": 34,
   "metadata": {},
   "outputs": [],
   "source": [
    "class File:\n",
    "    def __init__(self, filename, method):\n",
    "        self.file = open(filename, method)\n",
    "    # Primer metodo\n",
    "    def __enter__(self):\n",
    "        print('Enter') # Agregamos estos prints para ver en que orden se ejecutan las cosas\n",
    "        return self.file \n",
    "    # Segundo metodo\n",
    "    def __exit__(self,type,value,traceback):\n",
    "        print(f\"type:<{type}> value:<{value}> traceback:<{traceback}>\")\n",
    "        print('Exit') # Print para ver que sucede\n",
    "        self.file.close() # Aca le decimos que se cierre pase lo que pase\n",
    "        # Aca ventdria el manejo de excepcion\n",
    "        if Exception:\n",
    "            print(\"Hubo una excepcion\")\n",
    "            return True # Retornar true, le indica a python que usted manejo la excepcion y esta no se mostrara en ejecucion\n"
   ]
  },
  {
   "cell_type": "code",
   "execution_count": 35,
   "metadata": {},
   "outputs": [
    {
     "name": "stdout",
     "output_type": "stream",
     "text": [
      "Enter\n",
      "Middle\n",
      "type:<<class 'Exception'>> value:<> traceback:<<traceback object at 0x7f6a481f2340>>\n",
      "Exit\n",
      "Hubo una excepcion\n"
     ]
    }
   ],
   "source": [
    "with File(Path.cwd()/\"disci\"/\"repaso_2024/contextos_archivos/file.txt\",\"w\") as file:\n",
    "    # Aca hago cosas con el objeto file que me retorna la clase File\n",
    "    print(\"Middle\")\n",
    "    file.write(\"Pikachu\")\n",
    "    raise Exception # Veamos que el bloque exit se ejecuta aunque aparezca un error"
   ]
  },
  {
   "cell_type": "markdown",
   "metadata": {},
   "source": [
    "Unas ultimas observaciones\n",
    "- Si exit retorna True, significa que se manejo la excepcion\n",
    "- Si exit retorna None, False se propaga la excepcion"
   ]
  },
  {
   "cell_type": "markdown",
   "metadata": {},
   "source": [
    "## Creando un manejador de contextos con context manager\n",
    "\n",
    "- utilizamos: contextlib.contextmanager como decorador sobre nuestra funcion\n",
    "- La funcion debe ser transformada a genearador por lo cual debe tener yield en lugar de return"
   ]
  },
  {
   "cell_type": "code",
   "execution_count": 37,
   "metadata": {},
   "outputs": [],
   "source": [
    "@contextlib.contextmanager\n",
    "def file(filename,method):\n",
    "    #__enter__()\n",
    "    print('Enter')\n",
    "    file = open(filename,method)\n",
    "    yield file\n",
    "    #__exit__() , aca es donde tambien manejo los errores\n",
    "    file.close()\n",
    "    print('Exit')\n"
   ]
  },
  {
   "cell_type": "code",
   "execution_count": 39,
   "metadata": {},
   "outputs": [
    {
     "name": "stdout",
     "output_type": "stream",
     "text": [
      "Enter\n",
      "middle\n",
      "Exit\n"
     ]
    }
   ],
   "source": [
    "with file(Path.cwd()/\"disci\"/\"repaso_2024/contextos_archivos/file.txt\",\"w\") as f:\n",
    "    print(\"middle\")\n",
    "    f.write(\"contenido\")"
   ]
  },
  {
   "cell_type": "markdown",
   "metadata": {},
   "source": [
    "Notas:\n",
    "- Todo lo que este antes del yield sera ejecutado al principio del bloque with en cuanto el interprete llame a `__enter__`\n",
    "- El codigo despues de  yield sera ejecutado cuando el interprete llame a `__exit__`"
   ]
  },
  {
   "cell_type": "markdown",
   "metadata": {},
   "source": [
    "Veamos como finalmente realizar un manejo de errores:"
   ]
  },
  {
   "cell_type": "code",
   "execution_count": 44,
   "metadata": {},
   "outputs": [],
   "source": [
    "@contextlib.contextmanager\n",
    "def file(filename,method):\n",
    "    #__enter__()\n",
    "    print('Enter')\n",
    "    file = open(filename,method)\n",
    "    try:\n",
    "        yield file\n",
    "    except Exception:\n",
    "        print(\"Hubo una excepcion\")\n",
    "    #__exit__() , aca es donde tambien manejo los errores\n",
    "    # finally:\n",
    "    file.close()\n",
    "    print('Exit')\n"
   ]
  },
  {
   "cell_type": "code",
   "execution_count": 45,
   "metadata": {},
   "outputs": [
    {
     "name": "stdout",
     "output_type": "stream",
     "text": [
      "Enter\n",
      "middle\n",
      "Hubo una excepcion\n",
      "Exit\n"
     ]
    }
   ],
   "source": [
    "with file(Path.cwd()/\"disci\"/\"repaso_2024/contextos_archivos/file.txt\",\"w\") as f:\n",
    "    print(\"middle\")\n",
    "    f.write(\"contenido\")\n",
    "    raise Exception"
   ]
  },
  {
   "cell_type": "markdown",
   "metadata": {},
   "source": [
    "# Manejadores de contextos como decoradores\n",
    "\n",
    "- Deacuerdo con el libro de Fluent python cualquier cosa decorada con @contextmanager se puede utilizar como decorador.\n",
    "\n",
    "Consideremos el siguiente manejador de contexto del libro (Basicamente es un reverseador de palabras, toma una palabra y la escribe alrevez):\n"
   ]
  },
  {
   "cell_type": "code",
   "execution_count": 52,
   "metadata": {},
   "outputs": [],
   "source": [
    "import sys\n",
    "@contextlib.contextmanager\n",
    "def looking_glass():\n",
    "    original_write = sys.stdout.write\n",
    "    def reverse_write(text):\n",
    "        original_write(text[::-1])\n",
    "    sys.stdout.write = reverse_write\n",
    "    msg = ''\n",
    "    try:\n",
    "        yield 'JABBERWOCKY'\n",
    "    except ZeroDivisionError:\n",
    "        msg = 'Please DO NOT divide by zero!'\n",
    "    finally:\n",
    "        sys.stdout.write = original_write\n",
    "        if msg:\n",
    "            print(msg)"
   ]
  },
  {
   "cell_type": "code",
   "execution_count": 53,
   "metadata": {},
   "outputs": [
    {
     "name": "stdout",
     "output_type": "stream",
     "text": [
      "esrev lufituaeb a\n"
     ]
    }
   ],
   "source": [
    "@looking_glass()\n",
    "def verse():\n",
    "    print(\"a beautiful verse\")\n",
    "\n",
    "verse()"
   ]
  },
  {
   "cell_type": "markdown",
   "metadata": {},
   "source": [
    "# chdir de contextlib\n",
    "\n",
    "Contextlib tiene otros usos, copio lo que dice Juan:\n",
    "\n",
    "- closing(thing): Crea un context manager que cierra thing al salir del contexto.\n",
    "- suppress(*exceptions): Context manager para suprimir excepciones específicas.\n",
    "- redirect_stdout(new_target) y redirect_stderr(new_target): Redirigen temporalmente la salida estándar o de error.\n",
    "- chdir(path) Cambia temporalmente el directorio de trabajo actual al especificado por path al entrar en el contexto, y automáticamente restaura el directorio de trabajo original al salir del contexto. <--- Esta ya la utilize antes y permite cambiar de directorio utilizando contextos\n",
    "\n",
    "## Mas importante, Cuando utilizar esto?\n",
    "\n",
    "- Gestión de recursos: Para manejar la adquisición y liberación automática de recursos como archivos, conexiones de red o bases de datos.\n",
    "- **Configuración temporal**: Para establecer un estado temporal y restaurarlo automáticamente, como cambiar directorios de trabajo o modificar variables de entorno.\n",
    "- Manejo de transacciones: Para operaciones que deben completarse en su totalidad o revertirse, como transacciones de base de datos u operaciones atómicas de archivo.\n",
    "- Bloqueos y sincronización: Para gestionar la exclusión mutua en recursos compartidos, como bloqueos de threads o semáforos.\n",
    "- **Medición y logging**: Para rastrear tiempos de ejecución o registrar eventos de entrada/salida de manera automática. *Podriamos probar crear un contexto para medir el tiempo de ejecuion de mi programa.*"
   ]
  }
 ],
 "metadata": {
  "kernelspec": {
   "display_name": "vfproject",
   "language": "python",
   "name": "python3"
  },
  "language_info": {
   "codemirror_mode": {
    "name": "ipython",
    "version": 3
   },
   "file_extension": ".py",
   "mimetype": "text/x-python",
   "name": "python",
   "nbconvert_exporter": "python",
   "pygments_lexer": "ipython3",
   "version": "3.12.0"
  }
 },
 "nbformat": 4,
 "nbformat_minor": 2
}
