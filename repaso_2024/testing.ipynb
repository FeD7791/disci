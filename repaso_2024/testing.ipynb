{
 "cells": [
  {
   "cell_type": "markdown",
   "metadata": {},
   "source": [
    "# Cosas utiles para testing\n",
    "\n",
    "- Para testing utilizamos pytest\n",
    "- Podemoz customizar el mensaje de error en assert: `assert cloud.shape == expected_shape, f\"Expected shape {expected_shape}, but got {cloud.shape}\"`\n",
    "- Para ejecutar varios test podemos utilizar parametrize de pytest."
   ]
  }
 ],
 "metadata": {
  "language_info": {
   "name": "python"
  }
 },
 "nbformat": 4,
 "nbformat_minor": 2
}
