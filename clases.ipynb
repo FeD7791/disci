{
 "cells": [
  {
   "cell_type": "markdown",
   "metadata": {},
   "source": [
    "# Clases\n",
    "\n",
    "Una clase puede definirse como una descripción de un conjunto de objetos que comparten los mismos atributos, operaciones, relaciones y significado.\n",
    "\n",
    "Crear un objeto a partir de una clase se denomina *instanciacion* y esto hace que se trabaje con *instancias* de la clase.\n",
    "\n",
    "Python implementa todo con objetos y modela estos utilizando las clases. Como resultado todo objeto en Python se crea con una clase.\n",
    "\n",
    "## Introduccion\n",
    "### Crear una clase\n",
    "\n",
    "1. En primera instancia deacuerdo al PEP 008 Una clase debe tener el nombre capitalizado \n",
    "2. El Dunder _ _init_ _(*self*, *otros parametros*): Este es un objeto especial al que llama python cada vez que vamos a instanciar un objeto con la clase. Este metodo siempre tiene como parametro *self* mas otros parametros que definamos para nuestra clase. Esta declaracion debe venir antes de cualquier otro parametro.\n",
    "3. Los metodos de la clase, que vendrian a ser como funciones de la misma, tienen como parametro *self* y parametros adicionales. Pasar el parametro *self* , entiendo yo, permite al metodo de la clase interactuar con los parametros de la clase definidos.\n",
    "    - Todo metodo de la Clase llamado por python pasa el argumento *self* . Este le da acceso a los atributos y metodos de la clase a cada nueva instancia"
   ]
  },
  {
   "cell_type": "code",
   "execution_count": 132,
   "metadata": {},
   "outputs": [],
   "source": [
    "import pandas as pd\n",
    "import matplotlib.pyplot as plt"
   ]
  },
  {
   "cell_type": "code",
   "execution_count": 20,
   "metadata": {},
   "outputs": [],
   "source": [
    "class Dog():\n",
    "    def __init__(self,name,age): \n",
    "        self.name = name\n",
    "        self.age = age\n",
    "    \n",
    "    def sit(self):\n",
    "        print(self.name.title() + 'is now sitting')\n",
    "    \n",
    "    def roll(self):\n",
    "        print(self.name + 'is now rolling')"
   ]
  },
  {
   "cell_type": "code",
   "execution_count": 21,
   "metadata": {},
   "outputs": [
    {
     "name": "stdout",
     "output_type": "stream",
     "text": [
      "Fidois now sitting\n",
      "fidois now rolling\n",
      "Fido is 7 years old \n"
     ]
    }
   ],
   "source": [
    "fido = Dog('fido',7)\n",
    "fido.sit()\n",
    "fido.roll()\n",
    "print(fido.name.title() + ' is ' + str(fido.age) + ' years old ')"
   ]
  },
  {
   "cell_type": "markdown",
   "metadata": {},
   "source": [
    "Si damos el mismo nombre para otra instancia de la clase, python crea una instancia distinta:"
   ]
  },
  {
   "cell_type": "code",
   "execution_count": 22,
   "metadata": {},
   "outputs": [
    {
     "name": "stdout",
     "output_type": "stream",
     "text": [
      "1828451574992\n",
      "1828451574992\n",
      "1828451254096\n"
     ]
    }
   ],
   "source": [
    "levany = Dog('levany',8)\n",
    "print(id(levany))\n",
    "print(id(levany))\n",
    "levany = Dog('levany',8)\n",
    "print(id(levany))"
   ]
  },
  {
   "cell_type": "markdown",
   "metadata": {},
   "source": [
    "La funcion **<div style='color:blue'>isinstance(objeto,clase)</div>** nos permite saber si un determinado objeto pertenece a una determinada clase"
   ]
  },
  {
   "cell_type": "code",
   "execution_count": 23,
   "metadata": {},
   "outputs": [
    {
     "name": "stdout",
     "output_type": "stream",
     "text": [
      "True\n"
     ]
    }
   ],
   "source": [
    "print(isinstance(levany,Dog))"
   ]
  },
  {
   "cell_type": "markdown",
   "metadata": {},
   "source": [
    "Podemos inicializar un atributo por defecto y podemos utilizar un metodo para modificarlo. Tambien puedes modificar el atributo simplemente llamandolo."
   ]
  },
  {
   "cell_type": "code",
   "execution_count": 24,
   "metadata": {},
   "outputs": [],
   "source": [
    "class Car():\n",
    "    def __init__(self,brand,model,year):\n",
    "        self.brand = brand\n",
    "        self.model = model\n",
    "        self.year = year\n",
    "        self.km = 0\n",
    "    \n",
    "    def new_or_old(self):\n",
    "        if (self.km >0):\n",
    "            return 'The car model '+ self.model.title() + ' is not new cause it has ' + str(self.km) + ' km'\n",
    "        elif(self.km<0):\n",
    "            return 'Negative kilometers, error!'\n",
    "        else:\n",
    "            return 'The car model ' + self.model.title() + ' and year ' + str(self.year) + ' is new!'\n",
    "    \n",
    "    def travel(self,x_km):\n",
    "        # self.km = self.km + x_km  #Son lo mismo\n",
    "        self.km += x_km\n",
    "        return 'Because you traveled ' + str(x_km) + ' The car ' + self.brand + ' model ' + self.model + ' now has ' + str(self.km) + 'kms'\n",
    "\n"
   ]
  },
  {
   "cell_type": "code",
   "execution_count": 25,
   "metadata": {},
   "outputs": [
    {
     "name": "stdout",
     "output_type": "stream",
     "text": [
      "The car model March and year 2017 is new!\n",
      "Because you traveled 3000 The car nissan model march now has 3000kms\n",
      "The car model March is not new cause it has 3000 km\n",
      "The car model March is not new cause it has 17000 km\n"
     ]
    }
   ],
   "source": [
    "my_car = Car('nissan','march',2017)\n",
    "print(my_car.new_or_old())\n",
    "print(my_car.travel(3000))\n",
    "print(my_car.new_or_old())\n",
    "my_car.km = 17000\n",
    "print(my_car.new_or_old())"
   ]
  },
  {
   "cell_type": "markdown",
   "metadata": {},
   "source": [
    "### Un poco mas avanzado __new__ , __init__\n",
    "\n",
    "<a href='https://www.pythontutorial.net/python-oop/python-__new__/'>Source</a>\n",
    "\n",
    "Aunque en lo anterior no se ha visto, toda clase tiene un constructor. Este constructor esta representado por el metodo _ _new_ _ , mientras que _ _init_ _ es el metodo de inicializacion.\n",
    "\n",
    "Aqui es clave tener en cuenta que toda clas hereda de la clase *object* y esto es fundamental si queremos agregar el constructor a nuestra clase. Veamos entonces el siguiente ejemplo:"
   ]
  },
  {
   "cell_type": "code",
   "execution_count": null,
   "metadata": {},
   "outputs": [],
   "source": [
    "#Forma normal y vieja sin __new__\n",
    "class Person:\n",
    "    def __init__(self, name):\n",
    "        print(f'Initializing the person object...')\n",
    "        self.name = name\n",
    "\n",
    "#Forma utilizando el constructor __new__\n",
    "class Person:\n",
    "    def __new__(cls, name): #Aca debemos incluir todos los argumentos que tendremos en la inicializacion por mas que no se usen\n",
    "        print(f'Creating a new {cls.__name__} object...')\n",
    "        obj = object.__new__(cls) # aca podriamos agregar obj = super().__new__(cls) es lo mismo\n",
    "        return obj\n",
    "\n",
    "    def __init__(self, name):\n",
    "        print(f'Initializing the person object...')\n",
    "        self.name = name"
   ]
  },
  {
   "cell_type": "markdown",
   "metadata": {},
   "source": [
    "Tener en cuenta que el metodo __new__ es un metodo estatico, lo que significa que es un metodo de la clase y no de una instancia de la clase."
   ]
  },
  {
   "cell_type": "markdown",
   "metadata": {},
   "source": [
    "## Herencia\n",
    "Cuando una clase hereda de otra, la primera hereda todos los atributos y metodos de la segunda.\n",
    "\n",
    "Para crear una clase que hereda de otra tenemos que:\n",
    "\n",
    "1. Definir la nueva clase pasandole como argumento la clase padre\n",
    "2. Se puede incluir la funcion super()._ _init_ _() para que la clase hija herede todos atributos y metodos especificos de la clase padre. Si no utilizamos esto en la clase hija no podremos acceder a los atributos ni metodos de la clase padre."
   ]
  },
  {
   "cell_type": "code",
   "execution_count": 26,
   "metadata": {},
   "outputs": [],
   "source": [
    "class Pokemon():\n",
    "    def __init__(self,hp,atk,defense,speed,name):\n",
    "        self.hp = hp\n",
    "        self.atk = atk\n",
    "        self.defense = defense\n",
    "        self.speed = speed\n",
    "        self.name = name\n",
    "    \n",
    "    def tell_name(self):\n",
    "        print('Pokemon name is: ' + self.name)\n",
    "\n",
    "class Type_of_Pokemon(Pokemon):\n",
    "    def __init__(self,p_type,action):\n",
    "        self.action = ''\n",
    "        self.p_type = p_type\n",
    "        super().__init__(hp=50,atk=50,defense=50,speed=120,name='pokemon')# Si omitimos esto no podriamos definir hp por ejemplo\n",
    "    \n",
    "    def attack(self):\n",
    "        if(self.action == 'attack'):\n",
    "            print(self.name + ' attacks with lightning!')\n",
    "        else:\n",
    "            print(self.name + ' is confused')\n",
    "\n",
    "    def typing(self):\n",
    "        print('Pokemon type is: ' + self.p_type )\n",
    "    "
   ]
  },
  {
   "cell_type": "code",
   "execution_count": 27,
   "metadata": {},
   "outputs": [],
   "source": [
    "pikachu = Type_of_Pokemon(p_type='Electric',action='attack')"
   ]
  },
  {
   "cell_type": "code",
   "execution_count": 28,
   "metadata": {},
   "outputs": [
    {
     "name": "stdout",
     "output_type": "stream",
     "text": [
      "50\n",
      "60\n",
      "Pokemon name is: pokemon\n",
      "[<class '__main__.Type_of_Pokemon'>, <class '__main__.Pokemon'>, <class 'object'>]\n"
     ]
    }
   ],
   "source": [
    "print(pikachu.hp)\n",
    "pikachu.hp = 60\n",
    "print(pikachu.hp)\n",
    "pikachu.tell_name()\n",
    "print(Type_of_Pokemon.mro())"
   ]
  },
  {
   "cell_type": "markdown",
   "metadata": {},
   "source": [
    "Podemos sobreescribir un metodo de la clase padre:"
   ]
  },
  {
   "cell_type": "code",
   "execution_count": 29,
   "metadata": {},
   "outputs": [
    {
     "name": "stdout",
     "output_type": "stream",
     "text": [
      "I dont have a name\n"
     ]
    }
   ],
   "source": [
    "class Pokemon_z(Pokemon):\n",
    "    def __init__(self, hp, atk, defense, speed, name):\n",
    "        super().__init__(hp, atk, defense, speed, name)\n",
    "\n",
    "    def tell_name(self):\n",
    "        print('I dont have a name')\n",
    "\n",
    "quagsire = Pokemon_z(hp=50,atk=50,defense=100,speed=10,name='quagsire')\n",
    "quagsire.tell_name()"
   ]
  },
  {
   "cell_type": "markdown",
   "metadata": {},
   "source": [
    "# Creacion avanzada de clases\n",
    "\n",
    "En esta seccion vamos a ver metodos de creacion avanzados de clases. Particularmente los **Class Builders** que vemos en dicha seccion utilizan estos metodos. \n",
    "\n",
    "Como fuente vamos a utilizar un poco de esto: https://glyph.twistedmatrix.com/2016/08/attrs.html\n",
    "Esta fuente esta buena porque para intentar la justificacion de su solucion va analizando los pasos a pasos de la creacion de una clase.\n"
   ]
  },
  {
   "cell_type": "markdown",
   "metadata": {},
   "source": [
    "## Representacion de clases, el dunder repr\n",
    "Source: https://www.geeksforgeeks.org/python-__repr__-magic-method/\n",
    "\n",
    "Cuando nosotros creamos una clase con algun nombre al llamarla debemos recibir un tipo de representacion de la misma. Por lo general lo que recibimos el ago referente a la direccion de memoria donde se guarda."
   ]
  },
  {
   "cell_type": "code",
   "execution_count": 30,
   "metadata": {},
   "outputs": [
    {
     "name": "stdout",
     "output_type": "stream",
     "text": [
      "<__main__.pokemon object at 0x000001A9B8355FD0>\n"
     ]
    }
   ],
   "source": [
    "class pokemon():\n",
    "    #El dunder init se utiliza para inicializar los valores de la clase, puede prescindirse de el\n",
    "    def __init__(self,type_p,name,combat):\n",
    "        self.type_p = type_p\n",
    "        self.name = name\n",
    "        self.combat = combat\n",
    "\n",
    "pikachu = pokemon('electric','sparks',{'atk':52,'def':20,'speed':90})\n",
    "print(pikachu)"
   ]
  },
  {
   "cell_type": "markdown",
   "metadata": {},
   "source": [
    "Si queremos otro tipo de representacion para nuestra clase tenemos que utilizar el dunder method repr. Aqui especificamos que es lo que queremo que muestre nuestra clase cuando sea llamada."
   ]
  },
  {
   "cell_type": "code",
   "execution_count": 31,
   "metadata": {},
   "outputs": [
    {
     "name": "stdout",
     "output_type": "stream",
     "text": [
      "pokemon{'type': 'electric', 'name': 'sparks', 'pokemon combat stats': {'atk': 52, 'def': 20, 'speed': 90}}\n"
     ]
    }
   ],
   "source": [
    "class pokemon():\n",
    "    #El dunder init se utiliza para inicializar los valores de la clase, puede prescindirse de el\n",
    "    def __init__(self,type_p,name,combat):\n",
    "        self.type_p = type_p\n",
    "        self.name = name\n",
    "        self.combat = combat\n",
    "    \n",
    "    def __repr__(self):\n",
    "        return(self.__class__.__name__ + str({'type':self.type_p,'name':self.name,'pokemon combat stats':self.combat}))\n",
    "\n",
    "pikachu = pokemon('electric','sparks',{'atk':52,'def':20,'speed':90})\n",
    "print(pikachu)"
   ]
  },
  {
   "cell_type": "markdown",
   "metadata": {},
   "source": [
    "Como podemos ver tenemos una mejor representacion de nuestra clase y los valores con los que cuenta."
   ]
  },
  {
   "cell_type": "markdown",
   "metadata": {},
   "source": [
    "## Igualdad entre dos elementos de la misma clase, el dunder eq\n",
    "\n",
    "Source: https://www.pythontutorial.net/python-oop/python-__eq__/\n",
    "\n",
    "Si nosotros creamos dos elementos de la misma clase, con exactamente los mismos atributos, lo esperable es que si igualamos estos atributos e imprimamos el resultado nos de True, indicando que los elementos son iguales.\n",
    "\n",
    "Bueno esto no es lo que sucede, pues lo que compara es la direccion de memoria de ambas clases. Por lo cual el resultado seria false:"
   ]
  },
  {
   "cell_type": "code",
   "execution_count": 32,
   "metadata": {},
   "outputs": [
    {
     "name": "stdout",
     "output_type": "stream",
     "text": [
      "False\n"
     ]
    }
   ],
   "source": [
    "pikachu = pokemon('electric','sparks',{'atk':52,'def':20,'speed':90})\n",
    "pikachu2 = pokemon('electric','sparks',{'atk':52,'def':20,'speed':90})\n",
    "print(pikachu==pikachu2)"
   ]
  },
  {
   "cell_type": "markdown",
   "metadata": {},
   "source": [
    "Podemos re definir la clase utilizando el dunder eq para poder comparar nuestros objetos\n"
   ]
  },
  {
   "cell_type": "code",
   "execution_count": 33,
   "metadata": {},
   "outputs": [
    {
     "name": "stdout",
     "output_type": "stream",
     "text": [
      "True\n"
     ]
    }
   ],
   "source": [
    "class pokemon():\n",
    "    #El dunder init se utiliza para inicializar los valores de la clase, puede prescindirse de el\n",
    "    def __init__(self,type_p,name,combat):\n",
    "        self.type_p = type_p\n",
    "        self.name = name\n",
    "        self.combat = combat\n",
    "    \n",
    "    def __repr__(self):\n",
    "        return(self.__class__.__name__ + str({'type':self.type_p,'name':self.name,'pokemon combat stats':self.combat}))\n",
    "    \n",
    "    def __eq__(self,other):\n",
    "        return(self.type_p==other.type_p and self.name==other.name and self.combat==other.combat) \n",
    "    \n",
    "pikachu = pokemon('electric','sparks',{'atk':52,'def':20,'speed':90})\n",
    "pikachu2 = pokemon('electric','sparks',{'atk':52,'def':20,'speed':90})\n",
    "print(pikachu==pikachu2)"
   ]
  },
  {
   "cell_type": "markdown",
   "metadata": {},
   "source": [
    "Podemos mejorar esto preguntando si el objeto , other, es un objeto de la clase. Esto facilita la comparacion"
   ]
  },
  {
   "cell_type": "code",
   "execution_count": 34,
   "metadata": {},
   "outputs": [
    {
     "name": "stdout",
     "output_type": "stream",
     "text": [
      "True\n",
      "the objecto is not an instance of pokemon\n"
     ]
    }
   ],
   "source": [
    "class pokemon():\n",
    "    #El dunder init se utiliza para inicializar los valores de la clase, puede prescindirse de el\n",
    "    def __init__(self,type_p,name,combat):\n",
    "        self.type_p = type_p\n",
    "        self.name = name\n",
    "        self.combat = combat\n",
    "    \n",
    "    def __repr__(self):\n",
    "        return(self.__class__.__name__ + str({'type':self.type_p,'name':self.name,'pokemon combat stats':self.combat}))\n",
    "    \n",
    "    def __eq__(self,other):\n",
    "        if isinstance(other,pokemon):\n",
    "            return(self.type_p==other.type_p and self.name==other.name and self.combat==other.combat) \n",
    "        else:\n",
    "            return ('the objecto is not an instance of '+self.__class__.__name__)\n",
    "    \n",
    "pikachu = pokemon('electric','sparks',{'atk':52,'def':20,'speed':90})\n",
    "pikachu2 = pokemon('electric','sparks',{'atk':52,'def':20,'speed':90})\n",
    "print(pikachu==pikachu2)\n",
    "print(pikachu == 23)"
   ]
  },
  {
   "cell_type": "markdown",
   "metadata": {},
   "source": [
    "## Construccion de clases con ATTRS\n",
    "\n",
    "Para construir clases de menra mas eficiente y de manera menos verbosa tenemos dos opciones, utilizamos los dataclass builders o bien podemos utilizar attrs que es una excelente libreria para crear clases.\n",
    "\n",
    "Las siguientes lecturas son super interesantes:\n",
    "\n",
    "- Source 1: (https://glyph.twistedmatrix.com/2016/08/attrs.html) Discute las distintas maneras de crear una clase y los problemas que conlleva\n",
    "- Source 2: (https://www.attrs.org/en/stable/) Documentacion oficial de attrs\n",
    "- Source 3: (https://www.attrs.org/en/stable/why.html) Similar a Source 1."
   ]
  },
  {
   "cell_type": "code",
   "execution_count": 38,
   "metadata": {},
   "outputs": [
    {
     "name": "stdout",
     "output_type": "stream",
     "text": [
      "19\n"
     ]
    }
   ],
   "source": [
    "import attrs\n",
    "from attrs import asdict, define, make_class, Factory, field, converters\n",
    "#Creemos una clase\n",
    "@define\n",
    "class SomeClass:\n",
    "    a_number: int = 42 #Defautl value\n",
    "    list_of_numbers: list[int] = Factory(list)\n",
    "\n",
    "    def hard_math(self,another_numnber):\n",
    "        return self.a_number + sum(self.list_of_numbers) * another_numnber\n",
    "    \n",
    "sc =SomeClass(1,[1,2,3])\n",
    "print(sc.hard_math(3))"
   ]
  },
  {
   "cell_type": "markdown",
   "metadata": {},
   "source": [
    "## Creacion de una clase utilizando attrs\n",
    "Source: https://www.attrs.org/en/stable/api.html#\n",
    "*attrs works by decorating a class using attrs.define or attr.s and then defining attributes on the class using attrs.field, attr.ib, or type annotations*\n",
    "\n",
    "- Lo Viejo: *The classic attr that powers the venerable attr.s and attr.ib.*\n",
    "- Lo Actual: *The newer attrs that only contains most modern APIs and relies on attrs.define and attrs.field to define your classes. Additionally it offers some attr APIs with nicer defaults (e.g. attrs.asdict).*\n",
    "\n",
    "Es decir que para crear una clase utilizaremos **attrs.define** y para definir sus atributso utilizaremos **attrs.field**\n",
    "\n",
    "Hay dos opciones que podemos implementar. Importar attrs y utilizar sus metodos o bien puede importar tambien los metodos y tener que escribir menos"
   ]
  },
  {
   "cell_type": "code",
   "execution_count": 39,
   "metadata": {},
   "outputs": [],
   "source": [
    "import numpy as np\n",
    "@attrs.define\n",
    "class pokemon1:\n",
    "    attack: int = attrs.field(default=0)\n",
    "    defense: int = attrs.field(default=0)\n",
    "\n",
    "@define \n",
    "class pokemon:\n",
    "    attack: int = field(default = 0)\n",
    "    defense: int = field(default = 0)\n",
    "\n",
    "\n"
   ]
  },
  {
   "cell_type": "markdown",
   "metadata": {},
   "source": [
    "### attrs Factory\n",
    "Esta opcion nos sirve para crear valores con una determinada forma pero sin inicializarlos a algun valor por default. Veamos esto."
   ]
  },
  {
   "cell_type": "code",
   "execution_count": 40,
   "metadata": {},
   "outputs": [
    {
     "name": "stdout",
     "output_type": "stream",
     "text": [
      "[1, 1, 1]\n"
     ]
    },
    {
     "ename": "TypeError",
     "evalue": "'numpy.ndarray' object is not callable",
     "output_type": "error",
     "traceback": [
      "\u001b[1;31m---------------------------------------------------------------------------\u001b[0m",
      "\u001b[1;31mTypeError\u001b[0m                                 Traceback (most recent call last)",
      "\u001b[1;32mc:\\Users\\Fede\\Desktop\\ingenieria_software\\miTeoria\\clases.ipynb Cell 34\u001b[0m line \u001b[0;36m1\n\u001b[0;32m      <a href='vscode-notebook-cell:/c%3A/Users/Fede/Desktop/ingenieria_software/miTeoria/clases.ipynb#X45sZmlsZQ%3D%3D?line=8'>9</a>\u001b[0m \u001b[39mprint\u001b[39m(box1\u001b[39m.\u001b[39mx)\n\u001b[0;32m     <a href='vscode-notebook-cell:/c%3A/Users/Fede/Desktop/ingenieria_software/miTeoria/clases.ipynb#X45sZmlsZQ%3D%3D?line=9'>10</a>\u001b[0m \u001b[39m#Problem porque x no tiene valor asignado por defecto\u001b[39;00m\n\u001b[1;32m---> <a href='vscode-notebook-cell:/c%3A/Users/Fede/Desktop/ingenieria_software/miTeoria/clases.ipynb#X45sZmlsZQ%3D%3D?line=10'>11</a>\u001b[0m box2 \u001b[39m=\u001b[39m Box(y\u001b[39m=\u001b[39;49m[\u001b[39m1\u001b[39;49m,\u001b[39m1\u001b[39;49m,\u001b[39m1\u001b[39;49m])\n\u001b[0;32m     <a href='vscode-notebook-cell:/c%3A/Users/Fede/Desktop/ingenieria_software/miTeoria/clases.ipynb#X45sZmlsZQ%3D%3D?line=11'>12</a>\u001b[0m \u001b[39mprint\u001b[39m(box2\u001b[39m.\u001b[39mx)\n",
      "File \u001b[1;32m<attrs generated init __main__.Box>:5\u001b[0m, in \u001b[0;36m__init__\u001b[1;34m(self, x, y, z)\u001b[0m\n\u001b[0;32m      3\u001b[0m     \u001b[39mself\u001b[39m\u001b[39m.\u001b[39mx \u001b[39m=\u001b[39m x\n\u001b[0;32m      4\u001b[0m \u001b[39melse\u001b[39;00m:\n\u001b[1;32m----> 5\u001b[0m     \u001b[39mself\u001b[39m\u001b[39m.\u001b[39mx \u001b[39m=\u001b[39m __attr_factory_x()\n\u001b[0;32m      6\u001b[0m \u001b[39mself\u001b[39m\u001b[39m.\u001b[39my \u001b[39m=\u001b[39m y\n\u001b[0;32m      7\u001b[0m \u001b[39mself\u001b[39m\u001b[39m.\u001b[39mz \u001b[39m=\u001b[39m z\n",
      "\u001b[1;31mTypeError\u001b[0m: 'numpy.ndarray' object is not callable"
     ]
    }
   ],
   "source": [
    "@define\n",
    "class Box:\n",
    "    x: float = Factory(np.array([])) #No esta inicializado a un valor por defecto\n",
    "    y: float = np.array([]) #Tiene como un default value un arreglo de numpy vacio: []\n",
    "    z: float = np.array([]) #Tiene como un default value un arreglo de numpy vacio: []\n",
    "\n",
    "#No problem porque estoy dando un valor a x que no tiene valor, mientras que y=[], z=[]\n",
    "box1 = Box(x=[1,1,1])\n",
    "print(box1.x)\n",
    "#Problem porque x no tiene valor asignado por defecto\n",
    "box2 = Box(y=[1,1,1])\n",
    "print(box2.x)"
   ]
  },
  {
   "cell_type": "markdown",
   "metadata": {},
   "source": [
    "### attrs.validator\n",
    "Source: https://www.attrs.org/en/stable/api.html#module-attrs.validators\n",
    "\n",
    "Validatos nos permite levantar un valueerror cada vez que no se cumpla una condicion que podemos especificar.\n",
    "\n",
    "Algunos validadores que tenemos son:\n",
    "\n",
    "Sintaxis:\n",
    "x = field(validator= attrs.validators.[validador aca!])\n",
    "\n",
    "1. Numeros menores, iguales o mayores a un determinado valor\n",
    "\n",
    "- attrs.validators.lt(val) # lt <==> Value error si el elemento es <= a val\n",
    "- attrs.validators.le(val)\n",
    "- attrs.validators.ge(val)\n",
    "- attrs.validators.gt(val)\n",
    "\n",
    "2. strings e iterables\n",
    "\n",
    "- attrs.validators.max_len(length)\n",
    "- attrs.validators.min_len(length)\n",
    "\n",
    "3. isinstance\n",
    "\n",
    "- attrs.validators.instance_of(type)\n",
    "\n",
    "4. Valir particular no permitido\n",
    "\n",
    "- attrs.validators.is_callable()\n",
    "\n",
    "5. Regex\n",
    "\n",
    "- attrs.validators.matches_re(regex, flags=0, func=None)\n",
    "\n",
    "6. Validar diccionario\n",
    "\n",
    "- attrs.validators.deep_mapping(key_validator, value_validator, mapping_validator=None)"
   ]
  },
  {
   "cell_type": "markdown",
   "metadata": {},
   "source": [
    "### attrs.asdict()\n",
    "De manera similar a los class builders attrs tiene muchas propiedades similares, como frozen o como asdict"
   ]
  },
  {
   "cell_type": "code",
   "execution_count": null,
   "metadata": {},
   "outputs": [
    {
     "name": "stdout",
     "output_type": "stream",
     "text": [
      "{'x': [1, 1, 1], 'y': array([], dtype=float64), 'z': array([], dtype=float64)}\n"
     ]
    }
   ],
   "source": [
    "print(attrs.asdict(box1))"
   ]
  },
  {
   "cell_type": "markdown",
   "metadata": {},
   "source": [
    "### __attrs_pre_init__()\n",
    "Esto generalmente se utiliza con una superclase, es decir, si tu clase esta heredando de otra clase. Este atributo se ejecuta antes de __init_ _()\n",
    "\n",
    "Ejemplo:"
   ]
  },
  {
   "cell_type": "code",
   "execution_count": null,
   "metadata": {},
   "outputs": [],
   "source": [
    "# def __attrs_pre_init__(self):\n",
    "#         try:\n",
    "#             len_x = len(self.x)\n",
    "#             len_y = len(self.y)\n",
    "#             len_z = len(self.z)\n",
    "\n",
    "#             if(sum(len_x,len_y,len_z) != 3*len_x):\n",
    "#                 print('Arrays must be of the same type')\n",
    "#                 raise ValueError\n",
    "#         except TypeError:\n",
    "#             print('Problem, values are not array')"
   ]
  },
  {
   "cell_type": "markdown",
   "metadata": {},
   "source": [
    "### Construccion de la clase Box"
   ]
  },
  {
   "cell_type": "code",
   "execution_count": 41,
   "metadata": {},
   "outputs": [],
   "source": [
    "def to_np_arr(element):\n",
    "        return np.array(element)\n",
    "\n",
    "@define\n",
    "\n",
    "\n",
    "class Box:\n",
    "    x = field(converter=to_np_arr)\n",
    "    y = field(converter=to_np_arr)\n",
    "    z = field(converter=to_np_arr)\n",
    "    vx = field(converter=to_np_arr)\n",
    "    vy = field(converter=to_np_arr)\n",
    "    vz = field(converter=to_np_arr)\n",
    "\n",
    "    def build_df(self):\n",
    "        data_df = np.vstack((self.x,self.y,self.z,self.vx,self.vy,self.vz))\n",
    "        data_df = pd.DataFrame(data_df.transpose())\n",
    "        data_df.columns = ['x','y','z','vx','vy','vz']\n",
    "        return data_df\n",
    "\n",
    "    def _check_length(self):\n",
    "        if (\n",
    "            len(self.x) == len(self.y) and \n",
    "            len(self.x) == len(self.z) and \n",
    "            len(self.vx) == len(self.x) and \n",
    "            len(self.x) == len(self.vy) and \n",
    "            len(self.vz) ==len(self.x)\n",
    "            ):\n",
    "            pass\n",
    "        else:\n",
    "            print('Arrays should be of the same size')\n",
    "            raise ValueError\n",
    "        \n",
    "    def slice(self,n,parameter):\n",
    "        try:\n",
    "            if parameter == 'pos':\n",
    "                columns = ['x','z','y','distance']\n",
    "                slices = slicer(self.x,self.y,self.z,n,columns)\n",
    "            elif parameter == 'vel':\n",
    "                columns = ['vx','vz','vy','v modulus']\n",
    "                slices = slicer(self.vx,self.vy,self.vz,n,columns)\n",
    "            return slices\n",
    "        except (ValueError):\n",
    "            return 'Invalid Parameter input. parameter = {pos,vel} '\n",
    "\n",
    "    def __attrs_post_init__(self):\n",
    "        self._check_length()\n",
    "   \n",
    "\n"
   ]
  },
  {
   "cell_type": "code",
   "execution_count": null,
   "metadata": {},
   "outputs": [],
   "source": [
    "def distance_metric(x,y,z):\n",
    "            d = np.array([])\n",
    "            for i in range(x.size):\n",
    "                d = np.append(d,LA.norm([x[i],y[i],z[i]]))\n",
    "            return d\n",
    "\n",
    "def slicer(x,y,z,n,cols):\n",
    "        size = x.size\n",
    "        (x_min,x_max) = (x.min(),x.max())\n",
    "        (y_min,y_max) = (y.min(),y.max())\n",
    "        (z_min,z_max) = (z.min(),z.max())\n",
    "        \n",
    "        step_x = (x_max-x_min)/n\n",
    "        step_y = (y_max-y_min)/n\n",
    "        step_z = (z_max-z_min)/n\n",
    "\n",
    "        xx = np.arange(x_min,x_max,step_x)\n",
    "        yy = np.arange(y_min,y_max,step_y)\n",
    "        zz = np.arange(z_min,z_max,step_z)\n",
    "\n",
    "        grid_d = distance_metric(xx,yy,zz)\n",
    "        arr = np.vstack((x,y,z,distance_metric(x,y,z)))\n",
    "        arr = pd.DataFrame(arr.transpose())\n",
    "        arr.columns = cols\n",
    "\n",
    "        arreglo = []\n",
    "        for i in range(len(grid_d)): \n",
    "            if i == 0:\n",
    "                arrayy = arr.loc[(arr[cols[3]])<grid_d[i+1]]\n",
    "                arreglo.append(arrayy)\n",
    "            elif  i < len(grid_d)-1:\n",
    "                arrayy = arr.loc[(arr[cols[3]]>grid_d[i]) & (arr[cols[3]]< grid_d[i+1])]\n",
    "                arreglo.append(arrayy)\n",
    "            else:\n",
    "                arrayy = arr.loc[(arr[cols[3]])>grid_d[len(grid_d)-1]]\n",
    "                arreglo.append(arrayy)\n",
    "        return arreglo\n"
   ]
  },
  {
   "cell_type": "code",
   "execution_count": 7,
   "metadata": {},
   "outputs": [],
   "source": [
    "\"\"\"Class Box object constructor.\"\"\"\n",
    "from astropy import units as u\n",
    "\n",
    "import numpy as np\n",
    "\n",
    "import uttr\n",
    "\n",
    "\n",
    "@uttr.s(repr=False, frozen=True, cmp=False)\n",
    "class Box:\n",
    "    \"\"\"Box Class.\n",
    "\n",
    "    Class used to describe a set of points (x,y,z) alongside with its\n",
    "    velocities (vx,vy,vz)\n",
    "\n",
    "    Attributes\n",
    "    ----------\n",
    "    x : numpy.ndarray\n",
    "    y : numpy.ndarray\n",
    "    z : numpy.ndarray\n",
    "        (x,y,z) array of position elements\n",
    "    vx : numpy.ndarray\n",
    "    vy : numpy.ndarray\n",
    "    vz : numpy.ndarray\n",
    "        (vx,vy,vz) array of velocity elements\n",
    "\n",
    "    Methods\n",
    "    -------\n",
    "    build_df(self)\n",
    "        Transforms the set into a pandas dataframe\n",
    "\n",
    "    _check_length(self)\n",
    "        Verifies that the lenght of the inputs are the same\n",
    "\n",
    "    slice(self,n,parameter)\n",
    "        Calls the function Slicer to slice the set in n parts\n",
    "    \"\"\"\n",
    "\n",
    "    x = uttr.ib(converter=np.array, unit=u.Mpc)\n",
    "    y = uttr.ib(converter=np.array, unit=u.Mpc)\n",
    "    z = uttr.ib(converter=np.array, unit=u.Mpc)\n",
    "    vx = uttr.ib(converter=np.array, unit=u.Mpc / u.h)\n",
    "    vy = uttr.ib(converter=np.array, unit=u.Mpc / u.h)\n",
    "    vz = uttr.ib(converter=np.array, unit=u.Mpc / u.h)\n",
    "    m = uttr.ib(converter=np.array, unit=u.M_sun)\n",
    "\n",
    "    _len = uttr.ib(init=False)\n",
    "\n",
    "    def __attrs_post_init__(self):\n",
    "        \"\"\"Post init method.\n",
    "\n",
    "        Checks that the lenght of the inputs are the same\n",
    "        \"\"\"\n",
    "        lengths = set(())\n",
    "        for e in (self.x, self.y, self.z, self.vx, self.vy, self.vz):\n",
    "            lengths.add(len(e))\n",
    "\n",
    "        if len(lengths) != 1:\n",
    "            raise ValueError(\"Arrays should be of the same size\")\n",
    "\n",
    "        super().__setattr__(\"_len\", lengths.pop())\n",
    "\n",
    "    def __len__(self):\n",
    "        \"\"\"Length method.\n",
    "\n",
    "        Returns\n",
    "        -------\n",
    "            int\n",
    "                the number of elements in the box\n",
    "        \"\"\"\n",
    "        return self._len\n",
    "\n",
    "    def __eq__(self, other):\n",
    "        \"\"\"\n",
    "        Return True if the two objects are equal, False otherwise.\n",
    "\n",
    "        Objects are considered equal if their `x`, `y`, `z`, `vx`, `vy`, `vz`,\n",
    "        and `m` attributes are all equal.\n",
    "\n",
    "        Parameters\n",
    "        ----------\n",
    "        other : object\n",
    "            The other object to compare to.\n",
    "\n",
    "        Returns\n",
    "        -------\n",
    "        bool\n",
    "        True if the two objects are equal, False otherwise.\n",
    "        \"\"\"\n",
    "        return all(\n",
    "            [\n",
    "                np.array_equal(self.x, other.x),\n",
    "                np.array_equal(self.y, other.y),\n",
    "                np.array_equal(self.z, other.z),\n",
    "                np.array_equal(self.vx, other.vx),\n",
    "                np.array_equal(self.vy, other.vy),\n",
    "                np.array_equal(self.vz, other.vz),\n",
    "                np.array_equal(self.m, other.m),\n",
    "            ]\n",
    "        )\n",
    "\n",
    "    def __repr__(self):\n",
    "        \"\"\"Representation method.\n",
    "\n",
    "        Returns\n",
    "        -------\n",
    "            str\n",
    "                Name plus number of points in the box\n",
    "        \"\"\"\n",
    "        cls_name = type(self).__name__\n",
    "        length = len(self)\n",
    "        return f\"<{cls_name} size={length}>\""
   ]
  },
  {
   "cell_type": "code",
   "execution_count": 8,
   "metadata": {},
   "outputs": [],
   "source": [
    "import attrs \n",
    "import uttr\n",
    "from attrs import define, field\n",
    "import scipy\n",
    "import numpy as np"
   ]
  },
  {
   "cell_type": "code",
   "execution_count": 13,
   "metadata": {},
   "outputs": [],
   "source": [
    "@uttr.s \n",
    "class ShpericalVoids:\n",
    "    rad = uttr.ib(converter=np.array,unit=u.Mpc)\n",
    "    x_void = uttr.ib(converter=np.array,unit=u.Mpc)\n",
    "    y_void = uttr.ib(converter=np.array,unit=u.Mpc)\n",
    "    z_void = uttr.ib(converter=np.array,unit=u.Mpc)\n",
    "    # vel_x_void = uttr.ib(converter=np.array, unit=u.Mpc / u.h, init=False)\n",
    "    # vel_y_void = uttr.ib(converter=np.array, unit=u.Mpc / u.h, init=False)\n",
    "    # vel_z_void = uttr.ib(converter=np.array, unit=u.Mpc / u.h, init=False)\n",
    "    # delta = uttr.ib(converter=np.array, init=False)\n",
    "    # dtype = uttr.ib(converter=np.array, init=False)\n",
    "    # poisson = uttr.ib(converter=np.array, init=False)\n",
    "    # dist4 = uttr.ib(converter=np.array, init=False)\n",
    "    # nran = uttr.ib(converter=np.array, init=False)\n",
    "    _void_len = uttr.ib(init=False)\n",
    "\n",
    "    def __attrs_post_init__(self):\n",
    "        \"\"\"Post init method.\n",
    "\n",
    "        Checks that the lenght of the inputs are the same\n",
    "        \"\"\"\n",
    "        lengths = set(())\n",
    "        for e in (\n",
    "            self.rad, \n",
    "            self.x_void, self.y_void, self.z_void, \n",
    "            # self.vel_x_void, self.vel_y_void, self.vel_z_void,\n",
    "            # self.delta,\n",
    "            # self.dtype,\n",
    "            # self.poisson,\n",
    "            # self.dist4,\n",
    "            # self.nran\n",
    "            ):\n",
    "            lengths.add(len(e))\n",
    "\n",
    "        if len(lengths) != 1:\n",
    "            raise ValueError(\"Arrays should be of the same size\")\n",
    "\n",
    "        super().__setattr__(\"_void_len\", lengths.pop())\n",
    "\n",
    "    def __len__(self):\n",
    "        \"\"\"Length method.\n",
    "\n",
    "        Returns\n",
    "        -------\n",
    "            int\n",
    "                the number of elements in SphericalVoids\n",
    "        \"\"\"\n",
    "        return self._void_len"
   ]
  },
  {
   "cell_type": "code",
   "execution_count": 49,
   "metadata": {},
   "outputs": [
    {
     "data": {
      "text/plain": [
       "ShpericalVoids(rad=<Quantity [1., 1., 1., 1.] Mpc>, x_void=<Quantity [2., 2., 2., 2.] Mpc>, y_void=<Quantity [3., 3., 3., 3.] Mpc>, z_void=<Quantity [1.1, 1.1, 1.1, 1.1] Mpc>, _void_len=4)"
      ]
     },
     "execution_count": 49,
     "metadata": {},
     "output_type": "execute_result"
    }
   ],
   "source": [
    "sv = ShpericalVoids(**{'rad':[1,1,1,1],'x_void':[2,2,2,2],'y_void':[3,3,3,3],'z_void':[1.1,1.1,1.1,1.1]})\n",
    "sv"
   ]
  },
  {
   "cell_type": "code",
   "execution_count": 50,
   "metadata": {},
   "outputs": [
    {
     "name": "stdout",
     "output_type": "stream",
     "text": [
      "{'rad': <Quantity [1., 1., 1., 1.] Mpc>, 'x_void': <Quantity [2., 2., 2., 2.] Mpc>, 'y_void': <Quantity [3., 3., 3., 3.] Mpc>, 'z_void': <Quantity [1.1, 1.1, 1.1, 1.1] Mpc>}\n"
     ]
    },
    {
     "data": {
      "text/plain": [
       "ShpericalVoids(rad=<Quantity [1., 1., 1., 1.] Mpc>, x_void=<Quantity [2., 2., 2., 2.] Mpc>, y_void=<Quantity [3., 3., 3., 3.] Mpc>, z_void=<Quantity [1.1, 1.1, 1.1, 1.1] Mpc>, _void_len=4)"
      ]
     },
     "execution_count": 50,
     "metadata": {},
     "output_type": "execute_result"
    }
   ],
   "source": [
    "e = sv.__dict__\n",
    "e.pop('_void_len')\n",
    "print(e)\n",
    "sw = ShpericalVoids(**e)\n",
    "sw"
   ]
  },
  {
   "cell_type": "code",
   "execution_count": 61,
   "metadata": {},
   "outputs": [],
   "source": [
    "@define(repr=False)\n",
    "class Box_SphericalVoids_Classifier(Box, ShpericalVoids):\n",
    "    \"\"\"\n",
    "  Inherits from both Box and ShpericalVoids classes and provides a method\n",
    "  to create a sparse matrix representing the relationship between spherical voids\n",
    "  and tracer particles within a simulation box.\n",
    "\n",
    "  Methods\n",
    "  -------\n",
    "  _sparse_matrix(self, tol=0.0)\n",
    "      Generates a sparse CSR matrix indicating which voids are potentially\n",
    "      influencing each tracer particle based on their relative positions.\n",
    "\n",
    "  Parameters\n",
    "  ----------\n",
    "  self : Box_SphericalVoids_Classifier object\n",
    "      The instance of the class.\n",
    "  tol : float, optional\n",
    "      Tolerance level for considering a void to be influencing a tracer particle.\n",
    "      Defaults to 0.0.\n",
    "\n",
    "  Returns\n",
    "  -------\n",
    "  scipy.sparse.csr_matrix\n",
    "      A sparse CSR matrix where each row represents a tracer particle and\n",
    "      each column represents a void. The value at a specific row-column\n",
    "      intersection is 1.0 if the corresponding void is potentially influencing\n",
    "      the tracer particle (Tracer inside the void) based on the distance between \n",
    "      their centers and the void's radius, otherwise 0.0.\n",
    "  \"\"\"\n",
    "    def _sparse_matrix(self,tol=0.0):\n",
    "        tolerance = tol*np.ones(self.rad)\n",
    "        rad = np.array(self.rad) + tolerance\n",
    "        pos_void = np.array([self.x_void, self.y_void, self.z_void])\n",
    "        pos_void = np.transpose(pos_void)\n",
    "        arr = []\n",
    "        for i in range(self._len):\n",
    "            pos_box = np.array([[self.x[i].value, self.y[i].value, self.z[i].value]]) \n",
    "            d = scipy.spatial.distance.cdist(pos_box,pos_void, metric='euclidean') #Calculates the distance from a tracer to each void center\n",
    "            rad_center_distance_comparing = np.greater(rad, d[0]).astype(float) #Compares what is bigger if a radius of a void or the distance from the void center to the particle 1 if rad>d\n",
    "            arr.append(rad_center_distance_comparing)\n",
    "        #Transform to sparse matrix\n",
    "        output_sparse_matrix = scipy.sparse.csr_matrix(arr)\n",
    "        return output_sparse_matrix\n",
    "    \n",
    "    def __repr__(self):\n",
    "        \"\"\"Representation method.\n",
    "\n",
    "        Returns\n",
    "        -------\n",
    "            str\n",
    "                Size of Box and calculated Voids\n",
    "        \"\"\"\n",
    "        cls_name = type(self).__name__\n",
    "        length_box = self._len\n",
    "        length_voids = self._void_len \n",
    "        return f\"<{cls_name} size_Box={length_box} size_Voids{length_voids}>\"\n",
    "\n",
    "        \n"
   ]
  },
  {
   "cell_type": "code",
   "execution_count": 55,
   "metadata": {},
   "outputs": [],
   "source": [
    "numbers = np.array(np.linspace(0,999,1000))\n",
    "ones = np.ones(numbers.shape)"
   ]
  }
 ],
 "metadata": {
  "kernelspec": {
   "display_name": "Python 3",
   "language": "python",
   "name": "python3"
  },
  "language_info": {
   "codemirror_mode": {
    "name": "ipython",
    "version": 3
   },
   "file_extension": ".py",
   "mimetype": "text/x-python",
   "name": "python",
   "nbconvert_exporter": "python",
   "pygments_lexer": "ipython3",
   "version": "3.12.0"
  },
  "orig_nbformat": 4
 },
 "nbformat": 4,
 "nbformat_minor": 2
}
