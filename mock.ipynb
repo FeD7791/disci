{
 "cells": [
  {
   "cell_type": "markdown",
   "metadata": {},
   "source": [
    "# Elementos basicos de un Mock\n",
    "\n",
    "Esta metodo de unittest simula objetos y sus metdodos.\n",
    "\n",
    "Para utilizarlo:\n",
    "\n",
    "1. Importarlo de unittest : `from unittest import mock`\n",
    "\n",
    "2. El modo de uso implica usar el contexto patch de mock:\n",
    "    - `with mock.patch(\"pandas.read_csv\", return_value=mock_df) as mock_read_csv`\n",
    "    - pandas.read_csv es la libreria y read_csv su metodo\n",
    "    - return_value : hace referencia a lo que quieres que retorne el mock, en particular mock_df es otro mock previamente definido\n",
    "    - as mock_read_csv : la variable donde sera retornado este mock.\n",
    "\n",
    "3. Metodos tipicos de testeo:\n",
    "    - `mock_read_csv.assert_called_once_with(<parameters>)` : Esto basicamente verifica que el mock retornado fue llamado con determinados parametros durante la ejecucion del codigo."
   ]
  },
  {
   "cell_type": "markdown",
   "metadata": {},
   "source": [
    "## Mocking un DataFrame\n",
    "\n",
    "- Hacer el mock de un dataframe es tan trivial como hacer:\n",
    "\n",
    "    - `with mock.patch('pandas.DataFrame', return_value=mock_df_instance) as mock_dataframe:`\n",
    "    - Sin embargo si ya le queremos agregar un valor al mock ya es otro problema. Por ejemplo, al mismo yo le queria agregar este valor:"
   ]
  },
  {
   "cell_type": "code",
   "execution_count": null,
   "metadata": {},
   "outputs": [],
   "source": [
    "# expected_data = np.array([\n",
    "#             np.ravel(box.m),\n",
    "#             np.ravel(box.arr_.x),\n",
    "#             np.ravel(box.arr_.y),\n",
    "#             np.ravel(box.arr_.z),\n",
    "#             np.ravel(box.arr_.vx),\n",
    "#             np.ravel(box.arr_.vy),\n",
    "#             np.ravel(box.arr_.vz),\n",
    "#         ]).T"
   ]
  },
  {
   "cell_type": "markdown",
   "metadata": {},
   "source": [
    "- Ahora lo que sucede es que este valor se le asigna a mi mock a travez de la llamada a la funcion que quiero mockear. En contexto, dicha funcion es la siguiente:"
   ]
  },
  {
   "cell_type": "code",
   "execution_count": null,
   "metadata": {},
   "outputs": [],
   "source": [
    "# def funcion(PARAMETROS):\n",
    "# df = pd.DataFrame(np.array([\n",
    "#         np.ravel(box.m), #This is log of Msun\n",
    "#         np.ravel(box.arr_.x),\n",
    "#         np.ravel(box.arr_.y),\n",
    "#         np.ravel(box.arr_.z),\n",
    "#         np.ravel(box.arr_.vx),\n",
    "#         np.ravel(box.arr_.vy),\n",
    "#         np.ravel(box.arr_.vz),\n",
    "#     ]).T)\n",
    "\n",
    "#     df.columns = [\"m\", \"x\", \"y\", \"z\", \"vx\", \"vy\", \"vz\"]\n",
    "#     df.to_csv(\n",
    "#         file_path,\n",
    "#         sep=\" \",\n",
    "#         index=False,\n",
    "#         header=False,  # float_format=\"%.2f\"\n",
    "#     )"
   ]
  },
  {
   "cell_type": "markdown",
   "metadata": {},
   "source": [
    "- Como puedo asegurar entonces que llame a mi dataframe con esos argumentos?\n",
    "- Como puedo asegurar que llame al metodo to_csv de mi dataframe con determinados argumentos?\n",
    "\n",
    "- En principio la respuesta parece facil, simplemente tendria que hacer: `mock_dataframe.assert_called_once_with(expected_data)`\n",
    "- Bueno esto, produce un error, el cual es el siguiente: ` FAILED ValueError: The truth value of an array with more than one element is ambiguous. Use a.any() or a.all()`\n",
    "- La razon: *The error message you are encountering (ValueError: The truth value of an array with more than one element is ambiguous. Use a.any() or a.all()) is likely due to how np.ravel interacts with the assert_called_once_with method during the comparison of arrays. When you use np.ravel, it flattens the array, but the actual mock_dataframe call is comparing arrays in an ambiguous context (i.e., it compares whole arrays as if they were booleans, which causes this error).*\n",
    "\n",
    "- La solucion? Utilizar el siguiente metodo del mock: `args, kwargs = mock_dataframe.call_args`. Explicacion: *In the context of mock.patch and unittest.mock, mock_dataframe.call_args provides the arguments that were passed to the mock function when it was called. The first element is a tuple of positional arguments (args). The second element is a dictionary of keyword arguments (kwargs).*\n",
    "\n",
    "- Verificamos que efectivamente esos fueron los argumentos: `assert np.array_equal(args[0], expected_data)  # Check data equality`\n",
    "\n",
    "- IMPORTANTE, ese args[0] es clave si no va a fallar la prueba. Por otro lado si utilizas ipdb para ver cuales son los valores de args o args[0] no vas a ver ningun output.\n",
    "\n",
    "- Finalmente verificamos la llamada to_csv: `mock_df_instance.to_csv.assert_called_once_with(`\n",
    "        `mock_file_path,`\n",
    "        `sep=\" \",`\n",
    "        `index=False,`\n",
    "        `header=False`\n",
    "    `)`"
   ]
  },
  {
   "cell_type": "markdown",
   "metadata": {},
   "source": [
    "# 1 Mock objetos\n",
    "\n",
    "## Mock un metodo de una clase\n",
    "\n",
    "- contexto: tengo una clase PopCorn que hereda de SVFPopCorn, dentro de PopCorn utilizo super().model_find(box) que es un metodo de SVFPopCorn. La idea es poder mockear esto, para hacer el test\n",
    "\n",
    "- Para mockear el metodo de una clase se aconseja usar: mock.patch.object(< clase>, 'metodo', return_value=mock)\n",
    "\n",
    "- Esto mockeara solamente SVFPopCorn.model_find()\n",
    "\n",
    "\n",
    "# 2 Explorar un mock\n",
    "\n",
    "Utilizanod ipdb podemos explorar que sucede con el mock, por ejemplo si tenemos\n",
    "\n",
    "- with mock.patch('some.module') as p:\n",
    "\n",
    "si tenemos la consola de ipdb abierta podemos hacer : \n",
    "\n",
    "- p.call_args : muestra los argumentos con los que se llamo el mock\n",
    "- p.return_value : muestra el valor retornado por el mock\n",
    "- p.mock_calls : llamadas al mock\n",
    "- dir(p) : lista de atributos del mock\n",
    "\n",
    "Aqui hay una lista de otros atributos del mock:\n",
    "'assert_any_call', 'assert_called', 'assert_called_once', 'assert_called_once_with', 'assert_called_with', 'assert_has_calls', 'assert_not_called', 'attach_mock', 'call_args', 'call_args_list', 'call_count', 'called', 'configure_mock', 'method_calls', 'mock_add_spec', 'mock_calls', 'reset_mock', 'return_value', 'side_effect'\n",
    "\n",
    "## Hacer que un mock retorne varios valores\n",
    "\n",
    "- Si por ejemplo, lo que queremos que un determinado mock, retorne 3 valores, podemos utilijar mock.return_value:\n",
    "\n",
    "-   mock_of_function.return_value = [ mock.MagickMock, value2, value3] etc\n",
    "\n",
    "# Multiple Mocking\n",
    "\n",
    "- Para hacer esto utilizamos: mock.patch.multiple, como en el siguiente ejemplo:\n",
    "\n",
    "- with mock.patch.multiple(\n",
    "                \"voidfindertk.svf_popcorn._svf_pc_postprocessing\",\n",
    "                get_void_properties=mock.DEFAULT,\n",
    "                get_tracers_in_voids=mock.DEFAULT,\n",
    "            ) as svf_pc_postprocessing_mocks:\n",
    "\n",
    "- cuando hacemos esto, si no mal recuerdo la unica opcion que habia era utilizar mock.DEFAULT\n",
    "- Observe que estamos metiendo todas las opciones en una sola variable svf_pc_postprocessing_mocks\n",
    "- Ahora para probar asersiones sobre cada uno de estos elementos, hacemos los siguiente:\n",
    "\n",
    "- svf_pc_postprocessing_mocks[\"get_void_properties\"].assert_called_once_with(\n",
    "        popcorn_output_file_path=str(run_work_dir / pn.SPHFILE)\n",
    "    )\n",
    "\n",
    "- Basicamente estamos llamando a la variable donde habiamos guardado nuestros mock, y a traves de llamar especificamente con el string asociado al mock especifico podremos hacer referencia a este mock en especifico."
   ]
  },
  {
   "cell_type": "markdown",
   "metadata": {},
   "source": [
    "# Verificar que a una variable mockeada se le asigno un valor\n",
    "\n",
    "Contexto, estoy mockeando un objeto, el cual retorna una variable: ```model_find_parameters``` . Esta variable sera un mock tambien. Lo que sucede posteriormente es que en algun momento del codigo se llama a esta variable y se le asigna un valor: ```model_find_parameters[\"build_popcorn\"] = True``` . Observese que concretamente esta no es el mismo mock que model_find_parameters. La pregunta es, como puedo preguntar que efectivamente llame al mock model_find_parameters[\"build_popcorn\"] y le asigne la variable True?\n",
    "\n",
    "Respuesta:\n",
    "\n",
    "model_find_parameters.__setitem__.assert_called_once_with(\"build_popcorn\", True)\n",
    "\n",
    "- Tener en cuenta que la sintaxys de .assert_called_once_with es : .assert_called_once_with(args)"
   ]
  }
 ],
 "metadata": {
  "kernelspec": {
   "display_name": "vfproject",
   "language": "python",
   "name": "python3"
  },
  "language_info": {
   "name": "python",
   "version": "3.12.0"
  }
 },
 "nbformat": 4,
 "nbformat_minor": 2
}
