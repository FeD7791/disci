{
 "cells": [
  {
   "cell_type": "code",
   "execution_count": null,
   "metadata": {},
   "outputs": [],
   "source": []
  },
  {
   "cell_type": "markdown",
   "metadata": {},
   "source": [
    "Vamos aver algunas configuraciones utiles:\n",
    "\n",
    "- Agregar whitespaces de un color determinado. Esto es utilisimo para ver los espacios en blanco y corregir los trailing whitespaces de flake8. \n",
    "- Tenes que hacer: File --> Preferences --> Settings\n",
    "- Busca Workbench \n",
    "    - Appearane \n",
    "    - color customizations (Podes escribirlo en el buscador)\n",
    "    - Edit setting in json\n",
    "    - agregamos la siguiente configuracion: \n",
    "    \"workbench.colorCustomizations\": {\n",
    "       \"editorWhitespace.foreground\": \"#1e6d9b\"\n",
    "    },\n",
    "- Para que ande es necesario esta configuracion:\n",
    "   -  \"editor.renderWhitespace\": \"all\",\n",
    "- Por default estara seteada a \"none\"\n",
    "# Agregar Linea vertical\n",
    "Es util la linea vertical para trabajar.\n",
    "- En settings buscamos: editor rulers\n",
    "- En el espacio [ ] agrega todas las lineas verticales que quieras, en principio\n",
    "agregamos [80] que es largo estandar maximo para nuestro codigo"
   ]
  }
 ],
 "metadata": {
  "language_info": {
   "name": "python"
  }
 },
 "nbformat": 4,
 "nbformat_minor": 2
}
