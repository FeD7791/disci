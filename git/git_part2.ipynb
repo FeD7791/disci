{
 "cells": [
  {
   "cell_type": "markdown",
   "metadata": {},
   "source": [
    "# Git stash\n",
    "\n",
    "- En general: Usar cuando quieras hacer un pull y no tenes comiteados los cambios. Esto ocrulle bastante cuando otra persona hace cambios en el codigo antes de que vos subas los tuyos. La forma ideal de trabajo seria asi:\n",
    "\n",
    "    - git stash\n",
    "    - git stash list <--aca ves cual es el stash en el que guardaste\n",
    "    - git pull < origin > < branch >\n",
    "    - git stash pop <-- retorna los cambios\n",
    "    - Desde aca ya podes comitear tus cambios y listo\n",
    "\n",
    "\n",
    "- git stash is a command that allows you to temporarily save changes in your working directory that are not yet committed, so that you can work on something else without committing those changes.\n",
    "\n",
    "- It's useful when you're in the middle of work but need to switch contexts, like checking out a different branch, pulling the latest changes, or working on an urgent task, and you don't want to commit incomplete or experimental changes to your repository.\n",
    "\n",
    "- What git stash does:\n",
    "    - Stashes your changes: It saves your modified tracked files, staged changes, and even new untracked files (if you use certain options).\n",
    "    - Restores a clean working directory: After stashing, your working directory is reset to the last commit, essentially allowing you to work as though you haven't made any changes yet.\n",
    "    - Restores your work later: You can reapply the changes you stashed at any time using git stash apply or git stash pop.\n",
    "\n",
    "## Basic Usage\n",
    "\n",
    "- `git stash` : This command will stash changes to tracked files (modified or staged) and leave untracked files alone.\n",
    "- `git stash list` : This shows a list of all stashes you've made, along with an identifier (e.g., `stash@{0}`, `stash@{1}`).\n",
    "- `git stash apply` : This applies the most recent stash, leaving the stash in place. You can also specify a particular stash if you have multiple (e.g., git stash apply `stash@{1}`).\n",
    "- `git stash pop` : This applies the most recent stash and removes it from the stash list. This is useful when you're done with the stash and want to restore your changes and clean up the list.\n",
    "\n",
    "### Stash untracked or ignored files\n",
    "\n",
    "- `git stash -u`    # or --include-untracked\n",
    "- `git stash -a`    # or --all (includes ignored files too)\n"
   ]
  }
 ],
 "metadata": {
  "language_info": {
   "name": "python"
  }
 },
 "nbformat": 4,
 "nbformat_minor": 2
}
