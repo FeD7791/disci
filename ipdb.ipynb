{
 "cells": [
  {
   "cell_type": "markdown",
   "metadata": {},
   "source": [
    "1. Basic Navigation and Execution:\n",
    "- n (next): Executes the next line of code, stepping over any function calls.\n",
    "- s (step): Steps into a function, allowing you to debug inside it.\n",
    "- c (continue): Continues execution until the next breakpoint is hit.\n",
    "- q (quit): Exits the debugger and stops the program.\n",
    "- r (return): Continues execution until the current function returns.\n",
    "\n",
    "2. Breakpoints:\n",
    "- b <line_number>: Sets a breakpoint at a specific line number (e.g., b 20 sets a breakpoint at line 20).\n",
    "- b <function_name>: Sets a breakpoint at the beginning of a function (e.g., b my_function).\n",
    "- b (without arguments): Lists all the current breakpoints.\n",
    "- disable <breakpoint_number>: Disables a specific breakpoint.\n",
    "- enable <breakpoint_number>: Enables a specific breakpoint.\n",
    "- clear <line_number>: Clears a breakpoint at a specific line number.\n",
    "- clear (without arguments): Clears all breakpoints.\n",
    "3. Inspecting and Modifying Variables:\n",
    "- p <expression> (print): Prints the value of an expression or variable (e.g., p my_var).\n",
    "- pp <expression> (pretty print): Pretty-prints the result of an expression.\n",
    "- whatis <variable>: Shows the type of a variable (e.g., whatis my_var).\n",
    "- display <expression>: Displays the result of an expression every time the debugger pauses.\n",
    "- undisplay <expression>: Removes a displayed expression.\n",
    "- set <variable> = <value>: Sets the value of a variable (e.g., set my_var = 10).\n",
    "4. Code Navigation:\n",
    "- l (list): Lists the current source code around the current line.\n",
    "- l <line_number>: Lists the source code starting from a specific line number.\n",
    "- l <start_line>, <end_line>: Lists the source code between two line numbers.\n",
    "- ll (long list): Shows the current function's code with more context (like 10 lines before and after).\n",
    "- u (up): Moves up the call stack to the caller.\n",
    "- d (down): Moves down the call stack to the callee.\n",
    "5. Call Stack Navigation:\n",
    "- bt (backtrace): Shows the call stack (trace of function calls).\n",
    "- w (where): Shows the current stack frame and the context of the current line.\n",
    "6. Other Commands:\n",
    "- help or ? (help): Shows help information for ipdb commands.\n",
    "- help <command>: Provides detailed information about a specific command (e.g., help b).\n",
    "- !<python_command> (run Python code): Runs a Python statement or command in the debugger (e.g., !print(\"hello\"))."
   ]
  }
 ],
 "metadata": {
  "language_info": {
   "name": "python"
  }
 },
 "nbformat": 4,
 "nbformat_minor": 2
}
