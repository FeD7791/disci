{
 "cells": [
  {
   "cell_type": "markdown",
   "metadata": {},
   "source": [
    "# PEP 008\n",
    "\n",
    "- Identation : Use 4 spaces per indentation level.\n",
    "\n",
    "- Tabs o espacios? : Spaces are the preferred indentation method, Python disallows mixing tabs and spaces for indentation.\n",
    "\n",
    "- Longitud maxima de linea : Limit all lines to a maximum of 79 characters.\n",
    "\n",
    "- Should a Line Break Before or After a Binary Operator? : In Python code, it is permissible to break before or after a binary operator, as long as the convention is consistent locally.\n",
    "\n",
    "- Blank Lines : Surround top-level function and class definitions with two blank lines. Method definitions inside a class are surrounded by a single blank line. Extra blank lines may be used (sparingly) to separate groups of related functions. Blank lines may be omitted between a bunch of related one-liners (e.g. a set of dummy implementations). Use blank lines in functions, sparingly, to indicate logical sections.\n",
    "\n",
    "- Source File Encoding : Code in the core Python distribution should always use UTF-8, and should not have an encoding declaration. All identifiers in the Python standard library MUST use ASCII-only identifiers, and SHOULD use English words wherever feasible (in many cases, abbreviations and technical terms are used which aren’t English).\n",
    "\n",
    "- Imports : \n",
    "  - Imports should usually be on separate lines. It’s okay to say this though: *from subprocess import Popen, PIPE*\n",
    "  - Imports are always put at the top of the file, just after any module comments and docstrings, and before module globals and constants.\n",
    "  - Imports should be grouped in the following order: \n",
    "    1. Standard library imports.\n",
    "    2. Related third party imports.\n",
    "    3. Local application/library specific imports.</br>\n",
    "    You should put a blank line between each group of imports.\n",
    "\n",
    "- Module Level Dunder Names : Module level “dunders” (i.e. names with two leading and two trailing underscores). should be placed after the module docstring but before any import statements except from _ _future_ _ imports.\n",
    "\n",
    "- String Quotes : In Python, single-quoted strings and double-quoted strings are the same. This PEP does not make a recommendation for this.\n"
   ]
  },
  {
   "cell_type": "markdown",
   "metadata": {},
   "source": [
    "## Resumen PEP8\n",
    "\n",
    "Sources: </br>\n",
    "https://blogs.upm.es/estudiaciencia/pep-8-la-guia-de-estilo-para-python/ </br>\n",
    "https://peps.python.org/pep-0008/\n",
    "\n",
    "### PEP 008 mas basico\n",
    "\n",
    "Vamos a rescatar algunas cosas que se utilizan mucho en todo el PEP0\n",
    "\n",
    "1. Uso de la sangria: Esto es basico y por defecto en funciones, if , for por ejemplo debemos utilizar 4 espacios o un tab.\n",
    "\n",
    "2. El codigo maximo de linea debe ser 79 caracteres. Podes ver la longitud de tu codigo en el visual studio en la parte inferior derecha que</br>\n",
    "   indica: Ln X, Col Y . En Col podemos ver la longitud que abarca la linea ubicando el cursor en el final de la misma\n",
    "3. El codigo de comentario debe ser 72 caracteres maximos\n",
    "\n",
    "4. Las funciones, metodos, dentro de una clase deben estar separadas por 1 espacio\n",
    "\n",
    "5. La cantidad de espacios que separan 2 o mas clases o dos o mas funciones es 2\n",
    "\n",
    "6. Para nombrar las funciones/metodos y variables, se utilizara la convencion *lower_snake_case* , esto consiste en escribir todo en minuscula y escribir los espacios</br>\n",
    "como guion bajo: _\n",
    "\n",
    "7. Para la nomenclatura de las clases, utilizamos la convencion *UpperCamelCase*</br>\n",
    "Las funciones y variables dentro de la clase siguen la convencion de *lower_snake_case*</br>\n",
    "Las funciones y metodos de la clase que sean **Privados** empiezan con un _ \n",
    "\n",
    "8. Para las sumas: \n",
    "      - Cada elemento debe estar en una linea distinta\n",
    "      - Cada elemento debe estar despues del operador que lo modifica (Aca puede ser muy util escribir la suma entre parentesis para tener </br>\n",
    "      automaticamente los espacios)\n",
    "\n",
    "9. Los imports de distintos modulos deben estar en lineas diferentes. Por otro lado si se permite poner en la misma linea elementos que se </br>\n",
    "importan desde un mismo modulo.\n",
    "\n",
    "10. Los **imports**, deben ponerse al principio del codigo, luego de los comentarios, documentacion y antes de las variables globales y constantes </br>\n",
    "      Los imports deben estar ordenados en el siguiente orden\n",
    "      - standard Library : las del propio sistema, por ejemplo sys, os, re,..\n",
    "      - 3rd party Library : las de paquetes que hemos descargado de terceros por ejemplo, biopython, pandas, matplotlib\n",
    "      - local application : los modulos que nosotros creemes en nuestros propios paquetes. </br>\n",
    "\n",
    "Cada grupo de imports debe estar separado por una línea en blanco.\n",
    "\n",
    "11. Espacios en blanco,\n",
    "      Evitar espacios en blanco en los siguientes contextos\n",
    "      - Dentro de Parentesis\n",
    "      - Despues de una coma\n",
    "      - Antes del parentesis de una llamada a una funcion\n",
    "      - Antes del parentesis de un indice\n",
    "\n",
    "12. Siempre rodear los operadores binarios (==, <, >, !=, <>, <=, >=, in, not in, is, is not) con un espacio sencillo en ambos lados\n",
    "\n",
    "13. Usar espacios alrededor de los operadores aritmeticos\n",
    "\n",
    "### Recomendaciones\n",
    "- Se recomienda utilizar líneas en blanco para separar partes del código, por ejemplo dentro de una función, que realizan tareas diferenciadas.\n",
    "Hasta aqui, veamos algunos ejemplos de los puntos 4 y 5:\n"
   ]
  },
  {
   "cell_type": "code",
   "execution_count": null,
   "metadata": {},
   "outputs": [],
   "source": [
    "#Metodos de una misma clase separados por un solo espacio\n",
    "class FirstClass:\n",
    "    def metodo1():\n",
    "        print('hola')\n",
    "    \n",
    "    def metodo2():\n",
    "        print('hola2')\n",
    "\n",
    "# Dos o mas clases separadas por 2 espacios\n",
    "class ClaseUno:\n",
    "    f = 14\n",
    "    def metodo_clase1():\n",
    "        print(f)\n",
    "\n",
    "\n",
    "class ClaseDos:\n",
    "    j = 15\n",
    "    def metodo_clase2():\n",
    "        print(j)\n",
    "\n",
    "# Separar 2 o mas funciones principales\n",
    "\n",
    "def funcion1():\n",
    "    print('funcion1')\n",
    "\n",
    "\n",
    "def funcion2():\n",
    "    print('funcion2')"
   ]
  },
  {
   "cell_type": "markdown",
   "metadata": {},
   "source": [
    "Veamos un ejemplo de lo ilustrado en 7:"
   ]
  },
  {
   "cell_type": "code",
   "execution_count": null,
   "metadata": {},
   "outputs": [],
   "source": [
    "class ClassName:\n",
    "    def _private_method():\n",
    "        print('private')\n",
    "    \n",
    "    def public_method():\n",
    "        print('public')"
   ]
  },
  {
   "cell_type": "markdown",
   "metadata": {},
   "source": [
    "Veamos ahora un ejemplo de 8 :"
   ]
  },
  {
   "cell_type": "code",
   "execution_count": null,
   "metadata": {},
   "outputs": [],
   "source": [
    "variable_alpha = 1\n",
    "variable_beta = 15\n",
    "variable_theta = 37\n",
    "\n",
    "suma_total = (variable_alpha \n",
    "              + variable_beta\n",
    "              + variable_theta)"
   ]
  },
  {
   "cell_type": "markdown",
   "metadata": {},
   "source": [
    "Veamos ejemplos de 11:"
   ]
  },
  {
   "cell_type": "code",
   "execution_count": null,
   "metadata": {},
   "outputs": [],
   "source": [
    "#Right\n",
    "list(('one','two'), {'key1':[1,2,3], 'key2':[1,23]})\n",
    "#Wrong\n",
    "list( ( 'one','two' ), {'key1':[1, 2,3], 'key2':[1,23]})\n",
    "\n",
    "# No agregar espacios extra en las comas \n",
    "# Wrong\n",
    "print('x' , 'y')\n",
    "#Right \n",
    "print('x', 'y')"
   ]
  },
  {
   "cell_type": "markdown",
   "metadata": {},
   "source": [
    "Ejemplo de 12"
   ]
  },
  {
   "cell_type": "code",
   "execution_count": null,
   "metadata": {},
   "outputs": [],
   "source": [
    "# Yes:\n",
    "\n",
    "#     i = i + 1\n",
    "#     submitted += 1\n",
    "#     x = x * 2 - 1\n",
    "#     hypot2 = x * x + y * y\n",
    "#     c = (a + b) * (a - b)\n",
    "\n",
    "# No:\n",
    "\n",
    "#     i=i+1\n",
    "#     submitted +=1\n",
    "#     x = x*2 - 1\n",
    "#     hypot2 = x*x + y*y\n",
    "#     c = (a+b) * (a-b)"
   ]
  }
 ],
 "metadata": {
  "language_info": {
   "name": "python"
  },
  "orig_nbformat": 4
 },
 "nbformat": 4,
 "nbformat_minor": 2
}
