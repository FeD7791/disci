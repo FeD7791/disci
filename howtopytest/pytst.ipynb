{
 "cells": [
  {
   "cell_type": "markdown",
   "metadata": {},
   "source": [
    "# Pytest\n",
    "\n",
    "La documentacion oficial es: https://docs.pytest.org/en/7.4.x/\n",
    "\n",
    "Para realizar tests con pytest en python lo primero que hay que hacer es instalar el mismo.\n",
    "\n",
    "**pip install -U pytest**\n",
    "\n",
    "En la carpeta *functions_for_test* tenemos una funcion ejemplo, concretamente funcion1.py . Aqui tenemos en la parte superior la funcion a testear y abajo el test. \n",
    "\n",
    "Para correr el test simplemente tenemos que utilizar en la terminal:\n",
    "\n",
    "pytest ./funcion1.py\n",
    "\n",
    "En la terminal nos indicara cual es el error (La funcion esta construida para dar un resultado equivocado en el test). Como puede verse nos da muchisima informacion.\n",
    "\n",
    "\n",
    "collected 1 item\n",
    "\n",
    "\n",
    "================================================================================= FAILURES ================================================================================= \n",
    "_______________________________________________________________________________ test_answer ________________________________________________________________________________ \n",
    "\n",
    "    def test_answer():\n",
    ">       assert func(3) == 5\n",
    "E       assert 4 == 5\n",
    "E        +  where 4 = func(3)\n",
    "\n",
    "function1.py:7: AssertionError\n",
    "========================================================================= short test summary info ========================================================================== \n",
    "FAILED function1.py::test_answer - assert 4 == 5\n",
    "============================================================================ 1 failed in 0.19s ============================================================================= \n",
    "PS C:\\Users\\Fede\\Desktop\\ingenieria_software\\miTeoria\\howtopytest\\functions_for_test> pytest .\\function1.py\n",
    "=========================================================================== test session starts ============================================================================ \n",
    "platform win32 -- Python 3.11.3, pytest-7.4.2, pluggy-1.3.0\n",
    "rootdir: C:\\Users\\Fede\\Desktop\\ingenieria_software\\miTeoria\\howtopytest\\functions_for_test"
   ]
  },
  {
   "cell_type": "markdown",
   "metadata": {},
   "source": [
    "Para correr pytest simplemente escribimos en la terminal:\n",
    "\n",
    "pytest file.py # Donde file es el nombre del archivo\n",
    "\n",
    "Sin embargo si nuestro archivo lleva de nombre: test_ o _test , que no se restringe a esto, puede ser por ejemplo test_1, y ejecutamos solamente el comando **pytest** entonces pytest busca en el directorio y los subdirectorios todos los archivos con este nombre y los ejecuta. \n",
    "\n",
    "Lo anterior puede verse en el ejemplo que se encuentra en la carpeta functions_for_test, si nos ubicamos en ella y corremos pytest , este se ejecutara.\n",
    "\n",
    "Sin embargo tengo que hacer notar algo <div style='color:red'>IMPORTANTE</div> y es que el test se ejecuta desde la carpeta donde ejecutaste *pytest*. Si lo ejecutamos estando en la carpeta **functions_for_test** obtendremos un error de importacion del modulo de la funcion. \n",
    "\n",
    "<div style='color:red'>\n",
    "Hint: make sure your test modules/packages have valid Python names.\n",
    "Traceback:\n",
    "C:\\Users\\Fede\\AppData\\Local\\Programs\\Python\\Python311\\Lib\\importlib\\__init__.py:126: in import_module\n",
    "    return _bootstrap._gcd_import(name[level:], package, level)\n",
    "tests\\test_1.py:6: in module\n",
    "    from functions import function1 as f1\n",
    "E   ModuleNotFoundError: No module named 'functions'\n",
    "</div>\n",
    "\n",
    "Mientras que si lo corremos desde **tests** no habra error.\n",
    "\n"
   ]
  },
  {
   "cell_type": "markdown",
   "metadata": {},
   "source": [
    "## Comandos de pytest\n",
    "\n",
    "- pytest/test_mod.py #Correme este modulo en particular, los modulos deben arrancar con la palabra test_\n",
    "- pytest tests/ #metete a esta carpeta y corre todas funciones/modulos que empiezen con test_\n",
    "- pytest -k match # def test_match(): # Busca todos los test que tengan la palabra match en el nombre (en cualquier lugar) y correlos. (esto utiliza regex)\n",
    "- pytest -x #Frenate al encontrar el primer fallo\n",
    "- pytest --maxfail=2 #El numero es variable, frena cuando se haya alcanzado la maxima cantidad de tests fallados\n",
    "- pytest -s #Para debugging\n",
    "- pytest --durations=10 #list top 10 slowest cases"
   ]
  },
  {
   "cell_type": "markdown",
   "metadata": {},
   "source": [
    "## Fixtures \n",
    "Son funciones que se ejecutan cada vez que vamos a utilizar un test. Para ejecutarlos le damos como parametro la funcion decorada con fixture a una funcion test.\n",
    "\n",
    "Es decir, este proceso involucra 3 cosas:\n",
    "\n",
    "- El decorador fixture\n",
    "- Fixture debe decorar a una funcion m\n",
    "- Damos la funcion m como parametro a la funcion f_test "
   ]
  },
  {
   "cell_type": "code",
   "execution_count": 111,
   "metadata": {},
   "outputs": [
    {
     "name": "stdout",
     "output_type": "stream",
     "text": [
      "[13.07607562 10.60794089  9.9027933  10.0588877   8.74607158  5.34572715\n",
      "  7.50993839 14.07897502  8.69773749  7.59453886 10.13715699 13.37941593\n",
      " 10.45640771  9.8179279   9.94761093  9.08147274 10.03168686 13.02458953\n",
      " 10.1565802  12.50314306 12.57551925  9.28440308 11.48171681 11.4338465\n",
      "  9.88997103 11.7503427  12.15641996  8.44934579 10.653657    9.35068505\n",
      "  7.24070097  8.78828822  8.67622618  7.64108019 12.64438152  8.66760621\n",
      "  9.22857397 12.46192079  9.21676653 12.00307367  9.17692858  9.71721941\n",
      " 11.1636594   9.70623066  9.49563273  9.92226334 11.53755357 11.03707902\n",
      "  9.13311634  5.09291362  6.41362252  7.30929916 11.67920958  9.49072603\n",
      " 12.16933876  9.65444598 10.27764566 12.50604204  9.83454839  9.57201737\n",
      " 11.85393343 11.72255569 10.52117038  9.2157719   7.26249353 12.76829135\n",
      " 11.5871522  11.57385041 13.07654941 11.86729958  9.81238323 11.10408604\n",
      "  9.32420764  8.17334999  9.75460104 12.13087969  9.51743323 12.27152736\n",
      " 10.32592109 10.38139945 10.39847867  8.91330356 13.67808771  8.47699944\n",
      " 13.1952609  11.14333789  8.92935913 11.80117849  3.25297108  8.41657315\n",
      " 12.77114918 10.41855496 10.72198857  7.99164296  8.8924838  13.05408652\n",
      " 10.26115341  9.05333804 14.02796452  7.1392409 ]\n"
     ]
    }
   ],
   "source": [
    "import numpy as np\n",
    "import pytest\n",
    "#Ejemplo de fixture\n",
    "@pytest.fixture\n",
    "def normal():\n",
    "    return np.random.normal(10,2,100)\n",
    "\n",
    "def test_mean(normal):\n",
    "    assert normal.mean() == 10\n",
    "\n",
    "def test_std(normal):\n",
    "    assert normal.std() == 2\n",
    "\n",
    "print(np.random.normal(10,2,100)\n",
    "      )"
   ]
  },
  {
   "cell_type": "markdown",
   "metadata": {},
   "source": [
    "Arriba vemos que normal() nos dara un numero aleatorio, entonces cada vez que llamemos a una funcin para testear testearemos con un valor distinto. Sin embargo hay una manera de hacer nuestro test con el mismo valor."
   ]
  },
  {
   "cell_type": "code",
   "execution_count": null,
   "metadata": {},
   "outputs": [],
   "source": [
    "import numpy as np\n",
    "import pytest\n",
    "#Ejemplo de fixture\n",
    "@pytest.fixture(scope='session') #En toda la sesion de testing se ejecuta y se utiliza el mismo valor\n",
    "def normal():\n",
    "    return np.random.normal(10,2,100)\n",
    "\n",
    "def test_mean(normal):\n",
    "    assert normal.mean() == 10\n",
    "\n",
    "def test_std(normal):\n",
    "    assert normal.std() == 2"
   ]
  },
  {
   "cell_type": "markdown",
   "metadata": {},
   "source": [
    "Se recomienda no realizar este procedimiento, esto es utilizar el scope='session' a menos que sea muy necesario pues esto seria lo mismo que darle estado a los test y esto nunca se debe hacer.\n",
    "\n",
    "Vale la pena mencionar que tanto numpy, pandas como matplotlib tienen sus propios tests. Por ejemplo tenemos:\n",
    "np.testing.assert_almost_equal(valor_Real,valor_a_comparar,decimales) nos permite comparar dos valores con un numero determinado de decimales.\n",
    "\n",
    "Hay muchos otros mas assert en numpy como assert_allclose() que se utiliza bastante:\n",
    "\n",
    "testing.assert_allclose(actual, desired, rtol=1e-07, atol=0, equal_nan=True, err_msg='', verbose=True)\n",
    "*Raises an AssertionError if two objects are not equal up to desired tolerance*\n",
    "\n",
    "assert_array_compare() : Compara dos array independientemente del orden. Tambien puede comparar un array y una lista."
   ]
  },
  {
   "cell_type": "markdown",
   "metadata": {},
   "source": [
    "## Tratando numeros random en los test\n",
    "\n",
    "- Siempre inicialicen `np.random.default_rng(<SEED>)`\n",
    "- Fijen la semilla **por test**"
   ]
  },
  {
   "cell_type": "markdown",
   "metadata": {},
   "source": [
    "## Markers\n",
    "\n",
    "*You can “mark” a test function with custom metadata*\n",
    "\n",
    "- `Skip`: Para tests que no se deben ejecutar (Da como resultado `SKIP` o `s`).\n",
    "- `SkipIf`: Para los que no *sirven* en ciertas condiciones (`SKIP` o `s`) .\n",
    "- `xfail`: Para test que por algun motivo *se sabe* que estan fallando. \n",
    "  Dos resultados posibles:\n",
    "  - `XFAIL` o `x` para cuando efectivamente falla.\n",
    "  - `XPASS` o `X` cuando aunque deberia fallar, funciona.\n",
    "\n",
    "Tambien funcionan con decoradores\n",
    "\n",
    "@pytest.mark.skip(reason=\"no way of currently test this\")<br>\n",
    "@pytest.mark.skipif(sys.version_info < (3,6)) #skip si la version de python es menor a 3.6<br>\n",
    "@pytest.mark.skipif(sys.platform == 'win32') #Este test no corre en windows\n",
    "\n",
    "- xfail se utiliza cuando esperamos que el test falle. Se nos retorna una x (minuscula) si efectivamente el test no pasa y X (mayuscula) si al final nuestro test pasa\n",
    "\n",
    "### @pytest.markers.parametrize \n",
    "\n",
    "Este decorador permite definir multiples sets de argmuntos y fixtures para probarlos en una clase o funcion. En modo basico te permite probar una funcion/clase multiples veces pasando varios valores de pares de input y resultado.\n",
    "\n",
    "Basicamente funciona asi:\n",
    "\n",
    "@pytest.mark.parametrize(\"test_input,expected\", [(\"3+5\", 8), (\"2+4\", 6), (\"6*9\", 42)])\n",
    "\n",
    "Aca lo que estamos haciendo es pasar una lista de 3 tuplas. Cada tupla tiene un 'test_input' y 'expected'\n"
   ]
  },
  {
   "cell_type": "code",
   "execution_count": 16,
   "metadata": {},
   "outputs": [],
   "source": [
    "## Elaboremos un test para esta funcion\n",
    "import uttr\n",
    "\n",
    "from astropy import units as u\n",
    "\n",
    "@uttr.s(repr=False, frozen=True)\n",
    "class Box:\n",
    "    x = uttr.ib(unit=u.Mpc)\n",
    "    y = uttr.ib(unit=u.Mpc)\n",
    "    z = uttr.ib(unit=u.Mpc)\n",
    "    vx = uttr.ib(unit=u.Mpc)\n",
    "    vy = uttr.ib(unit=u.Mpc)\n",
    "    vz = uttr.ib(unit=u.Mpc)\n",
    "    m = uttr.ib(unit=u.M_sun)\n",
    "\n",
    "    _len = uttr.ib(init=False)\n",
    "\n",
    "    def __attrs_post_init__(self):\n",
    "        lengths = {\n",
    "            len(e) for e in (self.x, self.y, self.z, self.vx, self.vy, self.vz)\n",
    "        }\n",
    "\n",
    "        if len(lengths) != 1:\n",
    "            raise ValueError(\"Arrays should be of the same size\")\n",
    "\n",
    "        super().__setattr__(\"_len\", lengths.pop())\n",
    "\n",
    "    def __len__(self):\n",
    "        return self._len\n",
    "\n",
    "    def __repr__(self):\n",
    "        cls_name = type(self).__name__\n",
    "        length = len(self)\n",
    "        return f\"<{cls_name} size={length}>\""
   ]
  },
  {
   "cell_type": "code",
   "execution_count": 17,
   "metadata": {},
   "outputs": [
    {
     "name": "stdout",
     "output_type": "stream",
     "text": [
      "<Box size=3>\n",
      "3\n"
     ]
    }
   ],
   "source": [
    "##Usemos un poco la clase\n",
    "x = [1.1,2,3]\n",
    "y = [2,3,5]\n",
    "\n",
    "\n",
    "z = [7,8,9]\n",
    "vx = [1,2,3]\n",
    "vy = [2,3,5]\n",
    "vz = [7,8,9]\n",
    "m = [1,2,1]\n",
    "box = Box(x,y,z,vx,vy,vz,m)\n",
    "print(box)\n",
    "print(len(box))\n"
   ]
  },
  {
   "cell_type": "code",
   "execution_count": 31,
   "metadata": {},
   "outputs": [],
   "source": [
    "import numpy as np\n",
    "\n",
    "## Verifica que un objeto sea clase box\n",
    "def test_box(box):\n",
    "    assert isinstance(box,Box)\n",
    "     \n",
    "\n",
    "# Nuestro objeto debe fallar cuando le entregamos un vector de distinto rango\n",
    "# En este asumo que los inputs no tienen el mismo tamanio\n",
    "def test_box_inputlength(box):\n",
    "    with pytest.raises(ValueError,match=\"Arrays should be of the same size\"):\n",
    "        box\n",
    "\n",
    "# Si todos los elementos del input del box son same size entonces su longitud deberia ser la misma que la caja\n",
    "def test_box_length(box):\n",
    "    assert len(box) == list({len(e) for e in {x,y,z,vx,vy,vz,m}})[0]\n",
    "\n",
    "#Pureba que todos las propiedades en box sean unidades de astropy\n",
    "def test_all_float(box):\n",
    "    arr_box = [box.x,box.y,box.z,box.vx,box.vy,box.vz,box.m]\n",
    "    bool_list = []\n",
    "    for arr in arr_box:\n",
    "        bool_list.append(all([isinstance(e,u.quantity.Quantity) for e in arr]))\n",
    "    assert all(bool_list)\n",
    "\n"
   ]
  },
  {
   "cell_type": "code",
   "execution_count": 102,
   "metadata": {},
   "outputs": [
    {
     "name": "stdout",
     "output_type": "stream",
     "text": [
      "[<Quantity [1., 2., 5.] Mpc>, <Quantity [2., 3., 5.] Mpc>, <Quantity [7., 8., 9.] Mpc>, <Quantity [1., 2., 3.] Mpc>, <Quantity [2., 3., 5.] Mpc>, <Quantity [7., 8., 9.] Mpc>, <Quantity [1., 2., 1.] solMass>]\n",
      "[True]\n",
      "[True, True]\n",
      "[True, True, True]\n",
      "[True, True, True, True]\n",
      "[True, True, True, True, True]\n",
      "[True, True, True, True, True, True]\n",
      "[True, True, True, True, True, True, True]\n",
      "True\n"
     ]
    }
   ],
   "source": [
    "##Usemos un poco la clase\n",
    "x = [1,2,5]\n",
    "y = [2,3,5]\n",
    "z = [7,8,9]\n",
    "vx = [1,2,3]\n",
    "vy = [2,3,5]\n",
    "vz = [7,8,9]\n",
    "m = [1,2,1]\n",
    "box = Box(x,y,z,vx,vy,vz,m)\n",
    "\n",
    "arr_box = [box.x,box.y,box.z,box.vx,box.vy,box.vz,box.m]\n",
    "print(arr_box)\n",
    "bool_list = []\n",
    "for arr in arr_box:\n",
    "    bool_list.append(all([isinstance(e,u.quantity.Quantity) for e in arr]))\n",
    "    print(bool_list)\n",
    "\n",
    "print(all(bool_list))\n"
   ]
  },
  {
   "cell_type": "code",
   "execution_count": 110,
   "metadata": {},
   "outputs": [
    {
     "name": "stdout",
     "output_type": "stream",
     "text": [
      "<class 'astropy.units.quantity.Quantity'>\n",
      "<class 'astropy.units.quantity.Quantity'>\n",
      "<class 'float'>\n"
     ]
    }
   ],
   "source": [
    "@uttr.s\n",
    "class coso:\n",
    "    a = uttr.ib(unit=u.Mpc)\n",
    "    \n",
    "\n",
    "# one = laclas(5) #Rejects str\n",
    "# print(one.a)\n",
    "# one.add_unit(u.Mpc)\n",
    "box = coso(5)\n",
    "print(type(box.a))\n",
    "\n",
    "print(type(5+np.nan+box.a/u.Mpc))\n",
    "print(type(np.nan))\n"
   ]
  },
  {
   "cell_type": "code",
   "execution_count": 129,
   "metadata": {},
   "outputs": [
    {
     "name": "stdout",
     "output_type": "stream",
     "text": [
      "[64, 98, 103, 85]\n"
     ]
    },
    {
     "ename": "IndexError",
     "evalue": "list index out of range",
     "output_type": "error",
     "traceback": [
      "\u001b[1;31m---------------------------------------------------------------------------\u001b[0m",
      "\u001b[1;31mIndexError\u001b[0m                                Traceback (most recent call last)",
      "\u001b[1;32mc:\\Users\\Fede\\Desktop\\ingenieria_software\\miTeoria\\howtopytest\\pytst.ipynb Cell 16\u001b[0m line \u001b[0;36m7\n\u001b[0;32m      <a href='vscode-notebook-cell:/c%3A/Users/Fede/Desktop/ingenieria_software/miTeoria/howtopytest/pytst.ipynb#X23sZmlsZQ%3D%3D?line=3'>4</a>\u001b[0m     cols\u001b[39m.\u001b[39mappend(np\u001b[39m.\u001b[39mrandom\u001b[39m.\u001b[39mnormal(\u001b[39m0\u001b[39m,\u001b[39m500\u001b[39m,size\u001b[39m=\u001b[39mn))\n\u001b[0;32m      <a href='vscode-notebook-cell:/c%3A/Users/Fede/Desktop/ingenieria_software/miTeoria/howtopytest/pytst.ipynb#X23sZmlsZQ%3D%3D?line=5'>6</a>\u001b[0m \u001b[39mprint\u001b[39m(\u001b[39mlist\u001b[39m(\u001b[39mmap\u001b[39m(\u001b[39mlen\u001b[39m,cols)))\n\u001b[1;32m----> <a href='vscode-notebook-cell:/c%3A/Users/Fede/Desktop/ingenieria_software/miTeoria/howtopytest/pytst.ipynb#X23sZmlsZQ%3D%3D?line=6'>7</a>\u001b[0m \u001b[39mprint\u001b[39m(cols[\u001b[39m4\u001b[39;49m])\n",
      "\u001b[1;31mIndexError\u001b[0m: list index out of range"
     ]
    }
   ],
   "source": [
    "cols = []\n",
    "for e in np.arange(0,4,step=1):\n",
    "    n = np.random.randint(250,size=1)\n",
    "    cols.append(np.random.normal(0,500,size=n))\n",
    "\n",
    "print(list(map(len,cols)))\n",
    "print(cols[4])\n"
   ]
  },
  {
   "cell_type": "markdown",
   "metadata": {},
   "source": [
    "## conftest.py\n",
    "Pytest nos ofrece un archivo que permite compartir fixtures con multiples archivos. Cualquier fixture que definamos aca podra ser utilizando en nuestros test sin necesidad de importar el fixture desde conftest.py. Repito, no hay que importar nada, solo definir un archivo de nombre conftest.py dentro de la carpeta de tests/\n",
    "\n",
    "Aqui tenemos la documentacion oficial <a href='https://docs.pytest.org/en/7.1.x/reference/fixtures.html#conftest-py-sharing-fixtures-across-multiple-files'>LINK</a>"
   ]
  },
  {
   "cell_type": "markdown",
   "metadata": {},
   "source": [
    "# IO TESTS \n",
    "\n",
    "Este tipo de tests nos va a permitr crear buffers para nuestras funciones que leen archivos. \n",
    "Por otro lado nos evita tener que crear archivos y tener que escribir a disco. Concretamente nos permite crear funcion de lectura y escritura sin la necesidad de tener que crear archivos.\n",
    "\n",
    "El siguiente articulo contiene mucha informacion acerca del modulo stringIO que es vital para realizar esto <a href='https://www.geeksforgeeks.org/stringio-module-in-python/'>LINK</a>\n",
    "\n",
    "*The StringIO module is an in-memory file-like object. This object can be used as input or output to the most function that would expect a standard file object.*\n",
    "\n",
    "Algunas caracteristicas:\n",
    "\n",
    "from IO import StringIO\n",
    "file = StringIO('String') <---- Indica que se trate a file como un archivo\n",
    "file.read() <---- Inica que se lea file, desde donde se encuentre el cursor\n",
    "file.write('Message') <---- Indica que se escriba en file 'Message'\n",
    "file.seek(0) <--- Ir a la linea inicial del arhivo, podes elegir otros numeros para ir a distintas lineas\n",
    "file.getvalue() <---- Entrega el contenido entero del archivo\n",
    "\n",
    "\n",
    "- "
   ]
  },
  {
   "cell_type": "code",
   "execution_count": 9,
   "metadata": {},
   "outputs": [
    {
     "name": "stdout",
     "output_type": "stream",
     "text": [
      "<_io.StringIO object at 0x000002B5745F5870>\n",
      "This is a long string\n",
      "This is a long string\n",
      "0\n",
      "This is a long string so it will make you waste your time\n"
     ]
    }
   ],
   "source": [
    "import io\n",
    "from io import StringIO\n",
    "file = StringIO('This is a long string')\n",
    "print(file) # <---- Ojo esto no es una string\n",
    "print(file.read())\n",
    "print(file.getvalue())\n",
    "file.write(' so it will make you waste your time')\n",
    "#Si queres volver a hacer que tu file haga read() tenes que volver a la primera linea\n",
    "print(file.seek(0))\n",
    "print(file.read())"
   ]
  },
  {
   "cell_type": "markdown",
   "metadata": {},
   "source": [
    "## Property base testing"
   ]
  },
  {
   "cell_type": "markdown",
   "metadata": {},
   "source": [
    "## Cobertura de codigo\n",
    "Minutoo 1:00:00\n",
    "<a href='https://www.youtube.com/watch?v=R1A8xN0bmeo'>LINK</a>"
   ]
  },
  {
   "cell_type": "markdown",
   "metadata": {},
   "source": [
    "Fijarse el jupiter de nombre code_coverage que tengo aca"
   ]
  }
 ],
 "metadata": {
  "kernelspec": {
   "display_name": "Python 3",
   "language": "python",
   "name": "python3"
  },
  "language_info": {
   "codemirror_mode": {
    "name": "ipython",
    "version": 3
   },
   "file_extension": ".py",
   "mimetype": "text/x-python",
   "name": "python",
   "nbconvert_exporter": "python",
   "pygments_lexer": "ipython3",
   "version": "3.11.3"
  },
  "orig_nbformat": 4
 },
 "nbformat": 4,
 "nbformat_minor": 2
}
