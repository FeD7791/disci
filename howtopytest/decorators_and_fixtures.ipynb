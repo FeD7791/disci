{
 "cells": [
  {
   "cell_type": "markdown",
   "metadata": {},
   "source": [
    "<a href='https://realpython.com/pytest-python-testing/#fixtures-managing-state-and-dependencies'>Real python</a>, nos aclara bien cual es el comportamiento de las fixtures:\n",
    "\n",
    "*You can use the fixture by adding the function reference as an argument to your tests. Note that you don’t call the fixture function. pytest takes care of that. You’ll be able to use the return value of the fixture function as the name of the fixture function*\n",
    "\n",
    "En esta parte voy a tratar de explicar el uso de fixtures en particular con este codigo:"
   ]
  },
  {
   "cell_type": "code",
   "execution_count": null,
   "metadata": {
    "vscode": {
     "languageId": "plaintext"
    }
   },
   "outputs": [],
   "source": [
    "@pytest.fixture(scope=\"session\")\n",
    "def mkbox_params(): #aca vas a retornar la funcion maker que la podes modificar\n",
    "    def _maker(\n",
    "        *,\n",
    "        seed=None,\n",
    "        coordinates_scale=500,\n",
    "        velocity_scale=220,\n",
    "        mass_scale=12,\n",
    "        size=1000,\n",
    "    ):\n",
    "        rng = np.random.default_rng(seed=seed)\n",
    "        params = {\n",
    "            \"x\": rng.uniform(0,coordinates_scale,size=size),\n",
    "            \"y\": rng.uniform(0,coordinates_scale,size=size),\n",
    "            \"z\": rng.uniform(0,coordinates_scale,size=size),\n",
    "            \"vx\": rng.uniform(0,velocity_scale,size=size),\n",
    "            \"vy\": rng.uniform(0,velocity_scale,size=size),\n",
    "            \"vz\": rng.uniform(0,velocity_scale,size=size),\n",
    "            \"m\": rng.uniform(0,mass_scale,size=size)\n",
    "        }\n",
    "        return params\n",
    "\n",
    "    return _maker\n",
    "\n",
    "@pytest.fixture(scope=\"session\")\n",
    "def mkbox(mkbox_params):\n",
    "    def _maker(**kwargs):\n",
    "        params = mkbox_params(**kwargs)\n",
    "        return Box(**params)\n",
    "\n",
    "    return _maker"
   ]
  },
  {
   "cell_type": "markdown",
   "metadata": {},
   "source": [
    "El anterior es un codigo del voidfinder toolkit de la parte de testeo. Cuando nosotros ejecutamos pytest como en el ejemplo de abajo:"
   ]
  },
  {
   "cell_type": "code",
   "execution_count": null,
   "metadata": {
    "vscode": {
     "languageId": "plaintext"
    }
   },
   "outputs": [],
   "source": [
    "def test_Box_initialization(mkbox):\n",
    "    box = mkbox(seed=42, size=1000)# mkbox inmediatamente retorna _maker(**kwargs)\n",
    "    #mkbox(seed=42, size=1000) --> _maker(**kwargs)\n",
    "    assert box.x.unit == u.Mpc\n",
    "    assert box.y.unit == u.Mpc\n",
    "    assert box.z.unit == u.Mpc\n",
    "    assert box.vx.unit == u.Mpc / u.h\n",
    "    assert box.vy.unit == u.Mpc / u.h\n",
    "    assert box.vz.unit == u.Mpc / u.h\n",
    "    assert box.m.unit == u.M_sun\n",
    "    assert len(box) == 1000\n",
    "    assert repr(box) == \"<Box size=1000>\"\n",
    "    assert isinstance(box.x, np.ndarray)\n",
    "    assert isinstance(box.y, np.ndarray)\n",
    "    assert isinstance(box.z, np.ndarray)\n",
    "    assert isinstance(box.vx, np.ndarray)\n",
    "    assert isinstance(box.vy, np.ndarray)\n",
    "    assert isinstance(box.vz, np.ndarray)\n",
    "    assert isinstance(box.m, np.ndarray)"
   ]
  },
  {
   "cell_type": "markdown",
   "metadata": {},
   "source": [
    "Puede parecer extremadamente raro que esto ande, pero que sucede? En este contexto cuando vos llamas mkbox_params por ejemplo, este te retorna _maker y vos pensa una cosa, en el contexto de pytest cuando vos colocas mkbox_params vos estas llamando AL RESULTADO de esa funcion, no a la funcion.\n",
    "\n",
    "Esto me produjo mucha confusion, pues yo antes habia armado:"
   ]
  },
  {
   "cell_type": "code",
   "execution_count": null,
   "metadata": {
    "vscode": {
     "languageId": "plaintext"
    }
   },
   "outputs": [],
   "source": [
    "@pytest.fixture\n",
    "def make_spherical_voids_params(**kwargs):\n",
    "\n",
    "    params = {\n",
    "        'n_voids':1000,\n",
    "        'rad_scale': 15,\n",
    "        'xyz_void_max_scale':500,\n",
    "        'vel_xyz_void_max_scale':200,\n",
    "        'min_delta':-0.95,\n",
    "        'max_delta':-0.90,\n",
    "        'min_poisson':-0.5,\n",
    "        'max_poisson':0.5,\n",
    "        'dtype': 0.5,\n",
    "        'nran': 200,\n",
    "        'seed':42\n",
    "    }\n",
    "    for key,value in kwargs.items():\n",
    "        params[key] = value\n",
    "\n",
    "    rng = np.random.default_rng(seed=params['seed'])\n",
    "    void_params = {\n",
    "        'rad' : rng.uniform(0,params['rad_scale'],params['n_voids']),\n",
    "        'x_void' : rng.uniform(0,params['xyz_void_max_scale'],params['n_voids']),\n",
    "        'y_void' : rng.uniform(0,params['xyz_void_max_scale'],params['n_voids']),\n",
    "        'z_void' : rng.uniform(0,params['xyz_void_max_scale'],params['n_voids']),\n",
    "        'vel_x_void' : rng.uniform(0,params['vel_xyz_void_max_scale'],params['n_voids']),\n",
    "        'vel_y_void' : rng.uniform(0,params['vel_xyz_void_max_scale'],params['n_voids']),\n",
    "        'vel_z_void' : rng.uniform(0,params['vel_xyz_void_max_scale'],params['n_voids']),\n",
    "        'delta' : rng.uniform(params['min_delta'],params['max_delta'],params['n_voids']),\n",
    "        'poisson' : rng.uniform(params['min_poisson'], params['max_poisson'],params['n_voids']),\n",
    "        'dtype' :  rng.uniform(0, params['dtype'],params['n_voids']),\n",
    "        'nran' : rng.uniform(0, params['nran'],params['n_voids'])\n",
    "    }\n",
    "    return void_params\n",
    "    \n"
   ]
  },
  {
   "cell_type": "markdown",
   "metadata": {},
   "source": [
    "Entonces que sucedia? que yo queria hacer : spherical_voids_params = make_spherical_voids_params(n_voids=500) y lo que sucedia es que se me retornaba que 'dict object is not callable' Porque? Porque al llamar a esto en ralidad estaba retornando el diccionario void_params y no la funcion y a ese diccionario le estaba dando las variables: void_params(n_voids=500) dandome el error. Cual es la solucion?"
   ]
  },
  {
   "cell_type": "code",
   "execution_count": null,
   "metadata": {
    "vscode": {
     "languageId": "plaintext"
    }
   },
   "outputs": [],
   "source": [
    "@pytest.fixture\n",
    "def make_spherical_voids_params():\n",
    "    #aca vas a retornar un valor, no una funcion\n",
    "    def _maker(**kwargs):\n",
    "        params = {\n",
    "            'n_voids':1000,\n",
    "            'rad_scale': 15,\n",
    "            'xyz_void_max_scale':500,\n",
    "            'vel_xyz_void_max_scale':200,\n",
    "            'min_delta':-0.95,\n",
    "            'max_delta':-0.90,\n",
    "            'min_poisson':-0.5,\n",
    "            'max_poisson':0.5,\n",
    "            'dtype': 0.5,\n",
    "            'nran': 200,\n",
    "            'seed':42\n",
    "        }\n",
    "        for key,value in kwargs.items():\n",
    "            params[key] = value\n",
    "\n",
    "        rng = np.random.default_rng(seed=params['seed'])\n",
    "        void_params = {\n",
    "            'rad' : rng.uniform(0,params['rad_scale'],params['n_voids']),\n",
    "            'x_void' : rng.uniform(0,params['xyz_void_max_scale'],params['n_voids']),\n",
    "            'y_void' : rng.uniform(0,params['xyz_void_max_scale'],params['n_voids']),\n",
    "            'z_void' : rng.uniform(0,params['xyz_void_max_scale'],params['n_voids']),\n",
    "            'vel_x_void' : rng.uniform(0,params['vel_xyz_void_max_scale'],params['n_voids']),\n",
    "            'vel_y_void' : rng.uniform(0,params['vel_xyz_void_max_scale'],params['n_voids']),\n",
    "            'vel_z_void' : rng.uniform(0,params['vel_xyz_void_max_scale'],params['n_voids']),\n",
    "            'delta' : rng.uniform(params['min_delta'],params['max_delta'],params['n_voids']),\n",
    "            'poisson' : rng.uniform(params['min_poisson'], params['max_poisson'],params['n_voids']),\n",
    "            'dtype' :  rng.uniform(0, params['dtype'],params['n_voids']),\n",
    "            'nran' : rng.uniform(0, params['nran'],params['n_voids'])\n",
    "        }\n",
    "        return void_params\n",
    "    \n",
    "    return _maker"
   ]
  },
  {
   "cell_type": "markdown",
   "metadata": {},
   "source": [
    "La solucion es hacer que make_spherical_voids_params retorne una funcion, entonces cuando vos haces make_spherical_voids_params(n_voids=500) en realidad estas llamando a _maker(n_voids=500)"
   ]
  }
 ],
 "metadata": {
  "language_info": {
   "name": "python"
  }
 },
 "nbformat": 4,
 "nbformat_minor": 2
}
