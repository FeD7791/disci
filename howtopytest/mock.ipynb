{
 "cells": [
  {
   "cell_type": "markdown",
   "metadata": {},
   "source": [
    "# Unit test Mock\n",
    "\n",
    "unittest.mock es una libreria de testing en python \n",
    "\n",
    "- Su principal caracteristica es que puede imitar cualquier pieza de codigo."
   ]
  },
  {
   "cell_type": "code",
   "execution_count": 2,
   "metadata": {},
   "outputs": [
    {
     "name": "stdout",
     "output_type": "stream",
     "text": [
      "524.0 Mpc\n",
      "<Mock name='mock.y' id='2826420296144'>\n",
      "<Mock name='mock.y' id='2826420296144'>\n",
      "<Mock name='mock.y' id='2826420296144'>\n"
     ]
    }
   ],
   "source": [
    "from unittest.mock import Mock\n",
    "from astropy import units as u\n",
    "\n",
    "m = Mock()\n",
    "#A partir de aca le podes asignar las propiedades que quieras\n",
    "m.x = 524*u.Mpc\n",
    "print(m.x)\n",
    "print(m.y) # Esta es una propiedad no definida.\n",
    "print(m.y)\n",
    "print(m.y)"
   ]
  },
  {
   "cell_type": "markdown",
   "metadata": {},
   "source": [
    "Observar el valor no definido , m.y nos da una id, si volvemos a llamar a m.y obtendremos la misma id"
   ]
  },
  {
   "cell_type": "code",
   "execution_count": 3,
   "metadata": {},
   "outputs": [
    {
     "name": "stdout",
     "output_type": "stream",
     "text": [
      "<Mock name='mock.y' id='2266644096528'>\n"
     ]
    }
   ],
   "source": []
  }
 ],
 "metadata": {
  "kernelspec": {
   "display_name": "Python 3",
   "language": "python",
   "name": "python3"
  },
  "language_info": {
   "codemirror_mode": {
    "name": "ipython",
    "version": 3
   },
   "file_extension": ".py",
   "mimetype": "text/x-python",
   "name": "python",
   "nbconvert_exporter": "python",
   "pygments_lexer": "ipython3",
   "version": "3.11.3"
  }
 },
 "nbformat": 4,
 "nbformat_minor": 2
}
