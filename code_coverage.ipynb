{
 "cells": [
  {
   "cell_type": "markdown",
   "metadata": {},
   "source": [
    "# Code coverage\n",
    "\n",
    "Concretamente el coverage es el procentaje de lineas de codigo que se ejecuta versus el total de lineas. Nuestro tests son los encargados de ejecutar estas lineas de codigo por lo cual tenemos que buscar que los mismos ejecuten y prueben todo lo posible del codigo.\n",
    "\n",
    "Par poder hacerlo vamos a necesitar: pytest-cov , asi que tenemos que instalarlo:\n",
    "\n",
    "- pip install pytest-cov\n",
    "\n",
    "Para correrlo basicamente tenemos que entender dos cosas\n",
    "\n",
    "1. Tenemos que especificar la carpeta/archivo donde estan los tests\n",
    "2. Tenemos que especificar el nombre del paquete o codigo al que hacen referencia los tests.\n",
    "\n",
    "Esto lo combinamos en un solo comando que debemos ejecutar:\n",
    "\n",
    "- pytest tests/ --cov=**nombre_carpeta_package** <br>\n",
    "*aca tests/ seria el nombre de la carpeta donde estan los test*\n",
    "\n",
    "Podemos agregar flags que permiten darnos mas informacion:\n",
    "\n",
    "- *--cov-report term-missing*  : Este flag nos dice cuantas lineas nos falta probar y en que archivos estan\n",
    "- *--cov-fail-under 90*  : Indica que el coverage falla por debajo de 90 lineas \n",
    "\n",
    "\n",
    "\n"
   ]
  }
 ],
 "metadata": {
  "language_info": {
   "name": "python"
  }
 },
 "nbformat": 4,
 "nbformat_minor": 2
}
