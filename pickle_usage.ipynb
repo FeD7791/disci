{
 "cells": [
  {
   "cell_type": "markdown",
   "metadata": {},
   "source": [
    "pickle se utiliza para persistir objetos creados.\n",
    "\n",
    "El uso es simple teniendo dos metodos principales: .load() y .dump()\n",
    "\n",
    "El uso queda bien ejemplificado en el siguiente codigo:"
   ]
  },
  {
   "cell_type": "code",
   "execution_count": null,
   "metadata": {
    "vscode": {
     "languageId": "plaintext"
    }
   },
   "outputs": [],
   "source": [
    "import pickle\n",
    "\n",
    "# Create an example object\n",
    "my_object = {\"name\": \"Alice\", \"age\": 30, \"city\": \"Wonderland\"}\n",
    "\n",
    "# Serialize the object and save it to a file (provide the file path directly)\n",
    "with open(\"my_object.pkl\", \"wb\") as file:\n",
    "    pickle.dump(my_object, file)\n",
    "\n",
    "print(\"Object has been saved to 'my_object.pkl'.\")\n",
    "\n",
    "# Later, you can load the object back from the file (again, just provide the file path)\n",
    "with open(\"my_object.pkl\", \"rb\") as file:\n",
    "    loaded_object = pickle.load(file)\n",
    "\n",
    "print(\"Object loaded from file:\", loaded_object)"
   ]
  }
 ],
 "metadata": {
  "language_info": {
   "name": "python"
  }
 },
 "nbformat": 4,
 "nbformat_minor": 2
}
