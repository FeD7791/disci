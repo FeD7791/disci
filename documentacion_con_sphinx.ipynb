{
 "cells": [
  {
   "cell_type": "markdown",
   "metadata": {},
   "source": [
    "<a href=\"https://www.youtube.com/watch?v=nhUp3-vkDNg&t=979s\"> Fuente </a>\n",
    "<a href=\"https://github.com/adam-p/markdown-here/wiki/Markdown-Cheatsheet#code\">Markdown_cheatsheet</a>\n",
    "\n",
    "- Que es sphinx? : Sphinx nos permite construir automaticamente una documentacion amigable para el usuario. Toma todos los docstrings definidos en nuestro proyecto, los convierte en archivos RST (Re Structured Text) y genera HTML para que luego despleguemos en un servidor, como Read The Docs.\n",
    "\n",
    "- Importante: Para que la documentacion final quede presentable, habra que agregar/modificar de los archivos .rst . Este es un formato similar al Markdown (.md) que ofrece mayor versatilidad.\n",
    "\n",
    "    - Sobre esto se indica que el proceso por lo general genera varios archivos por defecto, basados en los docstrings de nuestro proyecto. Sin embargo por lo general estos por si solos no dan la documentacion mas prolija. Por ejemplo el logo del proyecto sera necesario agregarlo por esta via.\n",
    "\n",
    "Instalacion y uso:\n",
    "\n",
    "```bash\n",
    "$ sudo apt get install pandoc\n",
    "$ pip install sphinx\n",
    "$ mkdir docs\n",
    "$ sphinx-quickstart --help\n",
    "$ sphinx-quickstart\n",
    "```\n",
    "\n",
    "- Pandoc se utiliza para convertir los notebooks a HTML.\n",
    "- si ponemos sphinx y autocompletado, nos apareceran varios comandos\n",
    "- sphinx-quickstart nos genera una estructura de la documentacion dentro de la carpeta docs. Nos hara unas preguntas para configurarla.\n",
    "    - Selected root path: . <---  esto habra que cambiarlo pues, ha seleccionado como root la carpeta docs cuando deberia ser la carpeta padre: ..\n",
    "    - Separate source and build directories (y/n) [n] : Segun juan siempre hay que poner que si, aunque por default es no y muchos usan que no.\n",
    "    - Project name: Podes basarte en lo que dice en pyproject.toml\n",
    "\n",
    "- Editemos conf.py para que el directorio sea correcto.\n",
    "- No olvidarse excluir docs de MANIFEST.in (recursive-exclude docs *)\n",
    "\n",
    "\n",
    "## Configuraciones en conf.py\n",
    "\n",
    "### Extensiones:\n",
    "\n",
    "*sphinx.ext.autodoc is a Sphinx extension that automatically generates documentation from docstrings in your Python code. It allows you to pull in function, class, and module documentation directly from your codebase, ensuring that your docs stay up to date with minimal manual effort.*\n",
    "\n",
    "Agregamos entonces: extensions = ['sphinx.ext.autodoc']\n",
    "\n",
    "*Adding extensions = ['sphinx.ext.autodoc'] in conf.py enables the autodoc extension, but it does not automatically generate documentation. You still need to explicitly use autodoc directives in your .rst files to include the generated documentation.*\n",
    "\n",
    "Debemos agregar en .rst las siguientes lineas:\n",
    "___\n",
    "Notas:\n",
    "\n",
    "- Para ver un tree del proyecto, se utiliza el comando tree que viene por defecto en windows pero es necesario instalarlo en linux haciendo uso del comando sudo."
   ]
  }
 ],
 "metadata": {
  "language_info": {
   "name": "python"
  }
 },
 "nbformat": 4,
 "nbformat_minor": 2
}
