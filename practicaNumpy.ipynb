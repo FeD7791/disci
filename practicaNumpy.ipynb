{
 "cells": [
  {
   "cell_type": "markdown",
   "metadata": {},
   "source": [
    "# Python\n",
    "\n",
    "## Algunas cuestiones importantes:\n",
    "\n",
    "- Python es un lenguaje interpretado : *An interpreted language is a language in which the implementations execute instructions directly without earlier compiling a program into machine language*\n",
    "\n",
    "- Utiliza tipado fuerte y dinamico : *The term dynamic typing means that a compiler or an interpreter assigns a type to all the variables at run-time*\n",
    "\n",
    "- Uno de sus paradigmas (algo en lo que esta basado el lenguaje) es la orientacion a objetos.\n",
    "\n",
    "- La filosofia del lenguaje esta descripta en el PEP 020\n",
    "\n",
    "- El estilo de codigo que se espera en Python esta sumarizado en el PEP 008"
   ]
  },
  {
   "cell_type": "markdown",
   "metadata": {},
   "source": [
    "# Practica de conceptos de Numpy"
   ]
  },
  {
   "cell_type": "markdown",
   "metadata": {},
   "source": [
    "- *np.arange(start,stop,step).reshape((n,m))* : Para poder generar matrices del tamanio que deseemos\n",
    "- puedes especificar el tipo de los elementos utilizando *dtype*"
   ]
  },
  {
   "cell_type": "code",
   "execution_count": 5,
   "metadata": {},
   "outputs": [
    {
     "name": "stdout",
     "output_type": "stream",
     "text": [
      "[1. 2. 3. 4. 5. 6. 7. 8. 9.]\n",
      "(9,)\n",
      "[[1. 2. 3.]\n",
      " [4. 5. 6.]\n",
      " [7. 8. 9.]]\n"
     ]
    }
   ],
   "source": [
    "import numpy as np\n",
    "a = np.arange(1,10,1 , dtype=float)\n",
    "print(a)\n",
    "print(a.shape)\n",
    "print(a.reshape((3,3)))\n"
   ]
  },
  {
   "cell_type": "markdown",
   "metadata": {},
   "source": [
    "- Es posible crear matrizes solo de ceros y unos o bien de elementos true o false especificando *dtype=bool*"
   ]
  },
  {
   "cell_type": "code",
   "execution_count": 7,
   "metadata": {},
   "outputs": [
    {
     "name": "stdout",
     "output_type": "stream",
     "text": [
      "[[False False False]\n",
      " [False False False]\n",
      " [False False False]]\n",
      "[[ True  True  True]\n",
      " [ True  True  True]]\n"
     ]
    }
   ],
   "source": [
    "print(np.zeros((3,3),dtype=bool))\n",
    "print(np.ones((2,3),dtype=bool))"
   ]
  },
  {
   "cell_type": "markdown",
   "metadata": {},
   "source": [
    "- *np.isfinite()* : Test element-wise for finiteness (not infinity and not Not a Number)\n",
    "- *np.isinf()* : Test element-wise for positive or negative infinity"
   ]
  },
  {
   "cell_type": "code",
   "execution_count": 9,
   "metadata": {},
   "outputs": [
    {
     "name": "stdout",
     "output_type": "stream",
     "text": [
      "[ 1.  2.  3.  4.  5.  6.  7.  8.  9. 10. 11. 12. 13. 14.]\n",
      "[ True  True  True  True  True  True  True  True  True  True  True  True\n",
      "  True  True]\n",
      "[False False False False False False False False False False False False\n",
      " False False]\n"
     ]
    }
   ],
   "source": [
    "print(np.arange(1,15,1,dtype=float))\n",
    "print(np.isfinite(np.arange(1,15,1,dtype=float)))\n",
    "print(np.isinf(np.arange(1,15,1,dtype=float)))"
   ]
  },
  {
   "cell_type": "markdown",
   "metadata": {},
   "source": [
    "- *np.linspace(start,stop,num)* : Return evenly spaced numbers over a specified interval</br>\n",
    "Returns num evenly spaced samples, calculated over the interval [start, stop]\n"
   ]
  },
  {
   "cell_type": "code",
   "execution_count": 10,
   "metadata": {},
   "outputs": [
    {
     "name": "stdout",
     "output_type": "stream",
     "text": [
      "[ 1.          1.47368421  1.94736842  2.42105263  2.89473684  3.36842105\n",
      "  3.84210526  4.31578947  4.78947368  5.26315789  5.73684211  6.21052632\n",
      "  6.68421053  7.15789474  7.63157895  8.10526316  8.57894737  9.05263158\n",
      "  9.52631579 10.        ]\n",
      "(20,)\n"
     ]
    }
   ],
   "source": [
    "print(np.linspace(1,10,20))\n",
    "print(np.linspace(1,10,20).shape)"
   ]
  },
  {
   "cell_type": "markdown",
   "metadata": {},
   "source": [
    "- *id()* : Returns a unique integer number for every unique value it is used with"
   ]
  },
  {
   "cell_type": "code",
   "execution_count": 11,
   "metadata": {},
   "outputs": [
    {
     "name": "stdout",
     "output_type": "stream",
     "text": [
      "140728095990696\n",
      "140728095990664\n",
      "True\n"
     ]
    }
   ],
   "source": [
    "print(id(5))\n",
    "print(id(4))\n",
    "print(id(5)==id(5))"
   ]
  },
  {
   "cell_type": "markdown",
   "metadata": {},
   "source": [
    "- Simbolos comprimidos: a += 2 ----> a = a + 2"
   ]
  },
  {
   "cell_type": "code",
   "execution_count": 14,
   "metadata": {},
   "outputs": [
    {
     "name": "stdout",
     "output_type": "stream",
     "text": [
      "7\n"
     ]
    }
   ],
   "source": [
    "a = 5\n",
    "a += 2\n",
    "print(a)\n"
   ]
  }
 ],
 "metadata": {
  "kernelspec": {
   "display_name": "Python 3",
   "language": "python",
   "name": "python3"
  },
  "language_info": {
   "codemirror_mode": {
    "name": "ipython",
    "version": 3
   },
   "file_extension": ".py",
   "mimetype": "text/x-python",
   "name": "python",
   "nbconvert_exporter": "python",
   "pygments_lexer": "ipython3",
   "version": "3.11.3"
  },
  "orig_nbformat": 4
 },
 "nbformat": 4,
 "nbformat_minor": 2
}
