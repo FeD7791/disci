{
 "cells": [
  {
   "cell_type": "markdown",
   "metadata": {},
   "source": [
    "# Patrones creacionales\n",
    "\n",
    "Source1: https://refactoring.guru/design-patterns/creational-patterns\n",
    "Source2\n",
    "\n",
    "De acuerdo a la fuente anterior:\n",
    "*Creational design patterns provide various object creation mechanisms, which increase flexibility and reuse of existing code*\n",
    "\n",
    "Tenemos los siguientes tipos:\n",
    "\n",
    "- Factory Method\n",
    "- Singleton\n",
    "- Abstract Factory\n",
    "- Builder\n",
    "- Prototype\n"
   ]
  },
  {
   "cell_type": "markdown",
   "metadata": {},
   "source": [
    "## Singleton\n",
    "\n",
    "*Singleton is a creational design pattern that lets you ensure that a class has only one instance, while providing a global access point to this instance.*\n",
    "\n",
    "*It is a way to provide one and only one object of a particular type. It involves only one class to create methods and specify the objects.*\n",
    "\n",
    "**Definition:** The singleton pattern is a design pattern that restricts the instantiation of a class to one object.\n",
    "\n",
    "Este patron resuelve 2 problemas \n",
    "\n",
    "1. Asegurarse que una clase tenga una sola instancia\n",
    "Cada vez que quisieramos crear un objeto, en lugar de hacerlo, se nos da el objeto previamente creado. Es decir accedemos siempre a la misma instancia.\n",
    "Este tipo de patron es incopatible con un constructor ya que el constructor siempre nos retorna un nuevo objeto.\n",
    "\n",
    "2. Provee un punto de acceso global a dicha instancia.\n",
    "\n",
    "A pesar de poder acceder a este objeto de forma global, el mismo esta protegido contra sobre-escritura.\n",
    "\n",
    "### Creacion de un singleton en python\n",
    "Para craer un singleto tenemos que implementar los siguientes pasos:\n",
    "\n",
    "- Hacer que el constructor default sea privado. Esto previene que otros objetos utilizen el operador new\n",
    "- Crear un metodo de creacion estatico que actue como constructor\n",
    "\n",
    "En este post se discuten ciertas manera de crear un singleton pero de momento me superan:\n",
    "https://stackoverflow.com/questions/6760685/creating-a-singleton-in-python\n",
    "\n",
    "Source3: https://www.pythonmorsels.com/making-singletons/\n",
    "Esta fuente es buenisima y explica la creacion de un singleton paso a paso y explicando todo lo que necesitas saber para entender.\n",
    "\n",
    "Supongamos que tenemos una clase, y quisieramos que fuera singleton:"
   ]
  },
  {
   "cell_type": "code",
   "execution_count": 5,
   "metadata": {},
   "outputs": [
    {
     "name": "stdout",
     "output_type": "stream",
     "text": [
      "False\n",
      "2022399968592 2022399981968\n"
     ]
    }
   ],
   "source": [
    "#Esta es mi clase singleton\n",
    "class pokemon:\n",
    "    \n",
    "    def __init__(self,name,attack,defense,hp):\n",
    "        self.name = name\n",
    "        self.attack = attack\n",
    "        self.defense = defense\n",
    "        self.hp = hp\n",
    "\n",
    "    def __repr__(self):\n",
    "        return str({'name':self.name,'attack':self.attack,'defense':self.defense,'hp':self.hp})\n",
    "\n",
    "pikachu1 = pokemon('pikachu',123,55,500)\n",
    "pikachu2 = pokemon('pikachu',123,55,500)\n",
    "print(pikachu1 == pikachu2)\n",
    "print(id(pikachu1),id(pikachu2))"
   ]
  },
  {
   "cell_type": "markdown",
   "metadata": {},
   "source": [
    "Lo que se puede ver aqui es que nuestra clase, es una clase normal y los objetos que entrega son distintos. Si esto fuera un singleton tendriamos objetos iguales."
   ]
  },
  {
   "cell_type": "code",
   "execution_count": 1,
   "metadata": {},
   "outputs": [
    {
     "name": "stdout",
     "output_type": "stream",
     "text": [
      "True\n",
      "1968692585616 1968692585616\n"
     ]
    }
   ],
   "source": [
    "#A partir de esta clase creemos el singleton\n",
    "\n",
    "class pokemon:\n",
    "    _self = None #En principio esto no existe\n",
    "    def __new__(cls,name,attack,defense,hp):\n",
    "        if cls._self is None:\n",
    "            cls._self = super().__new__(cls)\n",
    "        return cls._self\n",
    "    def __init__(self,name,attack,defense,hp):\n",
    "        self.name = name\n",
    "        self.attack = attack\n",
    "        self.defense = defense\n",
    "        self.hp = hp\n",
    "    def __repr__(self):\n",
    "        return str({'name':self.name,'attack':self.attack,'defense':self.defense,'hp':self.hp})\n",
    "    \n",
    "pikachu1 = pokemon('pikachu',123,55,500)\n",
    "pikachu2 = pokemon('pikachu',123,55,500)\n",
    "print(pikachu1 == pikachu2)\n",
    "print(id(pikachu1),id(pikachu2))"
   ]
  },
  {
   "cell_type": "markdown",
   "metadata": {},
   "source": [
    "Como puede verse finalmente ahora las dos instancias son las mismas."
   ]
  },
  {
   "cell_type": "markdown",
   "metadata": {},
   "source": [
    "## Factory Method\n",
    "\n",
    "<a href='https://realpython.com/factory-method-python/'>Source</a>"
   ]
  },
  {
   "cell_type": "markdown",
   "metadata": {},
   "source": [
    "Es un patron de disenio creacional que propone una interfaz para crear objetos en una superclase, mientras permite a las subclases alterar el tipo de objetos que se crea.\n",
    "\n",
    "- Factory Method es un patron que crea objetos a partir de una interfaz comun. *Factory Method is a creational design pattern used to create concrete implementations of a common interface.*\n",
    "\n",
    "- Separa el proceso de crear un objeto del codigo que depende de la interfaz del objeto\n",
    "\n",
    "En el articulo de Real Python encontraremos el siguiente codigo de un serializador de canciones:"
   ]
  },
  {
   "cell_type": "code",
   "execution_count": null,
   "metadata": {},
   "outputs": [],
   "source": [
    "import json\n",
    "import xml.etree.ElementTree as et\n",
    "\n",
    "class Song:\n",
    "    def __init__(self, song_id, title, artist):\n",
    "        self.song_id = song_id\n",
    "        self.title = title\n",
    "        self.artist = artist\n",
    "\n",
    "\n",
    "class SongSerializer:\n",
    "    def serialize(self, song, format):\n",
    "        if format == 'JSON':\n",
    "            song_info = {\n",
    "                'id': song.song_id,\n",
    "                'title': song.title,\n",
    "                'artist': song.artist\n",
    "            }\n",
    "            return json.dumps(song_info)\n",
    "        elif format == 'XML':\n",
    "            song_info = et.Element('song', attrib={'id': song.song_id})\n",
    "            title = et.SubElement(song_info, 'title')\n",
    "            title.text = song.title\n",
    "            artist = et.SubElement(song_info, 'artist')\n",
    "            artist.text = song.artist\n",
    "            return et.tostring(song_info, encoding='unicode')\n",
    "        else:\n",
    "            raise ValueError(format)"
   ]
  },
  {
   "cell_type": "markdown",
   "metadata": {},
   "source": [
    "Lo que tenemos aca son basicamente 2 cosas:\n",
    "\n",
    "1. La clase song que sirve para describir objetos cancion, utilizando el id, title y artis\n",
    "2. La clase song serializer que, con un conjunto de if permite seleccionar un tipo de archivo y transformarlo\n",
    "\n",
    "Entonces para hacer funcionar primero tenemos que crear un objeto clase song, y despues utilizar el serialize con este objeto song y especificando un formato.\n",
    "\n",
    "El codigo anterior tiene 2 desventajas , la primera es una complejidad de entendimiento debido a la cadena de if/elif/else y con mayor importancia viola el *single responsability principle* donde se indica que cualquier modulo, clase o inclusive un metodo de clase debe tener una responsabilidad unica bien definida.\n",
    "\n",
    "Otros problemas son:\n",
    "\n",
    "- Cuando quiera introducir un nuevo formato, hay que retocar la clase para sostenerlo\n",
    "- Si las propiedades del objeto song cambian hay que ir a tocar codigo del song serializer\n",
    "\n",
    "La siguiente pregunta es, que cambios necesita el codigo?\n",
    "\n",
    "El codigo que utiliza if/else/elif usualmente tiene un objetivo comun. Cada camino, busca convertir el objeto song a un formato.\n",
    "Basados en este objetivo buscamos elaborar una interfaz comun la cual provea implementaciones separadas para cada camino del if.\n",
    "Despues deberiamos agregar un componente separado que decida cual implementacion utilizar basado en el formato.\n",
    "\n",
    "Para realizar todas estas labores tenemos que pensar en una **REFACTORIZACION** del codigo: *the process of changing a software system in such a way that does not alter the external behavior of the code yet improves its internal structure*\n",
    "\n",
    "Esta refactorizacion va a consistir en lo siguiente:"
   ]
  },
  {
   "cell_type": "code",
   "execution_count": null,
   "metadata": {},
   "outputs": [],
   "source": [
    "class SongSerializer:\n",
    "    def serialize(self, song, format):\n",
    "        if format == 'JSON':\n",
    "            return self._serialize_to_json(song)\n",
    "        elif format == 'XML':\n",
    "            return self._serialize_to_xml(song)\n",
    "        else:\n",
    "            raise ValueError(format)\n",
    "\n",
    "    def _serialize_to_json(self, song):\n",
    "        payload = {\n",
    "            'id': song.song_id,\n",
    "            'title': song.title,\n",
    "            'artist': song.artist\n",
    "        }\n",
    "        return json.dumps(payload)\n",
    "\n",
    "    def _serialize_to_xml(self, song):\n",
    "        song_element = et.Element('song', attrib={'id': song.song_id})\n",
    "        title = et.SubElement(song_element, 'title')\n",
    "        title.text = song.title\n",
    "        artist = et.SubElement(song_element, 'artist')\n",
    "        artist.text = song.artist\n",
    "        return et.tostring(song_element, encoding='unicode')"
   ]
  },
  {
   "cell_type": "markdown",
   "metadata": {},
   "source": [
    "SongSerializer es unuestra interfaz comun que basada en un formato hace funcionar un metodo de convercion especifico para ese formato."
   ]
  },
  {
   "cell_type": "markdown",
   "metadata": {},
   "source": [
    "### Ahora si Factory method\n",
    "El objetivo del Factory Method es el de proveer un componente separado con la responsabilidad de decidir cual implementacion concreta debe ser utilizada basandose en un parametro especificado.\n",
    "\n",
    "Entonces lo que vamos a hacer es agregar una clase extra a la cual le delegaremos la responsabilidad de decidir que metodo usar basandonos en el formato dado en input por el usuario:"
   ]
  },
  {
   "cell_type": "code",
   "execution_count": null,
   "metadata": {},
   "outputs": [],
   "source": [
    "class SongSerializer:\n",
    "    def serialize(self, song, format):\n",
    "        serializer = self._get_serializer(format)\n",
    "        return serializer(song)\n",
    "\n",
    "    def _get_serializer(self, format):\n",
    "        if format == 'JSON':\n",
    "            return self._serialize_to_json\n",
    "        elif format == 'XML':\n",
    "            return self._serialize_to_xml\n",
    "        else:\n",
    "            raise ValueError(format)\n",
    "\n",
    "    def _serialize_to_json(self, song):\n",
    "        payload = {\n",
    "            'id': song.song_id,\n",
    "            'title': song.title,\n",
    "            'artist': song.artist\n",
    "        }\n",
    "        return json.dumps(payload)\n",
    "\n",
    "    def _serialize_to_xml(self, song):\n",
    "        song_element = et.Element('song', attrib={'id': song.song_id})\n",
    "        title = et.SubElement(song_element, 'title')\n",
    "        title.text = song.title\n",
    "        artist = et.SubElement(song_element, 'artist')\n",
    "        artist.text = song.artist\n",
    "        return et.tostring(song_element, encoding='unicode')"
   ]
  },
  {
   "cell_type": "markdown",
   "metadata": {},
   "source": [
    "serialize recibe los mismos input pero ahora en lugar de utilizar directamente el bloque if, simplemente llama a otro metodo que fue recientemente creado: _get_serializer el cual tiene la labor de decidir cual es el metodo que vamos a utlizar para serializar nuestro objeto song. Observar que este metodo no recibe song, simplemente el formato. Lo que retorna es el metodo que vamos a utilizar.\n",
    "\n",
    "Es basicamente el tipo que le das una tarjetita con el formato y va a buscar a la bodega la maquinita especifica que te hace la transformacion.\n",
    "\n",
    "Ahora demosle nombres a estas cosas:\n",
    "\n",
    "- .serialize() es el metodo de la aplicacion que depende de una *interfaz* para realizar sus tareas. Este es referido como el **client component** de la aplicacion\n",
    "\n",
    "- El conjunto, SongSerializer es la interfaz y se denomina como **product component** . En nuestro caso, el producto es una funcion que recibe una cancion y entrega una representacion string\n",
    "\n",
    "- _serialize_to_json y _serialize_to_xml son implementaciones concretas del producto.\n",
    "\n",
    "- _get_serializer es el componente creador. Este componente decide, como dijimos, que implementacion utilizar\n",
    "\n",
    "Como cuestion final, como ninguno de los metodos utiliza el parametro self ralmente, entonces se separa las mismas en funciones en lugar de pertenecer a la misma clase (ver articulo) que esten dentro de la misma clase no es indispensable para el patron.\n",
    "\n",
    "Los siguientes parrafos del articulo son iluminadores:\n",
    "\n",
    "*The mechanics of Factory Method are always the same. A client (SongSerializer.serialize()) depends on a concrete implementation of an interface. It requests the implementation from a creator component (get_serializer()) using some sort of identifier (format).*\n",
    "\n",
    "*The creator returns the concrete implementation according to the value of the parameter to the client, and the client uses the provided object to complete its task.*\n",
    "\n",
    "Veamos un pequenio ejemplo de aplicacion:\n",
    "\n"
   ]
  },
  {
   "cell_type": "code",
   "execution_count": 3,
   "metadata": {},
   "outputs": [
    {
     "name": "stdout",
     "output_type": "stream",
     "text": [
      "0\n"
     ]
    },
    {
     "ename": "ValueError",
     "evalue": "The operation is not in the library",
     "output_type": "error",
     "traceback": [
      "\u001b[1;31m---------------------------------------------------------------------------\u001b[0m",
      "\u001b[1;31mValueError\u001b[0m                                Traceback (most recent call last)",
      "\u001b[1;32mc:\\Users\\Fede\\Desktop\\ingenieria_software\\miTeoria\\patrones_creacionales.ipynb Cell 16\u001b[0m line \u001b[0;36m2\n\u001b[0;32m     <a href='vscode-notebook-cell:/c%3A/Users/Fede/Desktop/ingenieria_software/miTeoria/patrones_creacionales.ipynb#X21sZmlsZQ%3D%3D?line=16'>17</a>\u001b[0m     \u001b[39mreturn\u001b[39;00m operation(a,b)\n\u001b[0;32m     <a href='vscode-notebook-cell:/c%3A/Users/Fede/Desktop/ingenieria_software/miTeoria/patrones_creacionales.ipynb#X21sZmlsZQ%3D%3D?line=18'>19</a>\u001b[0m \u001b[39mprint\u001b[39m(user_interface(\u001b[39m3\u001b[39m,\u001b[39m3\u001b[39m,\u001b[39m'\u001b[39m\u001b[39mresta\u001b[39m\u001b[39m'\u001b[39m))\n\u001b[1;32m---> <a href='vscode-notebook-cell:/c%3A/Users/Fede/Desktop/ingenieria_software/miTeoria/patrones_creacionales.ipynb#X21sZmlsZQ%3D%3D?line=19'>20</a>\u001b[0m \u001b[39mprint\u001b[39m(user_interface(\u001b[39m3\u001b[39;49m,\u001b[39m3\u001b[39;49m,\u001b[39m'\u001b[39;49m\u001b[39mdivition\u001b[39;49m\u001b[39m'\u001b[39;49m))\n",
      "\u001b[1;32mc:\\Users\\Fede\\Desktop\\ingenieria_software\\miTeoria\\patrones_creacionales.ipynb Cell 16\u001b[0m line \u001b[0;36m1\n\u001b[0;32m     <a href='vscode-notebook-cell:/c%3A/Users/Fede/Desktop/ingenieria_software/miTeoria/patrones_creacionales.ipynb#X21sZmlsZQ%3D%3D?line=14'>15</a>\u001b[0m \u001b[39mdef\u001b[39;00m \u001b[39muser_interface\u001b[39m(a,b,user_op):\n\u001b[1;32m---> <a href='vscode-notebook-cell:/c%3A/Users/Fede/Desktop/ingenieria_software/miTeoria/patrones_creacionales.ipynb#X21sZmlsZQ%3D%3D?line=15'>16</a>\u001b[0m     operation \u001b[39m=\u001b[39m method_finder(user_op)\n\u001b[0;32m     <a href='vscode-notebook-cell:/c%3A/Users/Fede/Desktop/ingenieria_software/miTeoria/patrones_creacionales.ipynb#X21sZmlsZQ%3D%3D?line=16'>17</a>\u001b[0m     \u001b[39mreturn\u001b[39;00m operation(a,b)\n",
      "\u001b[1;32mc:\\Users\\Fede\\Desktop\\ingenieria_software\\miTeoria\\patrones_creacionales.ipynb Cell 16\u001b[0m line \u001b[0;36m1\n\u001b[0;32m     <a href='vscode-notebook-cell:/c%3A/Users/Fede/Desktop/ingenieria_software/miTeoria/patrones_creacionales.ipynb#X21sZmlsZQ%3D%3D?line=9'>10</a>\u001b[0m library \u001b[39m=\u001b[39m \u001b[39mdict\u001b[39m(\u001b[39mzip\u001b[39m(operaciones,metodos))\n\u001b[0;32m     <a href='vscode-notebook-cell:/c%3A/Users/Fede/Desktop/ingenieria_software/miTeoria/patrones_creacionales.ipynb#X21sZmlsZQ%3D%3D?line=10'>11</a>\u001b[0m \u001b[39mif\u001b[39;00m user_op \u001b[39mnot\u001b[39;00m \u001b[39min\u001b[39;00m library:\n\u001b[1;32m---> <a href='vscode-notebook-cell:/c%3A/Users/Fede/Desktop/ingenieria_software/miTeoria/patrones_creacionales.ipynb#X21sZmlsZQ%3D%3D?line=11'>12</a>\u001b[0m     \u001b[39mraise\u001b[39;00m \u001b[39mValueError\u001b[39;00m(\u001b[39m'\u001b[39m\u001b[39mThe operation is not in the library\u001b[39m\u001b[39m'\u001b[39m)\n\u001b[0;32m     <a href='vscode-notebook-cell:/c%3A/Users/Fede/Desktop/ingenieria_software/miTeoria/patrones_creacionales.ipynb#X21sZmlsZQ%3D%3D?line=12'>13</a>\u001b[0m \u001b[39mreturn\u001b[39;00m library[user_op]\n",
      "\u001b[1;31mValueError\u001b[0m: The operation is not in the library"
     ]
    }
   ],
   "source": [
    "def suma(a,b):\n",
    "    return a+b\n",
    "def resta(a,b):\n",
    "    return a-b\n",
    "\n",
    "\n",
    "def method_finder(user_op):\n",
    "    operaciones = ['suma','resta']\n",
    "    metodos = [suma,resta]\n",
    "    library = dict(zip(operaciones,metodos))\n",
    "    if user_op not in library:\n",
    "        raise ValueError('The operation is not in the library')\n",
    "    return library[user_op]\n",
    "\n",
    "def user_interface(a,b,user_op):\n",
    "    operation = method_finder(user_op)\n",
    "    return operation(a,b)\n",
    "\n",
    "print(user_interface(3,3,'resta'))\n",
    "print(user_interface(3,3,'divition'))"
   ]
  },
  {
   "cell_type": "code",
   "execution_count": null,
   "metadata": {},
   "outputs": [],
   "source": [
    "#Otro ejemplo mas\n",
    "from .io import read_table\n",
    "\n",
    "# Interfaz del usuario \n",
    "def void_builder(path,void_type):\n",
    "    box = read_table(path)\n",
    "    method = get_builder(void_type)\n",
    "    return method(box)\n",
    "    \n",
    "# componente creador\n",
    "def get_builder(void_type):\n",
    "    finders = ['spherical','popcorn']\n",
    "    methods = [spherical_void_finder,popcorn_void_finder]\n",
    "    library = dict(zip(finders,methods))\n",
    "    if void_type not in library:\n",
    "        raise ValueError('The method is not in the library')\n",
    "    return library[void_type]\n",
    "    \n",
    "def spherical_void_finder(box):\n",
    "    spherical_void = 'Aca uso el algoritmo de Andres con el box'\n",
    "    return spherical_void\n",
    "\n",
    "def popcorn_void_finder(box):\n",
    "    popcorn_void = 'Aca uso el algoritmo de Dante con el box'\n",
    "    return popcorn_void"
   ]
  }
 ],
 "metadata": {
  "kernelspec": {
   "display_name": "Python 3",
   "language": "python",
   "name": "python3"
  },
  "language_info": {
   "codemirror_mode": {
    "name": "ipython",
    "version": 3
   },
   "file_extension": ".py",
   "mimetype": "text/x-python",
   "name": "python",
   "nbconvert_exporter": "python",
   "pygments_lexer": "ipython3",
   "version": "3.11.3"
  }
 },
 "nbformat": 4,
 "nbformat_minor": 2
}
