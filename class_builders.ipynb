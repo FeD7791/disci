{
 "cells": [
  {
   "cell_type": "markdown",
   "metadata": {},
   "source": [
    "Python nos permite construir algunas clases simples, en el sentido de que son solamente alguna coleccion de elementos con poca o nula funcionalidad.\n",
    "\n",
    "Este tipo de patron recibe el nombre de **data class**. Basicamente hay 3 formas de construirlo.\n",
    "\n",
    "1. collections.namedtuple : Metodo mas simple\n",
    "2. typing.NamedTuple : Alternativa que requiere pistas sobre los tipos\n",
    "3. @dataclasses.dataclass : Decorador que da mayor customizacion que los metodos anteriores\n",
    "\n",
    "Veamos abajo dos maneras en las que podemos crear una clase. La primera creandola a mano. La segunda utilizando los class builders."
   ]
  },
  {
   "cell_type": "code",
   "execution_count": 6,
   "metadata": {},
   "outputs": [
    {
     "name": "stdout",
     "output_type": "stream",
     "text": [
      "<__main__.coordinate object at 0x000001E65BBDED10>\n",
      "False\n",
      "True\n"
     ]
    }
   ],
   "source": [
    "class coordinate:\n",
    "    '''Clase que describe las coordenadas con latitud y longitud'''\n",
    "    def __init__(self,lat,lon):\n",
    "        self.lat = lat\n",
    "        self.lon = lon\n",
    "\n",
    "moscow = coordinate(55.76,37.62)\n",
    "print(moscow.__repr__()) #Basicamente es un : print(moscow) dan lo mismo\n",
    "location = coordinate(55.76,37.62)\n",
    "print(location == moscow)\n",
    "print((location.lat, location.lon) == (moscow.lat, moscow.lon))\n"
   ]
  },
  {
   "cell_type": "markdown",
   "metadata": {},
   "source": [
    "Problemas:\n",
    "1. Imprimir moscow no nos da informacion relevante asociada a la clase, simplemente nos indica la direccion de memoria\n",
    "2. La igualdad no es significativa. Basicamente porque lo que esta comparando son las direcciones de memoria\n",
    "3. Comparar dos elementos requiere la comparacion explicita de cada atributo\n",
    "\n",
    "Ahora veamos como podemos atacar este problema utiliando named tuple en sus diferentes variedades."
   ]
  },
  {
   "cell_type": "code",
   "execution_count": 10,
   "metadata": {},
   "outputs": [
    {
     "name": "stdout",
     "output_type": "stream",
     "text": [
      "True\n",
      "coordinate_2_0(lat=55.76, lon=37.62)\n",
      "True\n"
     ]
    }
   ],
   "source": [
    "from collections import namedtuple\n",
    "coordinate_2 = namedtuple('coordinate_2_0','lat lon')\n",
    "print(issubclass(coordinate_2,tuple))\n",
    "moscow_2 = coordinate_2(55.76,37.62)\n",
    "print(moscow_2)\n",
    "location_2 = coordinate_2(55.76,37.62)\n",
    "print(moscow_2 == location_2)"
   ]
  },
  {
   "cell_type": "code",
   "execution_count": 8,
   "metadata": {},
   "outputs": [
    {
     "name": "stdout",
     "output_type": "stream",
     "text": [
      "True\n",
      "{'lat': <class 'float'>, 'lon': <class 'float'>}\n",
      "True\n"
     ]
    }
   ],
   "source": [
    "import typing\n",
    "from typing import NamedTuple\n",
    "coordinate_3 = NamedTuple('coordinate_3_0',[('lat',float),('lon',float)])\n",
    "moscow_3 = coordinate_3(55.76,37.62)\n",
    "print(issubclass(coordinate_3,tuple))\n",
    "print(typing.get_type_hints(coordinate_3))  # Ojo con esta pq get_type_hints es de typing y no de NamedTuple\n",
    "location_3 = coordinate_3(55.76,37.62)\n",
    "print(moscow_3 == location_3)"
   ]
  },
  {
   "cell_type": "markdown",
   "metadata": {},
   "source": [
    "Podemos hacer que una clase herede de NamedTuple. Sin embargo esto no hace que NamedTuple sea una superclase. En realidad NamedTuple es una meta clase"
   ]
  },
  {
   "cell_type": "code",
   "execution_count": 9,
   "metadata": {},
   "outputs": [
    {
     "name": "stdout",
     "output_type": "stream",
     "text": [
      "{'lat': <class 'float'>, 'lon': <class 'float'>}\n"
     ]
    },
    {
     "ename": "TypeError",
     "evalue": "issubclass() arg 2 must be a class, a tuple of classes, or a union",
     "output_type": "error",
     "traceback": [
      "\u001b[1;31m---------------------------------------------------------------------------\u001b[0m",
      "\u001b[1;31mTypeError\u001b[0m                                 Traceback (most recent call last)",
      "\u001b[1;32mc:\\Users\\Fede\\Desktop\\ingenieria_software\\miTeoria\\class_builders.ipynb Cell 7\u001b[0m line \u001b[0;36m1\n\u001b[0;32m     <a href='vscode-notebook-cell:/c%3A/Users/Fede/Desktop/ingenieria_software/miTeoria/class_builders.ipynb#W6sZmlsZQ%3D%3D?line=9'>10</a>\u001b[0m \u001b[39mprint\u001b[39m(typing\u001b[39m.\u001b[39mget_type_hints(coordinate_5))\n\u001b[0;32m     <a href='vscode-notebook-cell:/c%3A/Users/Fede/Desktop/ingenieria_software/miTeoria/class_builders.ipynb#W6sZmlsZQ%3D%3D?line=11'>12</a>\u001b[0m \u001b[39m## NamedTuple no es clase padre si no metaclase\u001b[39;00m\n\u001b[1;32m---> <a href='vscode-notebook-cell:/c%3A/Users/Fede/Desktop/ingenieria_software/miTeoria/class_builders.ipynb#W6sZmlsZQ%3D%3D?line=12'>13</a>\u001b[0m \u001b[39mprint\u001b[39m(\u001b[39missubclass\u001b[39;49m(coordinate_4,typing\u001b[39m.\u001b[39;49mNamedTuple)) \u001b[39m#El error indica que typing.NamedTuple no es una clase\u001b[39;00m\n\u001b[0;32m     <a href='vscode-notebook-cell:/c%3A/Users/Fede/Desktop/ingenieria_software/miTeoria/class_builders.ipynb#W6sZmlsZQ%3D%3D?line=13'>14</a>\u001b[0m \u001b[39mprint\u001b[39m(\u001b[39missubclass\u001b[39m(coordinate_4,\u001b[39mtuple\u001b[39m))\n",
      "\u001b[1;31mTypeError\u001b[0m: issubclass() arg 2 must be a class, a tuple of classes, or a union"
     ]
    }
   ],
   "source": [
    "class coordinate_4(NamedTuple):\n",
    "    lat: float\n",
    "    lon: float\n",
    "    def __str__(self):\n",
    "        ns = 'N' if self.lat >= 0 else 'S'\n",
    "        we = 'E' if self.lon >= 0 else 'W'\n",
    "        return f'{abs(self.lat):.1f}°{ns}, {abs(self.lon):.1f}°{we}'\n",
    "    \n",
    "coordinate_5 = coordinate_4(55.76,37.62)\n",
    "print(typing.get_type_hints(coordinate_5))\n",
    "\n",
    "## NamedTuple no es clase padre si no metaclase\n",
    "print(issubclass(coordinate_4,typing.NamedTuple)) #El error indica que typing.NamedTuple no es una clase\n",
    "print(issubclass(coordinate_4,tuple))"
   ]
  },
  {
   "cell_type": "markdown",
   "metadata": {},
   "source": [
    "Vamos ahora a ver finalmente el decorador @dataclass"
   ]
  },
  {
   "cell_type": "code",
   "execution_count": null,
   "metadata": {},
   "outputs": [
    {
     "name": "stdout",
     "output_type": "stream",
     "text": [
      "coordinate_6(lat=55.76, lon=37.62)\n",
      "True\n"
     ]
    }
   ],
   "source": [
    "from dataclasses import dataclass\n",
    "\n",
    "@dataclass(frozen=True)\n",
    "class coordinate_6():\n",
    "    lat: float\n",
    "    lon: float\n",
    "    # Si no definimos el metodo __str__ la clase llama a __repr__\n",
    "    # def __str__(self):\n",
    "    #     ns = 'N' if self.lat >= 0 else 'S'\n",
    "    #     we = 'E' if self.lon >= 0 else 'W'\n",
    "    #     return f'{abs(self.lat):.1f}°{ns}, {abs(self.lon):.1f}°{we}'\n",
    "\n",
    "moscow_4 = coordinate_6(55.76,37.62)\n",
    "location = coordinate_6(55.76,37.62)\n",
    "print(moscow_4)\n",
    "print(location == moscow_4)"
   ]
  },
  {
   "cell_type": "markdown",
   "metadata": {},
   "source": [
    "<link rel=\"stylesheet\" href=\"https://cdn.jsdelivr.net/npm/purecss@3.0.0/build/pure-min.css\" integrity=\"sha384-X38yfunGUhNzHpBaEBsWLO+A0HDYOQi8ufWDkZ0k9e0eXz/tH3II7uKZ9msv++Ls\" crossorigin=\"anonymous\">\n",
    "\n",
    "<table class=\"pure-table\">\n",
    "    <thead>\n",
    "        <tr>\n",
    "            <th>#</th>\n",
    "            <th>namedtuple</th>\n",
    "            <th>typing.NamedTuple</th>\n",
    "            <th>@dataclass</th>\n",
    "        </tr>\n",
    "    </thead>\n",
    "    <tbody>\n",
    "        <tr>\n",
    "            <td>mutable instances</td>\n",
    "            <td>NO</td>\n",
    "            <td>NO</td>\n",
    "            <td>YES</td>\n",
    "        </tr>\n",
    "        <tr>\n",
    "            <td>class statement syntax</td>\n",
    "            <td>NO</td>\n",
    "            <td>YES</td>\n",
    "            <td>YES</td>\n",
    "        </tr>\n",
    "        <tr>\n",
    "            <td>construct dict</td>\n",
    "            <td>x._asdict()</td>\n",
    "            <td>x._asdict()</td>\n",
    "            <td>dataclasses.asdict(x)</td>\n",
    "        </tr>\n",
    "        <tr>\n",
    "            <td>get field names</td>\n",
    "            <td>x._fields</td>\n",
    "            <td>x._fields</td>\n",
    "            <td>[f.name for f in dataclasses.fields(x)]</td>\n",
    "        </tr>\n",
    "        <tr>\n",
    "            <td>get defaults</td>\n",
    "            <td>x._field_defaults</td>\n",
    "            <td>x._field_defaults</td>\n",
    "            <td>[f.default for f in dataclasses.fields(x)]</td>\n",
    "        </tr>\n",
    "        <tr>\n",
    "            <td>get field types</td>\n",
    "            <td>N/A</td>\n",
    "            <td>x.__annotations__</td>\n",
    "            <td>x.__annotations__</td>\n",
    "        </tr>\n",
    "        <tr>\n",
    "            <td>new instance with changes</td>\n",
    "            <td>x._replace(…)</td>\n",
    "            <td>x._replace(…)</td>\n",
    "            <td>dataclasses.replace(x, …)</td>\n",
    "        </tr>\n",
    "        <tr>\n",
    "            <td>new class at runtime</td>\n",
    "            <td>namedtuple(…)</td>\n",
    "            <td>NamedTuple(…)</td>\n",
    "            <td>dataclasses.make_dataclass(…)</td>\n",
    "        </tr>\n",
    "    </tbody>\n",
    "</table>"
   ]
  },
  {
   "cell_type": "markdown",
   "metadata": {},
   "source": [
    "La tabla de arriba tiene las caracteristicas principales de estos class builders. Vamos a discutir cada una de ellas para entender un poco mejor a que hacen referencia.\n",
    "\n",
    "1. mutable instances: Hace referencia a la mutabilidad de las instancias. Las tuplas por lo general son mutables. Aca namedtuple y NamedTuple no son mutables. @dataclass es mutable, sin embargo si utilizamoes el atributo frozen=True, entonces no sera mutable (ver ejemplo arriba)\n",
    "\n",
    "2. class statement syntax: solamente typing.NamedTuple y dataclass tienen sintaxis de clase. Esto facilita agregar metodos y strings de documentacion (docstrings) a la clase que estas creando.\n",
    "\n",
    "3. construct dict: ambas instancias , namedtuple y typing.NamedTuple proveen un metodo para construir un diccionario (._asdict) a partir de las propiedades de la clase. Para el caso de dataclass se utiliza la funcion dataclasses.asdict\n",
    "\n",
    "4. get field names and default values : "
   ]
  },
  {
   "cell_type": "markdown",
   "metadata": {},
   "source": [
    "# Name Tuples Clasicos\n",
    "\n",
    "En esta seccion vamos a hablar exclusivamente de namedtuple\n",
    "\n",
    "collections.namedtuple es una funcion que construye subclases de tuple. Como adicional tiene la posibilidad de tener campos de nombres, un nombre de clase y un _ _repr_ _ informativo.\n",
    "\n",
    "El formato para su creacion es basicamente:\n",
    "\n",
    "collections.namedtuple( 'NOMBRE','PROPIEDAD1 PROPIEDAD2 ...')"
   ]
  },
  {
   "cell_type": "code",
   "execution_count": 19,
   "metadata": {},
   "outputs": [
    {
     "name": "stdout",
     "output_type": "stream",
     "text": [
      "('name', 'country', 'population', 'coordinates')\n",
      "Buenos Aires\n",
      "{'name': 'Buenos Aires', 'country': 'Argentina', 'population': 45000000, 'coordinates': (-34.6158238, -58.4332985)}\n",
      "{}\n",
      "{\"name\": \"Buenos Aires\", \"country\": \"Argentina\", \"population\": 45000000, \"coordinates\": [-34.6158238, -58.4332985]}\n",
      "('atributo1', 'atributo2', 'atributo3')\n"
     ]
    }
   ],
   "source": [
    "import json\n",
    "city = namedtuple('City', 'name, country, population, coordinates')\n",
    "\n",
    "BsAs = city(name='Buenos Aires',country='Argentina', population=45000000, coordinates=(-34.6158238,-58.4332985))\n",
    "\n",
    "print(BsAs._fields)\n",
    "print(BsAs.name)\n",
    "print(BsAs._asdict())\n",
    "print(BsAs._field_defaults)\n",
    "print(json.dumps(BsAs._asdict())) #to serialize the data in JSON format\n",
    "\n",
    "## definir defaults\n",
    "objeto = namedtuple('Nombre','atributo1 atributo2 atributo3',defaults=['def1' ,'def2'])\n",
    "elemento = objeto(atributo1='attr1')\n",
    "print(elemento._fields)"
   ]
  },
  {
   "cell_type": "markdown",
   "metadata": {},
   "source": [
    "# Named Tuples con tipo\n",
    "\n",
    "En esta seccion vamos a revisar la funcion typing.NamedTuples\n",
    "\n",
    "Cuando utilizamos este constructor, tenemos que tener en cuenta que a toda instancia de la clase debe asignarsele un tipo. \n",
    "\n",
    "Al asignar un tipo lo que estamos agregando es una _ _ annotations_ _ que es un atributo de clase. Estos son basicamente type hints y no tienen efecto alguno en el runtime pues python los ignora completamente.\n",
    "\n",
    "Si queremos una verificacion de los tipos podemos utilizar Mypy (https://mypy.readthedocs.io/en/stable/getting_started.html).\n",
    "\n",
    "Para utilizar mypy basta con escribir: mypy program.py \n",
    "Donde program.py es el archivo de nuestro programa"
   ]
  }
 ],
 "metadata": {
  "kernelspec": {
   "display_name": "Python 3",
   "language": "python",
   "name": "python3"
  },
  "language_info": {
   "codemirror_mode": {
    "name": "ipython",
    "version": 3
   },
   "file_extension": ".py",
   "mimetype": "text/x-python",
   "name": "python",
   "nbconvert_exporter": "python",
   "pygments_lexer": "ipython3",
   "version": "3.11.3"
  },
  "orig_nbformat": 4
 },
 "nbformat": 4,
 "nbformat_minor": 2
}
