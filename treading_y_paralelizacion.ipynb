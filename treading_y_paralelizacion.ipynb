{
 "cells": [
  {
   "cell_type": "markdown",
   "metadata": {},
   "source": [
    "En lineas generales hay dos caras para este tema:\n",
    "\n",
    "- Threading : que se utiliza para procesos ligados a io : Interfaces para descargar y abrir archivos por ejemplo\n",
    "- Paralelization : que hace referencia a procesos hechos por la cpu."
   ]
  },
  {
   "cell_type": "code",
   "execution_count": 14,
   "metadata": {},
   "outputs": [],
   "source": [
    "# =============================================================================\n",
    "# IMPORTS\n",
    "# =============================================================================\n",
    "\n",
    "import time\n",
    "import multiprocessing\n",
    "import concurrent.futures as cf"
   ]
  },
  {
   "cell_type": "markdown",
   "metadata": {},
   "source": [
    "# Paralelizacion utilizando la libreria nativa de python concurrent y multiprocessing\n",
    "\n",
    "- Fuente: <a href=\"https://www.youtube.com/watch?v=fKl2JW_qrso\">Video </a>\n",
    "- Github asociado al video: <a href=\"https://github.com/CoreyMSchafer/code_snippets/blob/master/Python/MultiProcessing/multiprocessing-demo.py\"> github</a>\n",
    "\n",
    "## Medicion de tiempo utilizando time.perf_counter\n",
    "\n",
    "- Antes de empezar el tutorial tengamos en cuenta que las mediciones del tiempo las haremos utilizando time.perf_counter debido a que esta funcion mide el tiempo del cpu (distinto de time.time que mide el tiempo real).\n",
    "\n",
    "- Puede ver mas acerca de esto en el siguiente <a href=\"https://stackoverflow.com/questions/66036844/time-time-or-time-perf-counter-which-is-faster\">post</a> de stack overflow.\n",
    "\n",
    "## Paralelizacion utilizando multiprocessing\n",
    "\n",
    "Suponga que lo que hace es llamar varias veces a una funcion como en el siguiente ejemplo:\n",
    "\n",
    "```start = time.perf_counter()```\n",
    "\n",
    "\n",
    "```def do_something(seconds):``` <br>\n",
    "        <p>```print(f'Sleeping {seconds} second(s)...')```<br>\n",
    "        <p>```time.sleep(seconds)```<br>\n",
    "        <p>```return f'Done Sleeping...{seconds}'```<br>\n",
    "\n",
    "```finish = time.perf_counter()```\n",
    "\n",
    "En este sencillo ejemplo  tenemos una funcion que se llama do_sommething, la cual tiene un unico input llamados seconds que dice cuanto tiempo esperar hasta retornar un string que dice que durmio cierta cantidad de segundos.\n",
    "\n",
    "Piense ahora que quisiera ejecutar varias veces este proceso de forma sincronica con el valor ```seconds=1``` , si lo hiciera 10 veces entonces tardaria 10 segundos.\n",
    "\n",
    "### Creando un proceso sencillo\n",
    "\n",
    "Vamos ahora a utilizarla libreria multiprocessing para paralelizar estas corridas. Para ello tenemos que crear primero un proceso:\n",
    "\n",
    "- p = multiprocessing.Process(target=< funcion>, args=< args>, kwargs=dict)\n",
    "    - Se aclara que args son los argumentos de la funcion. En el video se indica que pasar argumentos puede ser complicado porque los argumentos se deberian pasar de forma serializada, usando pickle por ejemplo.\n",
    "    - Observese que se tiene la opcion de kwargs para argumentos nombrados.\n",
    "\n",
    "Para que el proceso inicie debemos utilizar el metodo start del mismo:\n",
    "\n",
    "- p.start()\n",
    "\n",
    "Asi como lo iniciamos lo 'terminamos', .join() indica que se debe esperar hasta que el proceso se complete.\n",
    "\n",
    "\n",
    "# Process pool executor - Libreria concurrent\n",
    "\n",
    "- Introducido en python 3.2\n",
    "- Permite intercambiar entre uso de thread y de proceso, lo cual no se puede con lo anterior.\n",
    "- Se encuentra en la libreria concurrent\n",
    "- Puede utilizarse con context manager\n",
    "\n",
    "- .submit() : programa la funcion a paralelizar y retorna un objeto futuro.\n",
    "- El objeto futuro encapsula la ejecucion de la funcion y permite verificarla despues de que se ha programado. Podemos verificar si esta corriendo o si ha terminado, asi como tambien verificar el resultado.\n",
    "- Para accerder al resultado utilizamos .result()\n",
    "\n",
    "- Observar en el ejemplo: ```f = executor.submit(do_something, seconds=1)``` que si la funcion tiene argumentos nombrados, basta con escribirlos como tal en la segunda entrada.\n",
    "\n",
    "- Para obtener los resultados terminados de los futures utilizamos el metodo .as_compleated() . Puede verse una discusion en stack overflow <a href=\"https://stackoverflow.com/questions/51239251/how-does-concurrent-futures-as-completed-work\">aqui</a>\n",
    "\n",
    "- si combinamos con map, podemos obtener los resultados en el orden en que empezaron, aunque esto no significa que este sea el orden con el que han terminado los procesos.\n",
    "\n",
    "## Diferencia .submit() vs .map()\n",
    "\n",
    ".submit() vs .map(). They both accept the jobs immediately (submitted|mapped - start). They take the same time to complete, 11 seconds (last result time - start). However, .submit() gives results as soon as any thread in the ThreadPoolExecutor maxThreads=2 completes (unordered!). While .map() gives results in the order they are submitted.\n",
    "\n",
    "- Fuente : https://stackoverflow.com/questions/20838162/how-does-threadpoolexecutor-map-differ-from-threadpoolexecutor-submit"
   ]
  },
  {
   "cell_type": "code",
   "execution_count": 9,
   "metadata": {},
   "outputs": [
    {
     "name": "stdout",
     "output_type": "stream",
     "text": [
      "Sleeping 1 second(s)...\n",
      "Sleeping 1 second(s)...\n",
      "Sleeping 1 second(s)...\n",
      "Sleeping 1 second(s)...\n",
      "Sleeping 1 second(s)...\n",
      "Sleeping 1 second(s)...\n",
      "Sleeping 1 second(s)...\n",
      "Sleeping 1 second(s)...\n",
      "Sleeping 1 second(s)...\n",
      "Sleeping 1 second(s)...\n",
      "10.00232383608818\n"
     ]
    }
   ],
   "source": [
    "# Aca definimos la funcion\n",
    "\n",
    "def do_something(*,seconds):\n",
    "    print(f'Sleeping {seconds} second(s)...')\n",
    "    time.sleep(seconds)\n",
    "    return f'Done Sleeping...{seconds}'\n",
    "\n",
    "\n",
    "# Vamos a pedir ejecutar 10 veces la funcion con seconds=1\n",
    "\n",
    "start = time.perf_counter()\n",
    "for _ in range(10):\n",
    "    do_something(seconds=1)\n",
    "finish = time.perf_counter()\n",
    "\n",
    "print(finish-start)"
   ]
  },
  {
   "cell_type": "code",
   "execution_count": null,
   "metadata": {},
   "outputs": [
    {
     "name": "stdout",
     "output_type": "stream",
     "text": [
      "Sleeping 1.0 second(s)...\n",
      "Sleeping 1.0 second(s)...\n",
      "Sleeping 1.0 second(s)...\n",
      "Sleeping 1.0 second(s)...\n",
      "Sleeping 1.0 second(s)...\n",
      "Sleeping 1.0 second(s)...\n",
      "Sleeping 1.0 second(s)...\n",
      "Sleeping 1.0 second(s)...\n",
      "Sleeping 1.0 second(s)...\n",
      "Sleeping 1.0 second(s)...\n",
      "10.155907776905224\n"
     ]
    }
   ],
   "source": [
    "# Ejemplo encadenando 10 procesos con multiprocessing.\n",
    "\n",
    "\n",
    "\n",
    "# Forma Erronea\n",
    "start = time.perf_counter()\n",
    "for _ in range(10):\n",
    "    p = multiprocessing.Process(target=do_something,args=[1.])\n",
    "    p.start()\n",
    "    p.join()\n",
    "finish = time.perf_counter()\n",
    "print(finish-start) # Este proceso tardara 10 segundos\n",
    "\n",
    "# El problema aqui es que p.join() se ejecuta antes de crear el siguiente proceso, asi que basicamente estamos haciendo una corrida serial.\n",
    "## Observacion p , no puede ser definido fuera del loop for, nos dara error."
   ]
  },
  {
   "cell_type": "code",
   "execution_count": 13,
   "metadata": {},
   "outputs": [
    {
     "name": "stdout",
     "output_type": "stream",
     "text": [
      "Sleeping 1.0 second(s)...\n",
      "Sleeping 1.0 second(s)...\n",
      "Sleeping 1.0 second(s)...\n",
      "Sleeping 1.0 second(s)...\n",
      "Sleeping 1.0 second(s)...\n",
      "Sleeping 1.0 second(s)...\n",
      "Sleeping 1.0 second(s)...\n",
      "Sleeping 1.0 second(s)...\n",
      "Sleeping 1.0 second(s)...\n",
      "Sleeping 1.0 second(s)...\n"
     ]
    },
    {
     "name": "stdout",
     "output_type": "stream",
     "text": [
      "1.0630228258669376\n"
     ]
    }
   ],
   "source": [
    "# Forma correcta\n",
    "\n",
    "processes = []\n",
    "start = time.perf_counter()\n",
    "for _ in range(10):\n",
    "    p = multiprocessing.Process(target=do_something,kwargs={'seconds':1.})\n",
    "    p.start()\n",
    "    processes.append(p)\n",
    "\n",
    "for process in processes:\n",
    "    process.join()\n",
    "finish = time.perf_counter()\n",
    "print(finish-start)\n",
    "\n",
    "# Como puede verse todo el procedimiento ahora si tardo 1 segundo. Se ha indicado que los procesos se terminen en el otro for loop."
   ]
  },
  {
   "cell_type": "code",
   "execution_count": 58,
   "metadata": {},
   "outputs": [
    {
     "name": "stdout",
     "output_type": "stream",
     "text": [
      "Sleeping 2 second(s)...Sleeping 0 second(s)...Sleeping 1 second(s)...Sleeping 3 second(s)...Sleeping 4 second(s)...\n",
      "\n",
      "\n",
      "\n",
      "\n"
     ]
    },
    {
     "data": {
      "text/plain": [
       "['Done Sleeping...2',\n",
       " 'Done Sleeping...3',\n",
       " 'Done Sleeping...4',\n",
       " 'Done Sleeping...1',\n",
       " 'Done Sleeping...0']"
      ]
     },
     "execution_count": 58,
     "metadata": {},
     "output_type": "execute_result"
    }
   ],
   "source": [
    "# Ahora vamos con la libreria concurrent\n",
    "# with cf.ProcessPoolExecutor() as executor:\n",
    "#     f = executor.submit(do_something, seconds=1)\n",
    "#     print(f.result())\n",
    "\n",
    "# Ahora utilizemos un loop\n",
    "with cf.ProcessPoolExecutor() as executor:\n",
    "    results = [executor.submit(do_something, seconds=sec) for sec in range(5)]\n",
    "\n",
    "# for f in cf.as_completed(results):\n",
    "#     print(f.result())\n",
    "\n",
    "r = [f.result() for f in cf.as_completed(results)]\n",
    "r\n",
    "# Observe como las completadas terminan en desorden."
   ]
  },
  {
   "cell_type": "code",
   "execution_count": null,
   "metadata": {},
   "outputs": [],
   "source": []
  },
  {
   "cell_type": "code",
   "execution_count": null,
   "metadata": {},
   "outputs": [
    {
     "name": "stdout",
     "output_type": "stream",
     "text": [
      "Sleeping 3 second(s)...Sleeping 0 second(s)...Sleeping 1 second(s)...Sleeping 2 second(s)...Sleeping 4 second(s)...\n",
      "\n",
      "\n",
      "\n",
      "\n"
     ]
    },
    {
     "name": "stdout",
     "output_type": "stream",
     "text": [
      "Done Sleeping...0\n",
      "Done Sleeping...3\n",
      "Done Sleeping...2\n",
      "Done Sleeping...1\n",
      "Done Sleeping...4\n"
     ]
    }
   ],
   "source": [
    "# Ultimo ejemplo con map\n",
    "\n",
    "secs = list(range(5))\n",
    "with cf.ProcessPoolExecutor() as executor:\n",
    "    results = list(map(lambda x: executor.submit(do_something, seconds=x), secs))\n",
    "    # results = list(executor.map(lambda x:do_something(seconds=x), secs))\n",
    "\n",
    "for f in cf.as_completed(results):\n",
    "    print(f.result())"
   ]
  },
  {
   "cell_type": "code",
   "execution_count": 46,
   "metadata": {},
   "outputs": [
    {
     "name": "stdout",
     "output_type": "stream",
     "text": [
      "Sleeping 2 second(s)...Sleeping 0 second(s)...Sleeping 3 second(s)...Sleeping 1 second(s)...Sleeping 4 second(s)...\n",
      "\n",
      "\n",
      "\n",
      "\n"
     ]
    },
    {
     "data": {
      "text/plain": [
       "['Done Sleeping...0',\n",
       " 'Done Sleeping...1',\n",
       " 'Done Sleeping...2',\n",
       " 'Done Sleeping...3',\n",
       " 'Done Sleeping...4']"
      ]
     },
     "execution_count": 46,
     "metadata": {},
     "output_type": "execute_result"
    }
   ],
   "source": [
    "# Deal with named parameters\n",
    "def wrap_do_something(seconds):\n",
    "    return do_something(seconds=seconds)\n",
    "\n",
    "with cf.ProcessPoolExecutor() as executor:\n",
    "    results = executor.map(wrap_do_something, secs)\n",
    "\n",
    "list(results)"
   ]
  },
  {
   "cell_type": "code",
   "execution_count": 54,
   "metadata": {},
   "outputs": [
    {
     "name": "stdout",
     "output_type": "stream",
     "text": [
      "[0, 2, 4, 6, 8, 10, 12, 14, 16, 18, 20, 22, 24, 26, 28, 30, 32, 34, 36, 38, 40, 42, 44, 46, 48, 50, 52, 54, 56, 58, 60, 62, 64, 66, 68, 70, 72, 74, 76, 78, 80, 82, 84, 86, 88, 90, 92, 94, 96, 98]\n"
     ]
    }
   ],
   "source": [
    "def calculator(a,b):\n",
    "    return a+b\n",
    "\n",
    "# def calculator(a):\n",
    "#     return a+a\n",
    "\n",
    "a1 = list(range(50))\n",
    "a2 = list(range(50))\n",
    "\n",
    "aa = list(zip(a1,a2))\n",
    "\n",
    "with cf.ProcessPoolExecutor() as executor:\n",
    "    res = executor.map(calculator,a1,a2)\n",
    "\n",
    "print(list(res))"
   ]
  },
  {
   "cell_type": "markdown",
   "metadata": {},
   "source": [
    "# Wrap Up\n",
    "\n",
    "Para paralelizar debo:\n",
    "\n",
    "- with cf.ProcessPoolExecutor() as executor:\n",
    "    - results = executor.map(< funcion>, < valores>)\n",
    "\n",
    "- list(results)\n",
    "\n",
    "- Si los argumentos son nombrados haga un wrapper (Ver ejemplo arriba), queda feo pero es barato:\n",
    "\n",
    "def wrap_do_something(seconds):\n",
    "    return do_something(seconds=seconds) "
   ]
  },
  {
   "cell_type": "markdown",
   "metadata": {},
   "source": [
    "# Paralelizando con Joblib\n",
    "\n",
    "Joblib builds on the Loky library (itself an improvement over Python’s concurrent.futures) and uses cloudpickle to enable the pickling of functions defined in the interactive scope. This solves a couple of common issues that are encountered with the built-in multiprocessing library.\n",
    "\n",
    "## Utilizacion basica:\n",
    "\n",
    "- from joblib import Parallel, delayed\n",
    "\n",
    "- output = Parallel(n_jobs=< cores to use>)(delayed(< function>)(args) for args in arguments)\n",
    "\n",
    "\n",
    "## joblib.Parallel:\n",
    "<a href=\"https://joblib.readthedocs.io/en/latest/generated/joblib.Parallel.html\"> Documentacion </a> oficial.\n",
    "\n",
    "Elementos mas relevantes\n",
    "\n",
    "- n_jobs : Nucleos a utilizar , -1 para utilizar todos, siempre y cuando el backend sea loky.\n",
    "- backend : loky default otros\" [multiprocessing, threading]\n",
    "- return_as : como quieres que se te retorne el output [list, generator, generator_unordered]\n",
    "    - list : se retorna en forma de lista\n",
    "    - generator : se retorna un generador en el orden en el que se enviaron las tareas\n",
    "    - generator_unordered : retorna los resultados en cuanto esten disponibles sin importar el orden en el que se iniciaron.\n",
    "    - verbose : Numero entre [0, 50] nivel de verbosidad en la salida de los procesos. *if non zero, progress messages are printed. Above 50, the output is sent to stdout.*\n",
    "    - timeout : Tiempo maximo asignado para que se complete una tarea. Si una tarea no se completa en tiempo se levantara: TimeOutError, solamente aplicable cuando n_jobs!=1\n",
    "    - pre_dispatch : The number of batches (of tasks) to be pre-dispatched. (Puede ser importante pero todavia no lo entiendo)\n",
    "    - batch_size : The number of atomic tasks to dispatch at once to each worker.\n",
    "    - Otras opciones avanzadas, ver en la documentacion de referencia.\n",
    "\n",
    "## Delayed\n",
    "\n",
    "Es un decorador, utilizado para capturar argumentos de una funcion (Documentacion Oficial)"
   ]
  }
 ],
 "metadata": {
  "kernelspec": {
   "display_name": "vfproject",
   "language": "python",
   "name": "python3"
  },
  "language_info": {
   "codemirror_mode": {
    "name": "ipython",
    "version": 3
   },
   "file_extension": ".py",
   "mimetype": "text/x-python",
   "name": "python",
   "nbconvert_exporter": "python",
   "pygments_lexer": "ipython3",
   "version": "3.12.0"
  }
 },
 "nbformat": 4,
 "nbformat_minor": 2
}
